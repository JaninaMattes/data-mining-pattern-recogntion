{
 "cells": [
  {
   "cell_type": "markdown",
   "metadata": {
    "colab_type": "text",
    "id": "ASeSQ9RFzv3q"
   },
   "source": [
    "# Data Mining Versuch Recommender Systeme\n",
    "\n",
    "* Autor: Prof. Dr. Johannes Maucher\n",
    "* Datum: 30.09.2015\n",
    "\n",
    "[Übersicht Ipython Notebooks im Data Mining Praktikum](Data Mining Praktikum.ipynb)\n",
    "\n",
    "\n",
    "# Einführung\n",
    "## Lernziele:\n",
    "In diesem Versuch sollen Kenntnisse in folgenden Themen vermittelt werden:\n",
    "\n",
    "* __Ähnlichkeit:__ Verfahren zur Bestimmung der Ähnlichkeit zwischen Personen (Kunden) und Elementen (Produkten)\n",
    "* __Empfehlungssysteme__ Collaborative Filtering \n",
    "* __Collaborative Filtering:__ Nutzerbezogener Ansatz und elementbasierter Ansatz\n",
    "\n",
    "Sämtliche Verfahren und Algorithmen werden in Python implementiert.\n",
    "\n",
    "## Theorie zur Vorbereitung\n",
    "### Recommender Systeme\n",
    "Recommender Systeme werden im E-Commerce eingesetzt um Werbung in Form von kundenspezifischen Empfehlungen zu verteilen. Weitläufig bekannt sind die Amazon-Empfehlungen, die entweder per e-mail geschickt oder nach dem Log-In in der Web-Page angezeigt werden. Diese Empfehlungen werden in Abhängigkeit von den bisher vom jeweiligen Kunden gekauften bzw. bewerteten Produkten erstellt. In diesem Versuch werden die derzeit wohl am weitest verbreiteteten Verfahren für die Erzeugung kundenspezifischer Empfehlungen vorgestellt, darunter das elementweise Collaborative Filtering, welches z.B. auch von Amazon eingesetzt wird.     \n",
    "\n",
    "Direkt-Marketing Methoden wie die kundenspezifische Erzeugung und Bereitstellung von Werbung erfordern detaillierte Kunden- und Warenkorbanalysen. Kunden mit ähnlichem Kaufverhalten werden in Kundengruppen zusammengefasst. Die Warenkorbanalyse untersucht u.a. welche Waren bevorzugt im Verbund von der gleichen Person gekauft werden. Damit kann ein Händler Werbung in Form von Empfehlungen individuell und gezielt an seine Kunden richten, abhängig davon welcher Kundengruppe er angehört und welche Produkte bevorzugt von dieser Kundengruppe nachgefragt werden. \n",
    "\n",
    "Im ersten Teil der Übung werden fiktive Daten in einer überschaubaren Menge verwendet. Es handelt sich hier um Filmbewertungen. Anhand dieses Beispiels sollen die notwendigen Methoden und Abläufe implementiert und getestet werden. Diese werden im zweiten Teil der Übung auf echte Daten angewandt. Hierzu werden über eine Python-API Daten vom Internet-Meta-Radio _last.fm_ integriert. Auf der Basis dieser Daten sollen dann Musikempfehlungen für last.fm User berechnet werden. \n",
    "\n",
    "Recommender Systeme lassen sich mit\n",
    "\n",
    "* Clustering Verfahren\n",
    "* Suchalgorithmen\n",
    "* Collaborativen Filtering \n",
    " \n",
    "realisieren. Am häufigsten wird hierbei das Collaborative Filtering eingesetzt. Für das Collaborative Filtering wird jeder der $M$ User durch einen $N$-dimensionalen Vektor beschrieben, wobei $N$ die Anzahl der Produkte im Angebot des Händlers ist. Jedes Element im Vektor gehört zu einem speziellen Produkt. Das Element hat den Wert 1, wenn der User dieses Produkt bereits gekauft hat, sonst 0 (andere Wertbelegungen sind möglich, z.B. wenn Produktbewertungen vorliegen). Alle $M$ Zeilenvektoren können zur _User/Item_ Matrix zusammengefasst werden (siehe Abbildung).\n",
    "\n",
    "![Abbildung User Item Matrix](https://www.hdm-stuttgart.de/~maucher/ipnotebooks/DataMining//Bilder/UserItemMatrix.png \"User Item Matrix\")"
   ]
  },
  {
   "cell_type": "markdown",
   "metadata": {
    "colab_type": "text",
    "id": "rijVxBVHzv3s"
   },
   "source": [
    "Das traditionelle **userbasierte Collaborative Filtering (UCF)**, benutzt die Ähnlichkeit zwischen Benutzern: Um für User $U_i$ eine Empfehlung zu erzeugen wird zunächst der diesem User ähnlichste Kunde (oder eine Menge vom ähnlichsten Kunden) ermittelt. Dann werden $U_i$ die Produkte (Items) empfohlen, welche der ähnlichste Kunde gekauft hat, $U_i$ selbst jedoch noch nicht. \n",
    "\n",
    "Dieser Ansatz skaliert schlecht im Fall sehr großer _User/Item_-Matrizen. Ausserdem ist er für User, welche erst wenige Produkte gekauft haben unzuverlässig. Besser eignet sich in diesen Fällen das **itembasierte Collaborative Filtering (ICF)**. Es wird u.a. von Amazon.com eingesetzt. Diese Variante benutzt die Ähnlichkeit zwischen Produkten (Items). Dabei sind Produkte umso ähnlicher je mehr Kunden diese Produkte gemeinsam gekauft haben. Für die Produkte welche ein Referenzuser $U_i$ bereits gekauft hat, werden die ähnlichsten Produkte ermittelt. Diese ähnlichsten Produkte werden $U_i$ empfohlen, wenn er sie nicht schon selbst gekauft hat.\n",
    "\n",
    "Im folgenden Abschnitt werden einige gebräuchliche Metriken für die Berechnung der Ähnlichkeit zwischen Benutzern oder Artikeln vorgestellt. Für Collaboratives Filtering wird sehr häufig das Cosinus - Ähnlichkeitsmaß eingesetzt.\n"
   ]
  },
  {
   "cell_type": "markdown",
   "metadata": {
    "colab_type": "text",
    "id": "gnOV2OJMzv3t"
   },
   "source": [
    "### Gebräuchliche Ähnlichkeitsmaße\n",
    "\n",
    "Die __euklidische Distanz__ $d_E(\\underline{a},\\underline{b})$ zwischen zwei n-dimensionalen Vektoren $\\underline{a}=(a_1,\\ldots,a_n)$ und $\\underline{b}=(b_1,\\ldots,b_n)$ berechnet sich zu\n",
    "\t$$\n",
    "\td_E(\\underline{a},\\underline{b})=\\sqrt{\\sum_{i=1}^n (a_i-b_i)^2}\n",
    "\t$$\n",
    "Zwei Vektoren können als umso ähnlicher erachtet werden, je kleiner deren euklidische Distanz ist. \n",
    "Ein auf der euklidischen Metrik basierendes Ähnlichkeitsmaß zwischen zwei Vektoren $\\underline{a}$ und $\\underline{b}$ kann durch \n",
    "$$\n",
    "s_E(\\underline{a},\\underline{b})=\\frac{1}{1+d_E(\\underline{a},\\underline{b})}\n",
    "$$\n",
    "angegeben werden.\n",
    "\n",
    "\n",
    "__Pearson Korrelation__\n",
    "Die Ähnlichkeit zwischen zwei Vektoren kann auch durch den Pearson-Korrelationskoeffizient $\\rho_{\\underline{a},\\underline{b}}$ ausgedrückt werden. Er berechnet sich zu\n",
    "$$\n",
    "\\rho_{\\underline{a},\\underline{b}}= \\frac{1}{N}\\cdot \\sum\\limits_{i=1}^{N}\\frac{(a_i-\\overline{a})}{\\sigma_a} \\frac{(b_i-\\overline{b})}{\\sigma_b}\n",
    "$$\n",
    "Dabei bezeichnet $N$ die Länge der Vektoren, $\\overline{a}$ den Mittelwert und $\\sigma_a$ die Standardabweichung des Vektors $\\underline{a}$. \n",
    "\n",
    "Der Pearson-Korrelationskoeffizient misst die lineare Abhängigkeit zwischen zwei Vektoren. Der maximale Wert von $+1$ wird erreicht, wenn die durch die beiden Vektoren definierten N Punkte im 2-dimensionalen Raum auf einer ansteigenden Geraden liegen. Der Minimalwert von $-1$ wird erreicht, wenn die Punkte auf einer abfallenden Geraden liegen. Der Betrag des Koeffizienten ist umso kleiner, je stärker die Punkte von einer fiktiven Geraden (kann durch lineare Regression berechnet werden) abweichen. Der Koeffizient ist $0$ wenn keine lineare Abhängigkeit zwischen den Vektoren besteht.\n",
    "\n",
    "\n",
    "__Cosinus Ähnlichkeitsmaß__\n",
    "Die Ähnlichkeit zwischen zwei Vektoren kann auch durch den Cosinus $\\cos(\\underline{a},\\underline{b})$ ausgedrückt werden. Er berechnet sich zu\n",
    "$$\n",
    "\\cos(\\underline{a},\\underline{b})= \\frac{\\underline{a} \\cdot \\underline{b}}{\\left\\|\\underline{a}\\right\\|\\cdot \\left\\|\\underline{b}\\right\\|}\n",
    "$$\n",
    "wobei im Zähler das Skalarprodukt der beiden Vektoren steht und mit $\\left\\|\\underline{x}\\right\\|$ der Betrag des Vektors $\\underline{x}$ bezeichnet wird.\n",
    "\n",
    "Falls die Vektoren $\\underline{a}$ und $\\underline{b}$ mittelwertfrei sind, ist der Cosinus-Ähnlichkeitswert gleich dem Pearson-Korrelationswert. In der Dokument- und Textanalyse wird vornehmlich das Cosinus-Ähnlichkeitsmaß verwendet. \n",
    "\n",
    "\n",
    "__Russel Rao Ähnlichkeitsmaß__\n",
    "Die Russel Rao-Ähnlichkeit zwischen zwei binären Vektoren $\\underline{a}$ und $\\underline{b}$ mißt das Verhältnis zwischen der Anzahl $\\alpha$ der Stellen in denen beide Vektoren den Wert 1 haben und der Länge $n$ der Vektoren. Z.B. ist für die Vektoren $\\underline{a}=(1,0,1,0,0,1)$ und $\\underline{b}=(0,1,1,1,0,1)$ die Russel-Rao-Ähnlichkeit $s_{RR}(\\underline{a},\\underline{b})=2/6=0.333$.\n",
    "\n",
    "__Jaccard Ähnlichkeitsmaß__\n",
    "Die Jaccard-Ähnlichkeit zwischen zwei binären Vektoren $\\underline{a}$ und $\\underline{b}$ mißt das Verhältnis zwischen der Anzahl $\\alpha$ der Stellen in denen beide Vektoren den Wert $1$ haben und der Anzahl der Stellen in denen mindestens einer der beiden Vektoren ungleich $0$ ist. Z.B. ist für die Vektoren $\\underline{a}=(1,0,1,0,0,1)$ und $\\underline{b}=(0,1,1,1,0,1)$ die Jaccard-Ähnlichkeit $s_{J}(\\underline{a},\\underline{b})=2/5=0.4$. Die Jaccard Metrik wird in diesem Versuch für die Bestimmung der Ähnlichkeit von _last.fm_-Usern eingesetzt.\n"
   ]
  },
  {
   "cell_type": "markdown",
   "metadata": {
    "colab_type": "text",
    "id": "40H7Uyi3zv3v"
   },
   "source": [
    "## Vor dem Versuch zu klärende Fragen\n",
    "Eine Untermenge der im Folgenden aufgeführten Fragen wird zu Beginn des Versuchs im Rahmen eines Gruppenkolloqs abgefragt. Auf jede Frage sollte von mindestens einem Gruppenmitglied eine Antwort geliefert werden und jedes Gruppenmitglied muss mindestens eine der gestellten Fragen beantworten können.\n",
    "\n",
    "**Aufgaben:**\n",
    "\n",
    "* Beschreiben Sie das Prinzip des userbasierten Collaborativen Filtering (UCF)."
   ]
  },
  {
   "cell_type": "markdown",
   "metadata": {
    "colab_type": "text",
    "id": "johAjjXWOaNo"
   },
   "source": [
    "Das Prinzip des _userbasierten Collaborativen Filtering (UCF)_ betrachtet die Ähnlichkeit zwischen zwei Nutzern/Kunden mittels verschiedener Ähnlichkeitsmaßen zum Beispiel der euklidische Distanz oder Pearson Korrelation. Dies bedeutet, um einem Kunden $U_i$ eine Produktempfehlung zu machen wird zuerst eine Menge, diesem Kunden $U_i$ ähnlichen, anderen Kunden ermittelt. Auf Basis dieser kann dem Kunden $U_i$ anschließend eine Produktempfehlung gemacht werden für Produkte, die dieser selbst noch nicht gekauft hat, welche jedoch bereits durch den am ähnlichsten Kunden gekauft wurden. "
   ]
  },
  {
   "cell_type": "markdown",
   "metadata": {
    "colab_type": "text",
    "id": "OQrIxGUrzv34"
   },
   "source": [
    "* Welche Nachteile hat das UCF?"
   ]
  },
  {
   "cell_type": "markdown",
   "metadata": {
    "colab_type": "text",
    "id": "LMXm3fMZPC62"
   },
   "source": [
    "Eine Schwierigkeit des _UCF_ Verfahrens ist, dass dies im Falle sehr großer _User/Item_-Matrizen nur schlecht skaliert. Darüberhinaus ist die Anwendung dieses Prinzips nicht zuverlässig bei Nutzern, welche erst wenige Produkte gekauft haben. \n",
    "\n",
    "In der Praxis übertrifft ein Item-Item-Modell in vielen Anwendungsfällen ein Benutzer-Benutzer-Modell, da man sagen kann, dass Produkte (Items) \"einfacher\" sind als Benutzer. Das bedeutet, dass Produkte (Items) zu einer kleinen Gruppe von Genres gehören, während die Benutzer zum Beispiel sehr unterschiedliche Geschmäcker haben. Außerdem ist die Ähnlichkeit von Items aussagekräftiger als die Ähnlichkeit von Benutzern."
   ]
  },
  {
   "cell_type": "markdown",
   "metadata": {
    "colab_type": "text",
    "id": "aa0Rqubqzv39"
   },
   "source": [
    "* Worin besteht der Unterschied zwischen UCF und itembasierten Collaborativen Filtering (ICF)?"
   ]
  },
  {
   "cell_type": "markdown",
   "metadata": {
    "colab_type": "text",
    "id": "3AZs_hcUQM5D"
   },
   "source": [
    "Das _itembasierte Collaborative Filtering (ICF)_ basiert im Gegensatz zum _UCF_ Prinzip auf der Ähnlichkeit zwischen Produkten (Items). Je mehr Kunden bestimmte Produkte gemeinsam gekauft haben, desto ähnlicher sind diese. Auf dieser Basis werden die ähnlichsten Produkte ermittelt. "
   ]
  },
  {
   "cell_type": "markdown",
   "metadata": {
    "colab_type": "text",
    "id": "xvfu3qawzv4B"
   },
   "source": [
    "* Gegeben seien die Vektoren \n",
    "\n",
    "    \\begin{eqnarray*}\n",
    "    \\underline{a} & = & [1,2,3,4,5,6] \\\\\n",
    "    \\underline{b} & = & [3,3,5,6,7,8] \\\\\n",
    "    \\end{eqnarray*}\n",
    "    \n",
    "    Schreiben Sie eine Python Funktion, die den Mittelwert derartiger Vektoren berechnet. Schreiben Sie eine weitere Funktion, die die Varianz berechnet"
   ]
  },
  {
   "cell_type": "markdown",
   "metadata": {
    "colab_type": "text",
    "id": "qryuP7ZV_euw"
   },
   "source": [
    "#### Mittelwert"
   ]
  },
  {
   "cell_type": "code",
   "execution_count": 1,
   "metadata": {
    "colab": {
     "base_uri": "https://localhost:8080/",
     "height": 50
    },
    "colab_type": "code",
    "id": "K_P6ZiUpzv4C",
    "outputId": "07559bcd-0154-4042-91ba-24c169416d29"
   },
   "outputs": [
    {
     "name": "stdout",
     "output_type": "stream",
     "text": [
      "Mittelwert von Vektor a: 3.5\n",
      "Mittelwert von Vektor b: 5.333333333333333\n"
     ]
    }
   ],
   "source": [
    "a=[1,2,3,4,5,6]\n",
    "b=[3,3,5,6,7,8]\n",
    "\n",
    "def mittelwert (vector):\n",
    "    sum = 0\n",
    "    for i in vector:\n",
    "        sum += i\n",
    "    return sum/len(vector)\n",
    "\n",
    "print(\"Mittelwert von Vektor a:\", mittelwert(a))\n",
    "print(\"Mittelwert von Vektor b:\",mittelwert(b))\n"
   ]
  },
  {
   "cell_type": "markdown",
   "metadata": {
    "colab_type": "text",
    "id": "4lLgA2Uz_qJR"
   },
   "source": [
    "#### Varianz"
   ]
  },
  {
   "cell_type": "code",
   "execution_count": 2,
   "metadata": {
    "colab": {
     "base_uri": "https://localhost:8080/",
     "height": 50
    },
    "colab_type": "code",
    "id": "Qw6BBTY21hq5",
    "outputId": "6058a853-0231-41af-c976-728992a91a40"
   },
   "outputs": [
    {
     "name": "stdout",
     "output_type": "stream",
     "text": [
      "Varianz von Vektor a: 2.9166666666666665\n",
      "Varianz von Vektor b: 3.5555555555555554\n"
     ]
    }
   ],
   "source": [
    "def varianz(vector):\n",
    "    sum = 0\n",
    "    mittel = mittelwert(vector)\n",
    "    for i in vector:\n",
    "        sum += (i-mittel)**2\n",
    "        \n",
    "    return sum/len(vector)\n",
    "    \n",
    "print(\"Varianz von Vektor a:\", varianz(a))\n",
    "print(\"Varianz von Vektor b:\", varianz(b))\n"
   ]
  },
  {
   "cell_type": "markdown",
   "metadata": {
    "colab_type": "text",
    "id": "1z9g3rAlzv4E"
   },
   "source": [
    "* Wie groß ist die\n",
    "\n",
    "    - Euklidische Ähnlichkeit\n",
    "    - Pearson Ähnlichkeit\n",
    "    - Cosinus Ähnlichkeit\n",
    "    \n",
    "    zwischen den Vektoren $\\underline{a}$ und $\\underline{b}$? "
   ]
  },
  {
   "cell_type": "code",
   "execution_count": 3,
   "metadata": {
    "colab": {},
    "colab_type": "code",
    "id": "P_zxVyvM_98m"
   },
   "outputs": [],
   "source": [
    "import math\n",
    "import scipy\n",
    "from scipy import spatial, stats # sonst evtl OS Probleme"
   ]
  },
  {
   "cell_type": "markdown",
   "metadata": {
    "colab_type": "text",
    "id": "NgLowRyqAKmt"
   },
   "source": [
    "**- Euklidische Ähnlichkeit**\n",
    "\n",
    "Zwei Vektoren können als umso ähnlicher erachtet werden, je kleiner deren euklidische Distanz ist."
   ]
  },
  {
   "cell_type": "code",
   "execution_count": 4,
   "metadata": {
    "colab": {
     "base_uri": "https://localhost:8080/",
     "height": 33
    },
    "colab_type": "code",
    "id": "GOVeI4XRzv4F",
    "outputId": "9d7515df-ff6f-41c1-8047-0877f07b7821"
   },
   "outputs": [
    {
     "name": "stdout",
     "output_type": "stream",
     "text": [
      "Euklid: 4.58257569495584\n"
     ]
    }
   ],
   "source": [
    "print(\"Euklid:\", scipy.spatial.distance.euclidean(a,b))"
   ]
  },
  {
   "cell_type": "markdown",
   "metadata": {
    "colab_type": "text",
    "id": "u3I23E9zAS2E"
   },
   "source": [
    "**- Pearson Ähnlichkeit**\n",
    "\n",
    "Der Pearson-Korrelationskoeffizient misst die lineare Abhängigkeit zwischen zwei Vektoren. Der maximale Wert ist +1 und der Minimalwert -1. Der Betrag des Koeffizienten ist umso kleiner, je stärker die Punkte von einer fiktiven Geraden (kann durch lineare Regression berechnet werden) abweichen. Der Koeffizient ist  0  wenn keine lineare Abhängigkeit zwischen den Vektoren besteht.\n",
    "\n"
   ]
  },
  {
   "cell_type": "code",
   "execution_count": 5,
   "metadata": {
    "colab": {
     "base_uri": "https://localhost:8080/",
     "height": 33
    },
    "colab_type": "code",
    "id": "f9IsC53IAAw8",
    "outputId": "1bc2ad5e-c097-47c1-d69c-17b37a88ffeb"
   },
   "outputs": [
    {
     "name": "stdout",
     "output_type": "stream",
     "text": [
      "Pearson: (0.9833434220628547, 0.0004138517691427288)\n"
     ]
    }
   ],
   "source": [
    "print(\"Pearson:\", scipy.stats.pearsonr(a,b))"
   ]
  },
  {
   "cell_type": "markdown",
   "metadata": {
    "colab_type": "text",
    "id": "Q3ble5k-AYxu"
   },
   "source": [
    "**- Cosinus Ähnlichkeit**\n",
    "\n",
    "Kosinus-Ähnlichkeit ist ein Maß für die Ähnlichkeit zweier Vektoren. Die Kosinus-Ähnlichkeit liegt zwischen −1 (genau entgegengerichtet) und 1 (genau gleichgerichtet). Ein Wert von 0 bedeutet üblicherweise Unabhängigkeit (Orthogonalität). Zwischenwerte zeigen Ähnlichkeit oder Unähnlichkeit an.\n",
    "In der Dokument- und Textanalyse wird vornehmlich das Cosinus-Ähnlichkeitsmaß verwendet.\n",
    "\n",
    "\n",
    "Die Berechnung der Kosinusdistanz mit normalisierten Werten ( _zentrierte Kosinusähnlichkeit_ ) erfasst die Intuition besser, da fehlende Bewertungen als \"Durchschnitt\" behandelt werden und sie kann sowohl mit \"harten Bewertern\" als auch mit \"leichten Bewertern\" einfach umgehen. Auf diese Weise zeigt ein Wert nahe Null eine höhere Ähnlichkeit.\n",
    "Dieses Ähnlichkeitsmaß ist auch bekannt als **Pearson-Korrelation** ( _zentrierte Cosinus-Ähnlichkeit_ ). "
   ]
  },
  {
   "cell_type": "code",
   "execution_count": 6,
   "metadata": {
    "colab": {
     "base_uri": "https://localhost:8080/",
     "height": 33
    },
    "colab_type": "code",
    "id": "GfLftnvZACZb",
    "outputId": "4ec73830-45f6-4acd-b6a9-ab8e8bdd19e4"
   },
   "outputs": [
    {
     "name": "stdout",
     "output_type": "stream",
     "text": [
      "Cosinus: 0.9910600847451639\n"
     ]
    }
   ],
   "source": [
    "print(\"Cosinus:\", (1-scipy.spatial.distance.cosine(a,b)))"
   ]
  },
  {
   "cell_type": "markdown",
   "metadata": {
    "colab_type": "text",
    "id": "cCcElTaVzv4H"
   },
   "source": [
    "* In welchen Fällen sind Cosinus- und Pearsonähnlichkeit der euklidischen Ähnlichkeit vorzuziehen?"
   ]
  },
  {
   "cell_type": "markdown",
   "metadata": {
    "colab_type": "text",
    "id": "tsdqTk7YZcDD"
   },
   "source": [
    "Die euklidische Ähnlichkeit nutzt absolute Werte zur Berechnung der Ähnlichkeit. Das heißt, wenn Werte skaliert werden ändert sich auch die euklidische Ähnlichkeit.\n",
    "\n",
    "Bei Cosinus- und Pearsonähnlichkeit ändern sich die Werte beim skalieren nicht. Man nutzt diese Ähnlichkeiten wenn man Korrelationen unabhängig von der absoluten Distanz von Werten bestimmen will.\n",
    "\n",
    "Die Kosinusähnlichkeit betrachtet den Winkel zwischen zwei Vektoren, während die euklidische Ähnlichkeit den Abstand zwischen zwei Punkten misst. Falls die Vektoren _a_, _b_ keinen Mittelwert haben, d.h. mittelwertfrei sind, so ist der Kosinus-Ähnlichkeitswert gleich dem Pearson-Korrelationswert. Die Kosinusähnlichkeit wird im Allgemeinen als Metrik zur Entfernungsmessung verwendet, wenn die Größe der Vektoren keine Rolle spielt. \n",
    "Dies geschieht z.B. bei der Arbeit mit Textdaten, die durch Wortzahlen dargestellt werden. \n",
    "\n"
   ]
  },
  {
   "cell_type": "code",
   "execution_count": 7,
   "metadata": {
    "colab": {},
    "colab_type": "code",
    "id": "w68IK6rvzv4K"
   },
   "outputs": [],
   "source": [
    "from IPython.display import Latex\n",
    "from IPython.display import Image"
   ]
  },
  {
   "cell_type": "markdown",
   "metadata": {
    "colab_type": "text",
    "id": "cPgxOOb6zv4M"
   },
   "source": [
    "# Versuchsdurchführung\n",
    "## Teil 1: Fiktive Filmbewertung\n",
    "### Daten\n",
    "Folgende Tabelle enthält die Filmbewertungen von 7 Personen.\n",
    "from IPython.display import Latex\n",
    "In diesem Versuch sollen Kenntnisse in folgenden Themen vermittelt werden:\n",
    "\n",
    "![Abbildung Bewertung Fiktive Kunden](https://www.hdm-stuttgart.de/~maucher/ipnotebooks/DataMining/Bilder/recommenderFilmRecommendations.PNG)"
   ]
  },
  {
   "cell_type": "markdown",
   "metadata": {
    "colab_type": "text",
    "id": "sGcbipW-zv4N"
   },
   "source": [
    "Die Tabelle ist als Python dictionary _critics_ implementiert. Die Keys des Python-Dictionary definieren die Namen von Personen (Zeilen in der Matrix), die Filme bewertet haben. Die Values sind selbst wieder Dictionarys, welche als Keys die Filmnamen (Spalten in der Matrix) und als Values die jeweilige Filmbewertung (Matrixelment) enthalten."
   ]
  },
  {
   "cell_type": "code",
   "execution_count": 8,
   "metadata": {
    "colab": {},
    "colab_type": "code",
    "id": "j5eflLHXzv4N"
   },
   "outputs": [],
   "source": [
    "critics={'Lisa Rose': {'Lady in the Water': 2.5, 'Snakes on a Plane': 3.5,\n",
    " 'Just My Luck': 3.0, 'Superman Returns': 3.5, 'You, Me and Dupree': 2.5, \n",
    " 'The Night Listener': 3.0},\n",
    "'Gene Seymour': {'Lady in the Water': 3.0, 'Snakes on a Plane': 3.5, \n",
    " 'Just My Luck': 1.5, 'Superman Returns': 5.0, 'The Night Listener': 3.0, \n",
    " 'You, Me and Dupree': 3.5}, \n",
    "'Michael Phillips': {'Lady in the Water': 2.5, 'Snakes on a Plane': 3.0,\n",
    " 'Superman Returns': 3.5, 'The Night Listener': 4.0},\n",
    "'Claudia Puig': {'Snakes on a Plane': 3.5, 'Just My Luck': 3.0,\n",
    " 'The Night Listener': 4.5, 'Superman Returns': 4.0, \n",
    " 'You, Me and Dupree': 2.5},\n",
    "'Mick LaSalle': {'Lady in the Water': 3.0, 'Snakes on a Plane': 4.0, \n",
    " 'Just My Luck': 2.0, 'Superman Returns': 3.0, 'The Night Listener': 3.0,\n",
    " 'You, Me and Dupree': 2.0}, \n",
    "'Jack Matthews': {'Lady in the Water': 3.0, 'Snakes on a Plane': 4.0,\n",
    " 'The Night Listener': 3.0, 'Superman Returns': 5.0, 'You, Me and Dupree': 3.5},\n",
    "'Toby': {'Snakes on a Plane':4.5,'You, Me and Dupree':1.0,'Superman Returns':4.0}\n",
    "}"
   ]
  },
  {
   "cell_type": "markdown",
   "metadata": {
    "colab_type": "text",
    "id": "3bo23w_Jzv4Q"
   },
   "source": [
    "### Ähnlichkeiten berechnen\n",
    "\n",
    "Für die Bestimmung der Ähnlichkeit zwischen Personen und Produkten werden in diesem Versuch ein auf der euklidischen Distanz basierendes Ähnlichkeitsmaß und die Pearson-Korrelation verwendet. Beide Ähnlichkeitsmaße sind in den unten definierten Funktionen implementiert. Alle drei hier implementierten Funktionen zur Berechnung der Ähnlichkeit erhalten als Übergabeparameter das oben definierte Dictionary, das die Filmbewertungen enthält und die Namen der zwei Personen, die verglichen werden sollen. \n",
    "\n",
    "Zu beachten ist, dass in beiden Funktionen für die Berechnung der Ähnlichkeit zwischen zwei Personen nur die Produkte berücksichtigt werden, welche von beiden Personen schon bewertet wurden. Es handelt sich hier also um modifizierte Ähnlichkeitsfunktionen. \n",
    "\n",
    "__Aufgabe:__\n",
    "Fragen Sie von diesem Dictionary _Toby's_ Bewertung des Films _Snakes on a Plane_ ab und geben Sie diesen Wert aus: "
   ]
  },
  {
   "cell_type": "code",
   "execution_count": 9,
   "metadata": {
    "colab": {
     "base_uri": "https://localhost:8080/",
     "height": 33
    },
    "colab_type": "code",
    "id": "rb1imUrDzv4R",
    "outputId": "4712844e-7e28-41bf-e9e5-a9f59dc8a12c"
   },
   "outputs": [
    {
     "name": "stdout",
     "output_type": "stream",
     "text": [
      "Bewertung von Toby für Snakes on a Plane:  4.5\n"
     ]
    }
   ],
   "source": [
    "print('Bewertung von Toby für Snakes on a Plane: ', critics.get(\"Toby\").get(\"Snakes on a Plane\"))"
   ]
  },
  {
   "cell_type": "code",
   "execution_count": 10,
   "metadata": {},
   "outputs": [],
   "source": [
    "import numpy as np\n",
    "import scipy.spatial.distance as sci"
   ]
  },
  {
   "cell_type": "code",
   "execution_count": 11,
   "metadata": {
    "colab": {},
    "colab_type": "code",
    "id": "iiZdcwgJzv4S"
   },
   "outputs": [],
   "source": [
    "def sim_euclid(prefs,person1,person2,normed=True):\n",
    "    ''' Returns a euclidean-distance-based similarity score for \n",
    "    person1 and person2. In the distance calculation the sum is computed \n",
    "    only over those items, which are nonzero for both instances, i.e. only\n",
    "    films which are ranked by both persons are regarded.\n",
    "    If the parameter normed is True, then the euclidean distance is divided by\n",
    "    the number of non-zero elements integrated in the distance calculation. Thus\n",
    "    the effect of larger distances in the case of an increasing number of commonly ranked\n",
    "    items is avoided.\n",
    "    '''\n",
    "    # Get the list of shared_items\n",
    "    si={}\n",
    "    for item in prefs[person1]: \n",
    "        if item in prefs[person2]: si[item]=1\n",
    "    # len(si) counts the number of common ratings\n",
    "    # if they have no ratings in common, return 0\n",
    "    if len(si)==0: return 0\n",
    "\n",
    "    # Add up the squares of all the differences\n",
    "    sum_of_squares=np.sqrt(sum([pow(prefs[person1][item]-prefs[person2][item],2) \n",
    "                     for item in prefs[person1] if item in prefs[person2]]))\n",
    "    if normed:\n",
    "        sum_of_squares= 1.0/len(si)*sum_of_squares\n",
    "    return 1/(1+sum_of_squares)\n",
    "\n",
    "\n",
    "def sim_pearson(prefs,p1,p2):\n",
    "    '''\n",
    "    Returns the Pearson correlation coefficient for p1 and p2\n",
    "    '''\n",
    "    \n",
    "    # Get the list of commonly rated items\n",
    "    si={}\n",
    "    for item in prefs[p1]: \n",
    "        if item in prefs[p2]: si[item]=1\n",
    "\n",
    "    # if they are no ratings in common, return 0\n",
    "    if len(si)==0: return 0\n",
    "\n",
    "    # Sum calculations\n",
    "    n=len(si)\n",
    "  \n",
    "    # Calculate means of person 1 and 2\n",
    "    mp1=np.mean([prefs[p1][it] for it in si])\n",
    "    mp2=np.mean([prefs[p2][it] for it in si])\n",
    "  \n",
    "    # Calculate standard deviation of person 1 and 2\n",
    "    sp1=np.std([prefs[p1][it] for it in si])\n",
    "    sp2=np.std([prefs[p2][it] for it in si])\n",
    "  \n",
    "    # If all elements in one sample are identical, the standard deviation is 0. \n",
    "    # In this case there is no linear correlation between the samples\n",
    "    if sp1==0 or sp2==0:\n",
    "        return 0\n",
    "    r=1/(n*sp1*sp2)*sum([(prefs[p1][it]-mp1)*(prefs[p2][it]-mp2) for it in si])\n",
    "    return r\n",
    "\n",
    "\n",
    "def sim_RusselRao(prefs,person1,person2,normed=True):\n",
    "    ''' Returns RusselRao similaritiy between 2 users. The RusselRao similarity just counts the number\n",
    "    of common non-zero components of the two vectors and divides this number by N, where N is the length\n",
    "    of the vectors. If normed=False, the division by N is omitted.\n",
    "    '''\n",
    "    # Get the list of shared_items\n",
    "    si={}\n",
    "    commons=0\n",
    "    for item in prefs[person1]: \n",
    "        if prefs[person1][item]==1 and prefs[person2][item]==1:   \n",
    "            commons+=1\n",
    "    #print commons\n",
    "    if not normed:\n",
    "        return commons\n",
    "    else:\n",
    "        return commons*1.0/len(prefs[person1]) "
   ]
  },
  {
   "cell_type": "markdown",
   "metadata": {
    "colab_type": "text",
    "id": "qVgg_JNhzv4U"
   },
   "source": [
    "**Aufgabe:**\n",
    "1. Geben Sie die euklidische Ähnlichkeit und die Pearson Ähnlichkeit zwischen den Personen _Toby_ und _Lisa Rose_ aus."
   ]
  },
  {
   "cell_type": "code",
   "execution_count": 12,
   "metadata": {
    "colab": {
     "base_uri": "https://localhost:8080/",
     "height": 50
    },
    "colab_type": "code",
    "id": "_UytKh6S1BUp",
    "outputId": "3148a31f-3228-4c6b-fd17-cd4835cad59f"
   },
   "outputs": [
    {
     "name": "stdout",
     "output_type": "stream",
     "text": [
      "Euklidische Ähnlichkeit:  0.615911621788925\n"
     ]
    }
   ],
   "source": [
    "print('Euklidische Ähnlichkeit: ', sim_euclid(critics,'Lisa Rose','Toby'))"
   ]
  },
  {
   "cell_type": "code",
   "execution_count": 13,
   "metadata": {},
   "outputs": [
    {
     "name": "stdout",
     "output_type": "stream",
     "text": [
      "Pearson Ähnlichkeit:  0.9912407071619302\n"
     ]
    }
   ],
   "source": [
    "print('Pearson Ähnlichkeit: ', sim_pearson(critics,'Lisa Rose','Toby'))"
   ]
  },
  {
   "cell_type": "markdown",
   "metadata": {
    "colab_type": "text",
    "id": "TpoAT76-58wV"
   },
   "source": [
    "2. Diskutieren Sie die unterschiedlichen Ähnlichkeitswert."
   ]
  },
  {
   "cell_type": "markdown",
   "metadata": {
    "colab_type": "text",
    "id": "S2hlSHoN2S1j"
   },
   "source": [
    "Die Ähnlichkeitswerte liefern für die User Lisa Rose und Toby ein sehr unterschiedliches Ergebnis. Lisa Rose hat insgesamt 6 Filme bewertet, während Toby nur 3 bewertet hat. Im Falle der euklidischen Ähnlichkeit sind nur die  absoluten Werte in die Berechnung eingeflossen, bei denen von beiden Personen Bewertungen vorliegen. Es ergibt sich daher ein Wert von 0.61.\n",
    "Die Pearson Ähnlichkeit mit 0.99 ist hier sehr hoch, da beide Personen die Filme ähnlich bewertet haben. Zum Beispiel ist der Film \"You, me and dupree\" im Vergleich zu den anderen Filmen von beiden am schlechtesten bewertet worden."
   ]
  },
  {
   "cell_type": "markdown",
   "metadata": {
    "colab_type": "text",
    "id": "rlZK47GUzv4U"
   },
   "source": [
    "__Aufgabe:__\n",
    "1. Schreiben Sie eine Funktion _topMatches(prefs,person,similarity)_, welche für eine beliebige in _critics_ enthaltene Person die Ähnlichkeitswerte zu allen anderen Personen berechnet und in einer geordneten Liste zurück gibt. Der Funktion soll als Übergabeparameter auch die anzuwendende Ähnlichkeitsfunktion (*sim_euclid* oder *sim_pearson*) übergeben werden können. Berechnen Sie mit dieser Funktion für jede Person die *top matches*, zunächst unter Verwendung der euklidischen- dann unter Verwendung der Pearson-Ähnlichkeit."
   ]
  },
  {
   "cell_type": "code",
   "execution_count": 14,
   "metadata": {
    "colab": {},
    "colab_type": "code",
    "id": "qlRAM-EMzv4V"
   },
   "outputs": [],
   "source": [
    "def topMatches(prefs,person,similarity):\n",
    "    matches = []\n",
    "    for p in prefs:\n",
    "        if p != person:\n",
    "            matches.append((p, similarity(prefs, person, p)))\n",
    "            \n",
    "    matches.sort(key=lambda tup: tup[1], reverse=True)\n",
    "    return matches"
   ]
  },
  {
   "cell_type": "code",
   "execution_count": 15,
   "metadata": {
    "colab": {
     "base_uri": "https://localhost:8080/",
     "height": 86
    },
    "colab_type": "code",
    "id": "8Y7V-b9pQHZq",
    "outputId": "35607b56-9392-486f-9e3a-346ad508fd11"
   },
   "outputs": [
    {
     "name": "stdout",
     "output_type": "stream",
     "text": [
      "Euclid top matches of all persons: \n",
      " [['Lisa Rose', [('Mick LaSalle', 0.8092564301694538), ('Michael Phillips', 0.7815501047457912), ('Claudia Puig', 0.7597469266479578), ('Jack Matthews', 0.7208254886814803), ('Gene Seymour', 0.714462989423532), ('Toby', 0.615911621788925)]], ['Gene Seymour', [('Jack Matthews', 0.9090909090909091), ('Lisa Rose', 0.714462989423532), ('Mick LaSalle', 0.6978305207480379), ('Michael Phillips', 0.6737986373538911), ('Claudia Puig', 0.6622946603252993), ('Toby', 0.5108747069239427)]], ['Michael Phillips', [('Lisa Rose', 0.7815501047457912), ('Claudia Puig', 0.7759907622602041), ('Mick LaSalle', 0.7166996059009808), ('Gene Seymour', 0.6737986373538911), ('Jack Matthews', 0.6534537935444722), ('Toby', 0.5584815598877471)]], ['Claudia Puig', [('Michael Phillips', 0.7759907622602041), ('Lisa Rose', 0.7597469266479578), ('Mick LaSalle', 0.6964322291925094), ('Gene Seymour', 0.6622946603252993), ('Jack Matthews', 0.6534537935444722), ('Toby', 0.6246387977050463)]], ['Mick LaSalle', [('Lisa Rose', 0.8092564301694538), ('Michael Phillips', 0.7166996059009808), ('Gene Seymour', 0.6978305207480379), ('Claudia Puig', 0.6964322291925094), ('Jack Matthews', 0.6666666666666666), ('Toby', 0.6666666666666666)]], ['Jack Matthews', [('Gene Seymour', 0.9090909090909091), ('Lisa Rose', 0.7208254886814803), ('Mick LaSalle', 0.6666666666666666), ('Michael Phillips', 0.6534537935444722), ('Claudia Puig', 0.6534537935444722), ('Toby', 0.5227744249483389)]], ['Toby', [('Mick LaSalle', 0.6666666666666666), ('Claudia Puig', 0.6246387977050463), ('Lisa Rose', 0.615911621788925), ('Michael Phillips', 0.5584815598877471), ('Jack Matthews', 0.5227744249483389), ('Gene Seymour', 0.5108747069239427)]]] \n",
      "\n",
      "Pearson top matches of all persons: \n",
      " [['Lisa Rose', [('Toby', 0.9912407071619302), ('Jack Matthews', 0.747017880833996), ('Mick LaSalle', 0.5940885257860046), ('Claudia Puig', 0.5669467095138409), ('Michael Phillips', 0.40451991747794525), ('Gene Seymour', 0.39605901719066977)]], ['Gene Seymour', [('Jack Matthews', 0.963795681875633), ('Mick LaSalle', 0.4117647058823529), ('Lisa Rose', 0.39605901719066977), ('Toby', 0.3812464258315117), ('Claudia Puig', 0.31497039417435596), ('Michael Phillips', 0.20459830184114203)]], ['Michael Phillips', [('Claudia Puig', 1.0000000000000002), ('Lisa Rose', 0.40451991747794525), ('Gene Seymour', 0.20459830184114203), ('Jack Matthews', 0.13483997249264842), ('Mick LaSalle', -0.2581988897471611), ('Toby', -1.0)]], ['Claudia Puig', [('Michael Phillips', 1.0000000000000002), ('Toby', 0.8934051474415644), ('Lisa Rose', 0.5669467095138409), ('Mick LaSalle', 0.5669467095138409), ('Gene Seymour', 0.31497039417435596), ('Jack Matthews', 0.02857142857142857)]], ['Mick LaSalle', [('Toby', 0.9244734516419051), ('Lisa Rose', 0.5940885257860046), ('Claudia Puig', 0.5669467095138409), ('Gene Seymour', 0.4117647058823529), ('Jack Matthews', 0.21128856368212914), ('Michael Phillips', -0.2581988897471611)]], ['Jack Matthews', [('Gene Seymour', 0.9637956818756331), ('Lisa Rose', 0.7470178808339961), ('Toby', 0.6628489803598703), ('Mick LaSalle', 0.21128856368212914), ('Michael Phillips', 0.13483997249264842), ('Claudia Puig', 0.02857142857142857)]], ['Toby', [('Lisa Rose', 0.9912407071619302), ('Mick LaSalle', 0.9244734516419051), ('Claudia Puig', 0.8934051474415642), ('Jack Matthews', 0.6628489803598703), ('Gene Seymour', 0.3812464258315117), ('Michael Phillips', -1.0)]]]\n"
     ]
    }
   ],
   "source": [
    "# Top matches of all persons\n",
    "\n",
    "top_matches_euclid = []\n",
    "top_matches_pearson = []\n",
    "\n",
    "\n",
    "for name in critics:\n",
    "    top_matches_euclid.append([name,topMatches(critics, name, sim_euclid)])\n",
    "    top_matches_pearson.append([name,topMatches(critics, name, sim_pearson)])\n",
    "\n",
    "print('Euclid top matches of all persons: \\n', top_matches_euclid, '\\n')\n",
    "print('Pearson top matches of all persons: \\n', top_matches_pearson)"
   ]
  },
  {
   "cell_type": "markdown",
   "metadata": {
    "colab_type": "text",
    "id": "I2w_JBPK6Gdd"
   },
   "source": [
    "2. Geben Sie mit der implementierten Funktion die *top matches* der Person Toby aus."
   ]
  },
  {
   "cell_type": "code",
   "execution_count": 16,
   "metadata": {
    "colab": {
     "base_uri": "https://localhost:8080/",
     "height": 50
    },
    "colab_type": "code",
    "id": "ptTl9IWUFELr",
    "outputId": "d56e830b-2861-42a2-e601-934213f54ad8"
   },
   "outputs": [
    {
     "name": "stdout",
     "output_type": "stream",
     "text": [
      "Euclid top Matches Toby:  [('Mick LaSalle', 0.6666666666666666), ('Claudia Puig', 0.6246387977050463), ('Lisa Rose', 0.615911621788925), ('Michael Phillips', 0.5584815598877471), ('Jack Matthews', 0.5227744249483389), ('Gene Seymour', 0.5108747069239427)]\n"
     ]
    }
   ],
   "source": [
    "print('Euclid top Matches Toby: ',topMatches(critics, 'Toby', sim_euclid))"
   ]
  },
  {
   "cell_type": "code",
   "execution_count": 17,
   "metadata": {},
   "outputs": [
    {
     "name": "stdout",
     "output_type": "stream",
     "text": [
      "Pearson top Matches Toby:  [('Lisa Rose', 0.9912407071619302), ('Mick LaSalle', 0.9244734516419051), ('Claudia Puig', 0.8934051474415642), ('Jack Matthews', 0.6628489803598703), ('Gene Seymour', 0.3812464258315117), ('Michael Phillips', -1.0)]\n"
     ]
    }
   ],
   "source": [
    "print('Pearson top Matches Toby: ',topMatches(critics, 'Toby', sim_pearson))"
   ]
  },
  {
   "cell_type": "markdown",
   "metadata": {
    "colab_type": "text",
    "id": "2NjucjyZ6O4f"
   },
   "source": [
    "3. Vergleichen Sie die beiden Ähnlichkeitsmaße. Welches Ähnlichkeitsmaß erscheint Ihnen für diesen Anwendungsfall sinnvoller und warum?"
   ]
  },
  {
   "cell_type": "markdown",
   "metadata": {
    "colab_type": "text",
    "id": "SnCA7rqBoMPP"
   },
   "source": [
    "Im Fall von Toby ist die pearson Ähnlichkeit die bessere Wahl. Kriterium ist hierbei ob beide Personen die gleichen Filme bereits bewertet haben und wie ähnlich sich die angegebenen Bewertungen sind. Dabei ist Toby am ähnlichsten mit der Person Lisa Rose. Beide haben die selben Filme bewertet und sehr ähnliche Bewertungen abgegeben. Am unähnlichsten ist Toby mit der Person Michael Philipps, was Sinn ergibt, da sie nur für zwei gleiche Filme eine Bewertung abgegeben haben.\n",
    "\n",
    "Für den Anwendungsfall der Filmempfehlung ist die Pearson Ähnlichkeit sinnvoller, da es Korrelationen aufzeigt, unabhängig von den absoluten Bewertungen. Jeder Mensch bewertet unterschiedlich, manche vergeben z.B. viel häufiger die maximale Punktzahl als andere, die hat bei der Pearson Ähnlichkeit keinen Einfluss."
   ]
  },
  {
   "cell_type": "markdown",
   "metadata": {
    "colab_type": "text",
    "id": "xfZlnIl-zv4W"
   },
   "source": [
    "### Berechnung von Empfehlungen mit User basiertem Collaborative Filtering\n",
    "Für die Produkte, die von einer Person noch nicht gekauft wurden, sollen Empfehlungen berechnet werden. Die Empfehlungen können ebenfalls Werte zwischen 1 (wird nicht empfohlen) und 5 (wird stark empfohlen) annehmen. Für die Berechnung der Empfehlung werden die Bewertungen des jeweiligen Produkts durch die anderen Personen herangezogen. Dabei werden die Bewertungen der ähnlichen Personen (d.h. hoher Pearson-Korrelationswert) stärker mit einbezogen als die Bewertungen durch Personen mit einem niedrigen Korrelationswert.\n",
    "\n",
    "__Beispiel:__\n",
    "Toby hat die Filme _The Night Listener_, _Lady in the Water_ und _Just My Luck_ noch nicht gekauft. Für diese Filme soll für Toby eine Empfehlung berechnet werden.\n",
    "In der unten aufgeführten Tabelle enthält die zweite Spalte die _Pearson-Ähnlichkeitswerte_ zwischen Toby und den anderen Personen. Die Spalten 3, 5 und 7 enthalten die Bewertungen der Filme _The Night Listener_, _Lady in the Water_ und _Just My Luck_ durch die anderen Personen. Die Spalten 4, 6 und 8 enthalten die jeweilige Filmbewertung gewichtet (mulipliziert) mit den Ähnlichkeitswerten der jeweiligen Person. Es fällt auf, dass in der Tabelle _Michael_ nicht enthalten ist. Das liegt daran, dass _Michael_ und _Toby_ einen negativen Ähnlichkeitswert aufweisen, d.h. deren Interessen sind gegenläufig. Personen mit negativem Ähnlichkeitswert sollten für Empfehlungen nicht berücksichtigt werden.\n",
    "Die Zeile _Sum_ enthält die Summe aller gewichteten Bewertungen. Aus diesem Wert allein kann die Empfehlung noch nicht abgeleitet werden, da Filme die nur von wenigen Personen bewertet wurden, eine relativ kleine Summe ergeben. Deshalb sollte _Sum_ noch durch die Anzahl der Bewertungen für diesen Film geteilt werden. Oder besser: Nicht durch die Summe der Bewertungen, sondern durch die Summe der relevanten Ähnlichkeitswerte (_KSum_). Der resultierende Empfehlungswert ist in der letzten Zeile eingetragen.\n",
    "\n",
    "\n",
    "![Abbildung Calculate Recommendation](https://www.hdm-stuttgart.de/~maucher/ipnotebooks/DataMining/Bilder/recommenderFilmCalculation.PNG)\n"
   ]
  },
  {
   "cell_type": "markdown",
   "metadata": {
    "colab_type": "text",
    "id": "R0yCgf4jzv4W"
   },
   "source": [
    "__Aufgabe:__\n",
    "Schreiben Sie eine Funktion _getRecommendations(prefs,person,similarity)_, mit der die Empfehlungswerte berechnet werden können und bestimmen Sie die Empfehlungswerte für Toby. Der Funktion wird  \n",
    "\n",
    "* das Dictionary _critics_ mit den Filmbewertungen, \n",
    "* der Name der Person, für welche Empfehlungen berechnet werden sollen\n",
    "* die Methode für die Berechnung der Ähnlichkeit *sim_euclid* oder *sim_pearson*\n",
    "\n",
    "übergeben. Die Methode soll eine geordnete Liste zurück geben. Jedes Listenelement enthält an erster Stelle den berechneten Empfehlungswert und an zweiter Stelle den Namen des Films. Die Liste soll nach Empfehlungswerten absteigend geordnet sein.\n",
    "\n",
    "Testen Sie diese Funktion indem Sie die Empfehlungen für _Toby_ berechnen und mit den Werten in der oben aufgeführten Tabelle vergleichen."
   ]
  },
  {
   "cell_type": "code",
   "execution_count": 18,
   "metadata": {
    "colab": {},
    "colab_type": "code",
    "id": "3b5bGMFzCZqJ"
   },
   "outputs": [],
   "source": [
    "def getRecommendations(prefs, person, similarity):\n",
    "    recommendations = []\n",
    "    korrelation = topMatches(prefs,person,similarity)\n",
    "    #Alle Filme in eine Liste schreiben\n",
    "    filmList = []\n",
    "    for i in prefs:\n",
    "        for f in prefs[i]:\n",
    "            if f not in filmList:\n",
    "                filmList.append(f)\n",
    "    #schon bewertete Filme entfernen\n",
    "    for k,v in prefs[person].items():\n",
    "        if v>0:\n",
    "            filmList.remove(k)\n",
    "    \n",
    "    for film in filmList:\n",
    "        sumRating = 0\n",
    "        sumKorr = 0\n",
    "        \n",
    "        for person in korrelation:\n",
    "            if person[1] >=0:\n",
    "                #print(person)\n",
    "                if film in list(prefs[person[0]]):\n",
    "                    sumRating += person[1]*prefs[person[0]][film]\n",
    "                    sumKorr += person[1]\n",
    "        \n",
    "        recommendations.append((sumRating/sumKorr,film))\n",
    "    recommendations.sort(reverse=True)\n",
    "    return recommendations"
   ]
  },
  {
   "cell_type": "code",
   "execution_count": 19,
   "metadata": {
    "colab": {
     "base_uri": "https://localhost:8080/",
     "height": 66
    },
    "colab_type": "code",
    "id": "QXKSY2YbK0RD",
    "outputId": "f7a74447-4cba-493e-d3cc-caa73221621b"
   },
   "outputs": [
    {
     "data": {
      "text/plain": [
       "[(3.3477895267131013, 'The Night Listener'),\n",
       " (2.8325499182641622, 'Lady in the Water'),\n",
       " (2.5309807037655645, 'Just My Luck')]"
      ]
     },
     "execution_count": 19,
     "metadata": {},
     "output_type": "execute_result"
    }
   ],
   "source": [
    "getRecommendations(critics,\"Toby\",sim_pearson)"
   ]
  },
  {
   "cell_type": "markdown",
   "metadata": {
    "colab_type": "text",
    "id": "KGIJpUQRK4Jq"
   },
   "source": [
    "Beim Vergleichen der Werte fällt auf, dass die Werte fast übereinstimmen. Wir gehen davon aus, dass die geringe Abweichung auf den gerundeten Werten der Tabelle basieren."
   ]
  },
  {
   "cell_type": "markdown",
   "metadata": {
    "colab_type": "text",
    "id": "P-1jIhGBzv4Y"
   },
   "source": [
    "### Berechnung von Empfehlungen mit Item basiertem Collaborative Filtering\n",
    "In den vorigen Aufgaben wurden Ähnlichkeiten zwischen Personen bestimmt und für Produktempfehlungen benutzt (User basiertes Collaborative Filtering). Jetzt soll die Ähnlichkeit zwischen Produkten berechnet werden und auf der Basis dieser Produktähnlichkeit Empfehlungen berechnet werden (Item basiertes Collaborative Filtering).\n",
    "\n",
    "Dabei sollen die bereits implementierten Ähnlichkeitsfunktion *sim_euclid* und *sim_pearson* sowie die Ähnlichkeeits-Sortierfunktion *topMatches* unverändert eingesetzt werden.\n",
    "\n",
    "__Aufgabe:__\n",
    "\n",
    "1. Implementieren Sie eine Funktion, welche das Bewertungsdictionary *critics* derart transformiert, dass die Funktionen *sim_euclid*, *sim_pearson* und *topMatches* für das Item-basierte CF unverändert eingesetzt werden können. Die transformierte Matrix soll unter dem Namen *transCritics* abgespeichert werden.\n",
    "2. Schreiben Sie eine Funktion *calculateSimilarItems*, die aus der transformierten Matrix *transCritics* ein Dictionary berechnet, welches die Ähnlichkeit zwischen allen Filmen beschreibt. Die Keys des Dictionary sind die Filmnamen. Die Values sind geordnete Listen, welche die Funktion *topMatches* zurückgibt, wenn sie für die Filme (nicht für die User) aufgerufen wird. Dieses Dictionary wird an das aufrufende Programm zurück geben. \n",
    "3. Schreiben Sie eine Funktion *getRecommendedItems*, welche basierend auf dem im unten aufgeführten Beispiel dargestellten Verfahren unter Vorgabe der Bewertungsmatrix und der zu verwendenden Ähnlichkeitsfunktion Produktempfehlungen berechnet.\n",
    "4. Testen Sie die Funktion indem Sie die Empfehlungen für Toby berechnen und mit den Werten in der unten aufgeführten Tabelle vergleichen\n",
    "\n",
    "__Erläuterndes Beispiel:__\n",
    "\n",
    "_Toby_ hat die Filme *The Night Listener*, *Lady in the Water* und *Just My Luck* noch nicht gekauft. Für diese Filme soll für *Toby* eine Empfehlung berechnet werden. Gekauft und bewertet hat *Toby* die Filme *Snakes on a plane*, *Superman Returns* und *You and me and Dupree*. Diese bereits vorhandenen Filme bilden die erste Spalte der unten dargestellten Matrix. In der zweiten Spalte befinden sich _Toby's_ Bewertungen dieser Filme. Die Spalten 3,5 und 7 enthalten die Ähnlichkeitswerte (mit *calculateSimilarItems* unter Verwendung des normierten euklidischen Ähnlichkeitsmaßes berechnet) zwischen den drei von *Toby* noch nicht gekauften Filmen und den drei von _Toby_ bewerteten Filmen. Diese Ähnlichkeitswerte werden jeweils mit _Toby's_ Bewertungen multipliziert. Das Resultat dieser Multiplikation befindet sich in den Spalten 4,6 und 8. Der finale Empfehlungswert für die von _Toby_ noch nicht gekauften Filme wird berechnet in dem in den Spalten 4,6 und 8 zunächst die Summe über die Werte dieser Spalte in den drei oberen Zeilen berechnet wird und durch die Summe über die Werte der Spalten 3,5 und 7 geteilt wird. Im Fall, dass die *Pearson-Korrelation* zwischen den Filmen als Ähnlichkeitswert herangezogen wird, können negative Ähnlichkeitswerte auftreten. Dann soll in die Berechnung eines Empfehlungswert für Film A nur dann die Bewertung von Film B einfließen, wenn der Korrelationswert zwischen beiden $>0$ ist.  \n",
    "\n",
    "![Abbildung Calculate Itembased Recommendation](https://www.hdm-stuttgart.de/~maucher/ipnotebooks/DataMining/Bilder/recommenderFilmItemBased.PNG)"
   ]
  },
  {
   "cell_type": "markdown",
   "metadata": {
    "colab_type": "text",
    "id": "CdB60FTa6eTY"
   },
   "source": [
    "1. Implementieren Sie eine Funktion, welche das Bewertungsdictionary *critics* derart transformiert, dass die Funktionen *sim_euclid*, *sim_pearson* und *topMatches* für das Item-basierte CF unverändert eingesetzt werden können. Die transformierte Matrix soll unter dem Namen *transCritics* abgespeichert werden."
   ]
  },
  {
   "cell_type": "code",
   "execution_count": 20,
   "metadata": {
    "colab": {},
    "colab_type": "code",
    "id": "y_XYdbf9qtaZ"
   },
   "outputs": [],
   "source": [
    "import collections"
   ]
  },
  {
   "cell_type": "code",
   "execution_count": 21,
   "metadata": {
    "colab": {},
    "colab_type": "code",
    "id": "6PPDPH__zv4Z"
   },
   "outputs": [],
   "source": [
    "def transform(dictionary):\n",
    "    transDict = collections.defaultdict(dict)\n",
    "    for user, itemDict in dictionary.items():\n",
    "        for i in itemDict:\n",
    "            transDict[i][user] = itemDict[i] \n",
    "    return dict(transDict)"
   ]
  },
  {
   "cell_type": "code",
   "execution_count": 22,
   "metadata": {
    "colab": {},
    "colab_type": "code",
    "id": "fRrRbnJ573BC"
   },
   "outputs": [],
   "source": [
    "transCritics = transform(critics)"
   ]
  },
  {
   "cell_type": "markdown",
   "metadata": {
    "colab_type": "text",
    "id": "hOBYfvOVLlj4"
   },
   "source": [
    "Da wir jetzt das Item basierte CF einsetzen, wird das ursprüngliche Dictionary _critics_ transformiert, sodass anstelle des Nutzers als Key ein Produkt/Item verwendet wird."
   ]
  },
  {
   "cell_type": "markdown",
   "metadata": {
    "colab_type": "text",
    "id": "vboWbPLA6hwT"
   },
   "source": [
    "2. Schreiben Sie eine Funktion *calculateSimilarItems*, die aus der transformierten Matrix *transCritics* ein Dictionary berechnet, welches die Ähnlichkeit zwischen allen Filmen beschreibt. Die Keys des Dictionary sind die Filmnamen. Die Values sind geordnete Listen, welche die Funktion *topMatches* zurückgibt, wenn sie für die Filme (nicht für die User) aufgerufen wird. Dieses Dictionary wird an das aufrufende Programm zurück geben. "
   ]
  },
  {
   "cell_type": "code",
   "execution_count": 23,
   "metadata": {
    "colab": {},
    "colab_type": "code",
    "id": "qS0Y_K4Aqkvz"
   },
   "outputs": [],
   "source": [
    "def calculateSimilarItems(transCritics, similarity):\n",
    "    similarDict = {}\n",
    "    for movie in transCritics:\n",
    "        similarDict[movie] = topMatches(transCritics, movie, similarity)\n",
    "    return similarDict    "
   ]
  },
  {
   "cell_type": "markdown",
   "metadata": {
    "colab_type": "text",
    "id": "cvVm-vI_6mKm"
   },
   "source": [
    "3. Schreiben Sie eine Funktion *getRecommendedItems*, welche basierend auf dem im unten aufgeführten Beispiel dargestellten Verfahren unter Vorgabe der Bewertungsmatrix und der zu verwendenden Ähnlichkeitsfunktion Produktempfehlungen berechnet."
   ]
  },
  {
   "cell_type": "code",
   "execution_count": 24,
   "metadata": {
    "colab": {},
    "colab_type": "code",
    "id": "e2bfKOjKSE4y"
   },
   "outputs": [],
   "source": [
    "def getRecommendedItems(prefs, person, similarity):\n",
    "    recommendations = []\n",
    "    filmKorrelation = calculateSimilarItems(transCritics, similarity)\n",
    "    #Alle Filme in eine Liste schreiben\n",
    "    filmList = []\n",
    "    for i in prefs:\n",
    "        for f in prefs[i]:\n",
    "            if f not in filmList:\n",
    "                filmList.append(f)\n",
    "    #schon bewertete Filme entfernen\n",
    "    filmList = set(filmList) - set(prefs[person])\n",
    "    \n",
    "    \n",
    "    for film in filmList:\n",
    "        sumKorr = 0\n",
    "        sumRatingKorr = 0.0\n",
    "        for ratedFilm in prefs[person]:\n",
    "            rating = prefs[person][ratedFilm]\n",
    "            for korrelation in filmKorrelation[ratedFilm]:\n",
    "                if korrelation[0] == film and korrelation[1] > 0:\n",
    "                    sumRatingKorr += rating * korrelation[1]\n",
    "                    sumKorr += korrelation[1]\n",
    "            \n",
    "           \n",
    "        if sumKorr == 0:\n",
    "            recommendations.append((0, film))\n",
    "        else:    \n",
    "            recommendations.append((sumRatingKorr/sumKorr, film))\n",
    "        \n",
    "    recommendations.sort(reverse=True)    \n",
    "    return recommendations         \n"
   ]
  },
  {
   "cell_type": "markdown",
   "metadata": {
    "colab_type": "text",
    "id": "jYgPChot6p_C"
   },
   "source": [
    "4. Testen Sie die Funktion indem Sie die Empfehlungen für Toby berechnen und mit den Werten in der unten aufgeführten Tabelle vergleichen"
   ]
  },
  {
   "cell_type": "code",
   "execution_count": 25,
   "metadata": {
    "colab": {
     "base_uri": "https://localhost:8080/",
     "height": 66
    },
    "colab_type": "code",
    "id": "D2RjRrpRSXdh",
    "outputId": "6964db41-0bb4-4217-93b5-d0c1185cc8c8"
   },
   "outputs": [
    {
     "data": {
      "text/plain": [
       "[(3.20449096016088, 'The Night Listener'),\n",
       " (3.082136961799338, 'Lady in the Water'),\n",
       " (3.041861869079099, 'Just My Luck')]"
      ]
     },
     "execution_count": 25,
     "metadata": {},
     "output_type": "execute_result"
    }
   ],
   "source": [
    "getRecommendedItems(critics, \"Toby\", sim_euclid)"
   ]
  },
  {
   "cell_type": "markdown",
   "metadata": {
    "colab_type": "text",
    "id": "BIi28alrM5uB"
   },
   "source": [
    "Beim Vergleichen der Werte fällt auf, dass die Werte fast übereinstimmen. Wir gehen davon aus, dass die geringe Abweichung auf den gerundeten Werten der Tabelle basieren."
   ]
  },
  {
   "cell_type": "markdown",
   "metadata": {
    "colab_type": "text",
    "id": "T0p3TgIpzv4a"
   },
   "source": [
    "## last.fm Musikempfehlungen\n",
    "Kopieren Sie die Datei _pylast.py_ vom _Resources_-Ordner im _DataMining_-Ordner des Skripteservers in das Verzeichnis dieses _IPython Notebooks_. In dieser Datei sind alle Zugriffsfunktionen auf _last.fm_ Dienste implementiert. Die notwendigen Anmelde- und Authentifizierungsdaten für den User _pythonlab_ sind ebenfalls schon in diesem Modul eingetragen.\n",
    "\n",
    "__Aufgabe:__\n",
    "\n",
    "1. Stellen Sie durch Aufruf der Funktion *network=pylast.get_lastfm_network()* eine Verbindung zu *last.fm* her. Beim Aufruf der Funktion wird die Anmeldung und Authentifizierung durchgeführt. Die Funktion gibt ein Objekt der Klasse *Network* zurück. Über dieses Objekt können Methoden, wie\n",
    "\n",
    "    * *get_artist(\"kuenstlerName\")* (liefert Objekt der Klasse _Artist_)\n",
    "    * *get_album(\"albumName\")* (liefert Objekt der Klasse _Album_)\n",
    "    * *get_track(\"songName\")* (liefert Objekt der Klasse _Track_)\n",
    "    * *get_user(\"userName\"):* (liefert Objekt der Klass_Tag_)\n",
    "    * usw.\n",
    "    \n",
    "      aufgerufen werden. Die Menge aller verfügbaren Klassen und deren Attribute und Methoden können dem Modul _pylast.py_ entnommen werden.\n",
    "\n",
    "2. Rufen Sie über das oben instanziierte _Network_-Objekt die Methode *get_artist(\"BandIhrerWahl\")* auf.\n",
    "3. Rufen Sie über das oben instanziierte _Artist_-Objekt die Methode *topfans=get_top_fans(10)* auf. Die Methode gibt eine Liste von _User_-Objekt/Gewichtung-Paaren zurück. Die Gewichtungen von Objekten werden in diesem Versuch nicht benötigt. Legen Sie deshalb mit _group=[a.item for a in topfan]_ eine Liste an, die nur noch die User Objekte enthält. **Wichtige Anmerkung:** Seit August 2015 gibt es Probleme mit der lastFM API Methode *get_top_fans()* (siehe auch: [pylast issues](https://github.com/pylast/pylast/issues/155s)). Falls am Versuchstermin der Fehler noch nicht behoben ist, können Sie den unten stehenden Code benutzen. Darin wird versucht auf die API-Methode zuzugreifen. Falls das nicht möglich ist, wird eine vordefinierte Liste von Usern angewandt. Diese Liste repräsentiert die *Top Fans* der Band *Slipknot* im Frühjahr 2015. \n",
    "4. Implementieren Sie eine Funktion *createLastfmUserDict()*. Dieser Funktion soll, die oben angelegte Liste von _User_-Objekten _group_ übergeben werden. Für jeden User in *group* sollen die 20 beliebtesten Bands mit der Methode *topartists=get_top_artists()[0:20]* bestimmt werden. Die Methode gibt eine Liste von *Artist*-Objekt/Gewichtung-Paaren zurück. Die Gewichtungen von Objekten werden in diesem Versuch nicht benötigt. Auf das *i.te* *Artist*-Objekt selbst kann mit *topartists[i].item* zugegriffen werden. Die Menge aller Bands, die auf diese Weise gesammelt werden, wird im folgenden mit _AllBands_ bezeichnet. D.h. in *AllBands* befinden sich alle Bands, die für mindestens einen User in *group* zu den Top-20 gehören. Nun soll ein verschachteltes Dictionary mit Namen *userDict* wie folgt angelegt werden:\n",
    "\n",
    "    * Die Keys sind die Namen der _User_-Objekte in _group_. Auf den Namen eines Objekts kann mit *get_name()* zugegriffen werden.\n",
    "    * Die Values sind selbst wieder Dictionaries, deren Keys die Namen der Bands in *AllBands* sind. Achten Sie auch hier darauf, dass Sie nicht das *Artist*-Objekt selbst, sondern dessen Namen als Key verwenden. \n",
    "    * Für den User *a* und die Band *b* ist der Value *userDict[a][b]= 1*, falls *b* zu den Top-20 des Users *a* gehört. Andernfalls ist *userDict[a][b]= 0*. \n",
    "    \n",
    "    Das derart angelegte Dictionary soll von der Funktion zurückgegeben werden. \n",
    "5. Wählen Sie jetzt einen beliebigen User aus *group*. Bestimmen Sie zu diesem User die ähnlichsten User in *group* durch Anwendung der im ersten Teilversuch implementierten Funktion *topMatches()*. Der Funktion wird das angelegte *userDict* und der Name des gewählten Users übergeben. Als Ähnlichkeitsmaß soll die euklidische Metrik angewandt werden.\n",
    "6. Bestimmen Sie dann für den gewählten User Band-Empfehlungen durch Anwendung der im ersten Teilversuch implementierten Funktion *getRecommendations()*. Der Funktion wird das angelegte *userDict* und der Name des gewählten Users übergeben. Als Ähnlichkeitsmaß soll die euklidische Metrik, danach die Russel_Rao Metrik, angewandt werden.     \n",
    "7. Diskutieren Sie das Ergebnis"
   ]
  },
  {
   "cell_type": "markdown",
   "metadata": {
    "colab_type": "text",
    "id": "SRJQS60I601G"
   },
   "source": [
    "1. Stellen Sie durch Aufruf der Funktion *network=pylast.get_lastfm_network()* eine Verbindung zu *last.fm* her. Beim Aufruf der Funktion wird die Anmeldung und Authentifizierung durchgeführt. Die Funktion gibt ein Objekt der Klasse *Network* zurück. Über dieses Objekt können Methoden, wie\n",
    "\n",
    "    * *get_artist(\"kuenstlerName\")* (liefert Objekt der Klasse _Artist_)\n",
    "    * *get_album(\"albumName\")* (liefert Objekt der Klasse _Album_)\n",
    "    * *get_track(\"songName\")* (liefert Objekt der Klasse _Track_)\n",
    "    * *get_user(\"userName\"):* (liefert Objekt der Klass_Tag_)\n",
    "    * usw.\n",
    "    \n",
    "      aufgerufen werden. Die Menge aller verfügbaren Klassen und deren Attribute und Methoden können dem Modul _pylast.py_ entnommen werden."
   ]
  },
  {
   "cell_type": "code",
   "execution_count": 26,
   "metadata": {
    "colab": {
     "base_uri": "https://localhost:8080/",
     "height": 1000
    },
    "colab_type": "code",
    "id": "glkmsnJbzv4a",
    "outputId": "fa3f94ce-24f5-4cc5-908a-ab8f9090ed2e"
   },
   "outputs": [],
   "source": [
    "import pylast"
   ]
  },
  {
   "cell_type": "code",
   "execution_count": 27,
   "metadata": {
    "colab": {},
    "colab_type": "code",
    "id": "qlL0VI3BrMfv"
   },
   "outputs": [],
   "source": [
    "# API key and secret key\n",
    "API_KEY = \"a20050eb12e8982389a48771106c098b\"\n",
    "API_SECRET = \"bef41ac107fae73ad2ee71b7e6fff10a\"\n",
    "# Authentication order to perform a write operation \n",
    "username = \"pythonlabhdm\"\n",
    "password_hash = pylast.md5(\"pythonlabhdm123#\")"
   ]
  },
  {
   "cell_type": "code",
   "execution_count": 28,
   "metadata": {
    "colab": {},
    "colab_type": "code",
    "id": "NVzrIHKFrUAo"
   },
   "outputs": [],
   "source": [
    "# Connect to last.fm API\n",
    "network = pylast.LastFMNetwork(api_key=API_KEY, api_secret=API_SECRET,\n",
    "                               username=username, password_hash=password_hash)"
   ]
  },
  {
   "cell_type": "markdown",
   "metadata": {
    "colab_type": "text",
    "id": "lWdTGl62OU2C"
   },
   "source": [
    "Über das Pylast Framework wird die Verbindung zur lastFM API hergestellt. Ebenso wird hier auch das Errorhandling durch die pylast library übernommen. Verschiedene angebotene Methoden ermöglichen das Abrufen von Daten der lastFM API endpoints."
   ]
  },
  {
   "cell_type": "markdown",
   "metadata": {
    "colab_type": "text",
    "id": "nTwf411C7Ovm"
   },
   "source": [
    "2. Rufen Sie über das oben instanziierte _Network_-Objekt die Methode *get_artist(\"BandIhrerWahl\")* auf."
   ]
  },
  {
   "cell_type": "code",
   "execution_count": 29,
   "metadata": {
    "colab": {},
    "colab_type": "code",
    "id": "TDREVmsyrXye"
   },
   "outputs": [],
   "source": [
    "# Keyword to search for\n",
    "band = \"Slipknot\"\n",
    "# Retrieve artist object from network\n",
    "artist = network.get_artist(band)"
   ]
  },
  {
   "cell_type": "markdown",
   "metadata": {
    "colab_type": "text",
    "id": "skxkiWyFQBWm"
   },
   "source": [
    "3. Rufen Sie über das oben instanziierte _Artist_-Objekt die Methode *topfans=get_top_fans(10)* auf. Die Methode gibt eine Liste von _User_-Objekt/Gewichtung-Paaren zurück. Die Gewichtungen von Objekten werden in diesem Versuch nicht benötigt. Legen Sie deshalb mit _group=[a.item for a in topfan]_ eine Liste an, die nur noch die User Objekte enthält. **Wichtige Anmerkung:** Seit August 2015 gibt es Probleme mit der lastFM API Methode *get_top_fans()* (siehe auch: [pylast issues](https://github.com/pylast/pylast/issues/155s)). Falls am Versuchstermin der Fehler noch nicht behoben ist, können Sie den unten stehenden Code benutzen. Darin wird versucht auf die API-Methode zuzugreifen. Falls das nicht möglich ist, wird eine vordefinierte Liste von Usern angewandt. Diese Liste repräsentiert die *Top Fans* der Band *Slipknot* im Frühjahr 2015. "
   ]
  },
  {
   "cell_type": "code",
   "execution_count": 30,
   "metadata": {
    "colab": {},
    "colab_type": "code",
    "id": "-2P8eLG1QzdV"
   },
   "outputs": [],
   "source": [
    "def createGroup(usernames):\n",
    "    group=[]\n",
    "    # Generate group of users\n",
    "    for user in usernames:\n",
    "        u = network.get_user(user)\n",
    "        group.append(u)\n",
    "    return group"
   ]
  },
  {
   "cell_type": "code",
   "execution_count": 31,
   "metadata": {
    "colab": {
     "base_uri": "https://localhost:8080/",
     "height": 53
    },
    "colab_type": "code",
    "id": "YmnHFWxPrash",
    "outputId": "80ed199c-e44d-4953-c17e-946d54562950"
   },
   "outputs": [
    {
     "name": "stdout",
     "output_type": "stream",
     "text": [
      "[pylast.User('BrunoJoS', pylast.LastFMNetwork('a20050eb12e8982389a48771106c098b', 'bef41ac107fae73ad2ee71b7e6fff10a', 'd4cSERkbvRbQuNrdHlHwoivVYbCYGfxR', 'pythonlabhdm', '821fed35e8dae6734563a102aed305f9')), pylast.User('DPREBOYE', pylast.LastFMNetwork('a20050eb12e8982389a48771106c098b', 'bef41ac107fae73ad2ee71b7e6fff10a', 'd4cSERkbvRbQuNrdHlHwoivVYbCYGfxR', 'pythonlabhdm', '821fed35e8dae6734563a102aed305f9')), pylast.User('MPistol40', pylast.LastFMNetwork('a20050eb12e8982389a48771106c098b', 'bef41ac107fae73ad2ee71b7e6fff10a', 'd4cSERkbvRbQuNrdHlHwoivVYbCYGfxR', 'pythonlabhdm', '821fed35e8dae6734563a102aed305f9')), pylast.User('NemoNightfall', pylast.LastFMNetwork('a20050eb12e8982389a48771106c098b', 'bef41ac107fae73ad2ee71b7e6fff10a', 'd4cSERkbvRbQuNrdHlHwoivVYbCYGfxR', 'pythonlabhdm', '821fed35e8dae6734563a102aed305f9')), pylast.User('SkyRif', pylast.LastFMNetwork('a20050eb12e8982389a48771106c098b', 'bef41ac107fae73ad2ee71b7e6fff10a', 'd4cSERkbvRbQuNrdHlHwoivVYbCYGfxR', 'pythonlabhdm', '821fed35e8dae6734563a102aed305f9')), pylast.User('Wags1382', pylast.LastFMNetwork('a20050eb12e8982389a48771106c098b', 'bef41ac107fae73ad2ee71b7e6fff10a', 'd4cSERkbvRbQuNrdHlHwoivVYbCYGfxR', 'pythonlabhdm', '821fed35e8dae6734563a102aed305f9')), pylast.User('Znapsen', pylast.LastFMNetwork('a20050eb12e8982389a48771106c098b', 'bef41ac107fae73ad2ee71b7e6fff10a', 'd4cSERkbvRbQuNrdHlHwoivVYbCYGfxR', 'pythonlabhdm', '821fed35e8dae6734563a102aed305f9')), pylast.User('cortapsyco', pylast.LastFMNetwork('a20050eb12e8982389a48771106c098b', 'bef41ac107fae73ad2ee71b7e6fff10a', 'd4cSERkbvRbQuNrdHlHwoivVYbCYGfxR', 'pythonlabhdm', '821fed35e8dae6734563a102aed305f9')), pylast.User('emill_67', pylast.LastFMNetwork('a20050eb12e8982389a48771106c098b', 'bef41ac107fae73ad2ee71b7e6fff10a', 'd4cSERkbvRbQuNrdHlHwoivVYbCYGfxR', 'pythonlabhdm', '821fed35e8dae6734563a102aed305f9')), pylast.User('sattuviitana', pylast.LastFMNetwork('a20050eb12e8982389a48771106c098b', 'bef41ac107fae73ad2ee71b7e6fff10a', 'd4cSERkbvRbQuNrdHlHwoivVYbCYGfxR', 'pythonlabhdm', '821fed35e8dae6734563a102aed305f9'))]\n"
     ]
    }
   ],
   "source": [
    "# Retrieve data of top fans - hint the top_fans endpoint got removed at the last.fm API\n",
    "# In this case a dummy list with users from Slipknot in 2015 are used\n",
    "\n",
    "usernames=['BrunoJoS','DPREBOYE','MPistol40','NemoNightfall','SkyRif','Wags1382','Znapsen','cortapsyco','emill_67','sattuviitana']\n",
    "# Generate list of real user objects\n",
    "group = createGroup(usernames)\n",
    "\n",
    "print(group)"
   ]
  },
  {
   "cell_type": "markdown",
   "metadata": {
    "colab_type": "text",
    "id": "hqlkPimoRpBJ"
   },
   "source": [
    "Das Userobjekt gibt den Namen des Users als String sowie ein Baseobjekt und Chartable (=Werte zu Künstlern, Wöchentliche Charts, Titel, Album) als Hashwert zurück. Außerdem bekommt man Anmeldeinformationen des angemeldeten Accounts der eine Anfrage an den Endpoint sendet. \n",
    "Das Userobjekt enthält verschiedene Methoden um Infos abzurufen wie zum Beispiel Freundeslisten, favorisierte Tracks und aktuell gehörter Songtitel."
   ]
  },
  {
   "cell_type": "markdown",
   "metadata": {
    "colab_type": "text",
    "id": "tggehWJf7nSj"
   },
   "source": [
    "4. Implementieren Sie eine Funktion *createLastfmUserDict()*. Dieser Funktion soll, die oben angelegte Liste von _User_-Objekten _group_ übergeben werden. Für jeden User in *group* sollen die 20 beliebtesten Bands mit der Methode *topartists=get_top_artists()[0:20]* bestimmt werden. Die Methode gibt eine Liste von *Artist*-Objekt/Gewichtung-Paaren zurück. Die Gewichtungen von Objekten werden in diesem Versuch nicht benötigt. Auf das *i.te* *Artist*-Objekt selbst kann mit *topartists[i].item* zugegriffen werden. Die Menge aller Bands, die auf diese Weise gesammelt werden, wird im folgenden mit _AllBands_ bezeichnet. D.h. in *AllBands* befinden sich alle Bands, die für mindestens einen User in *group* zu den Top-20 gehören. Nun soll ein verschachteltes Dictionary mit Namen *userDict* wie folgt angelegt werden:\n",
    "\n",
    "    * Die Keys sind die Namen der _User_-Objekte in _group_. Auf den Namen eines Objekts kann mit *get_name()* zugegriffen werden.\n",
    "    * Die Values sind selbst wieder Dictionaries, deren Keys die Namen der Bands in *AllBands* sind. Achten Sie auch hier darauf, dass Sie nicht das *Artist*-Objekt selbst, sondern dessen Namen als Key verwenden. \n",
    "    * Für den User *a* und die Band *b* ist der Value *userDict[a][b]= 1*, falls *b* zu den Top-20 des Users *a* gehört. Andernfalls ist *userDict[a][b]= 0*. \n",
    "    \n",
    "    Das derart angelegte Dictionary soll von der Funktion zurückgegeben werden. "
   ]
  },
  {
   "cell_type": "code",
   "execution_count": 32,
   "metadata": {
    "colab": {},
    "colab_type": "code",
    "id": "mJjVipYfrdg3"
   },
   "outputs": [],
   "source": [
    "def createLastfmUserDict(usergroup):\n",
    "    userDict = {}\n",
    "    allbands = []\n",
    "    \n",
    "    for user in usergroup:\n",
    "        bands = []\n",
    "        topartists = user.get_top_artists()[:20]                \n",
    "        # filter all unique bands\n",
    "        for i in range(len(topartists)):\n",
    "            if topartists[i] in allbands:\n",
    "                pass\n",
    "            else:\n",
    "                allbands.append(topartists[i].item)\n",
    "                bands.append(topartists[i].item.get_name())\n",
    "        # store user values in nested dict\n",
    "        userDict[user.get_name()] = bands\n",
    "    \n",
    "    # fill user dictionary\n",
    "    for user, bands in userDict.items():\n",
    "        banddict = {}\n",
    "        # iterate through all bands\n",
    "        for i in range(len(allbands)):\n",
    "            if allbands[i].get_name() in bands:\n",
    "                banddict[allbands[i].get_name()] = 1\n",
    "            else:\n",
    "                banddict[allbands[i].get_name()] = 0                \n",
    "        userDict[user] = banddict\n",
    "    return userDict    "
   ]
  },
  {
   "cell_type": "code",
   "execution_count": 33,
   "metadata": {
    "colab": {},
    "colab_type": "code",
    "id": "U78Clv81ri1U"
   },
   "outputs": [],
   "source": [
    "userDict = createLastfmUserDict(group) \n",
    "# print(userDict)"
   ]
  },
  {
   "cell_type": "markdown",
   "metadata": {},
   "source": [
    "5. Wählen Sie jetzt einen beliebigen User aus *group*. Bestimmen Sie zu diesem User die ähnlichsten User in *group* durch Anwendung der im ersten Teilversuch implementierten Funktion *topMatches()*. Der Funktion wird das angelegte *userDict* und der Name des gewählten Users übergeben. Als Ähnlichkeitsmaß soll die euklidische Metrik angewandt werden."
   ]
  },
  {
   "cell_type": "code",
   "execution_count": 34,
   "metadata": {
    "colab": {
     "base_uri": "https://localhost:8080/",
     "height": 70
    },
    "colab_type": "code",
    "id": "YNneKe17rmfA",
    "outputId": "a59b682c-2f1a-420c-8d8d-c5cb2e9c8109"
   },
   "outputs": [
    {
     "name": "stdout",
     "output_type": "stream",
     "text": [
      "Most similar users to NemoNightfall are: \n",
      "[('BrunoJoS', 0.9661433761058489), ('SkyRif', 0.9649966597060822), ('MPistol40', 0.9628201459954477), ('sattuviitana', 0.9628201459954477), ('Znapsen', 0.9617834394904459), ('cortapsyco', 0.9617834394904459), ('emill_67', 0.9617834394904459), ('DPREBOYE', 0.9607772914620958), ('Wags1382', 0.9607772914620958)]\n"
     ]
    }
   ],
   "source": [
    "# picked the user 'NemoNightfall'\n",
    "user = 'NemoNightfall'\n",
    "# Calculate the most similar users to 'user'\n",
    "similarityList = topMatches(userDict, user, sim_euclid)\n",
    "\n",
    "print('Most similar users to {} are: \\n{}'.format(user, similarityList))"
   ]
  },
  {
   "cell_type": "markdown",
   "metadata": {},
   "source": [
    "6. Bestimmen Sie dann für den gewählten User Band-Empfehlungen durch Anwendung der im ersten Teilversuch implementierten Funktion *getRecommendations()*. Der Funktion wird das angelegte *userDict* und der Name des gewählten Users übergeben. Als Ähnlichkeitsmaß soll die euklidische Metrik, danach die Russel_Rao Metrik, angewandt werden."
   ]
  },
  {
   "cell_type": "code",
   "execution_count": 35,
   "metadata": {
    "colab": {
     "base_uri": "https://localhost:8080/",
     "height": 102
    },
    "colab_type": "code",
    "id": "VTpdSZ-vrp2w",
    "outputId": "cbf627e7-f62b-422b-f860-eda1d8b18f86"
   },
   "outputs": [
    {
     "name": "stdout",
     "output_type": "stream",
     "text": [
      "Recommended songs with euclid for NemoNightfall are: \n",
      "[(0.5556762166812153, 'Korn'), (0.444427219455934, 'Rage Against the Machine'), (0.3336625102501815, 'Rammstein'), (0.33353015128636526, 'Red Hot Chili Peppers'), (0.33353015128636526, 'Metallica'), (0.2225296469796473, 'Muse'), (0.2225296469796473, 'Foo Fighters'), (0.22251694916204953, 'Sabaton'), (0.22241351302490028, 'Arctic Monkeys'), (0.22239728801583106, 'Lamb of God'), (0.22226572654106844, 'In Flames'), (0.22214606539484996, 'Pendulum'), (0.22214606539484996, 'Limp Bizkit'), (0.22214606539484996, 'Avenged Sevenfold'), (0.22202640424863151, 'Pink Floyd'), (0.2219102702938845, 'Coheed and Cambria'), (0.11151644485533155, 'The Killers'), (0.11151644485533155, 'Sum 41'), (0.11151644485533155, 'Radiohead'), (0.11151644485533155, 'Queens of the Stone Age'), (0.11151644485533155, 'Pitty'), (0.11151644485533155, 'Madonna'), (0.11151644485533155, 'M.I.A.'), (0.11151644485533155, 'Lady Gaga'), (0.11151644485533155, 'Green Day'), (0.11151644485533155, 'Coldplay'), (0.11138408589151531, 'Wintersun'), (0.11138408589151531, 'Tenacious D'), (0.11138408589151531, 'Powerwolf'), (0.11138408589151531, 'Pentakill'), (0.11138408589151531, 'Howard Shore'), (0.11138408589151531, 'Hans Zimmer'), (0.11138408589151531, 'DragonForce'), (0.11138408589151531, 'Arch Enemy'), (0.11138408589151531, 'Amon Amarth'), (0.11113286327053422, 'Volbeat'), (0.11113286327053422, 'Turmion Kätilöt'), (0.11113286327053422, 'Tool'), (0.11113286327053422, 'Team Sleep'), (0.11113286327053422, 'Stam1na'), (0.11113286327053422, 'Soulfly'), (0.11113286327053422, 'Sonata Arctica'), (0.11113286327053422, 'Soilwork'), (0.11113286327053422, 'Scar Symmetry'), (0.11113286327053422, 'Queen'), (0.11113286327053422, 'Nine Inch Nails'), (0.11113286327053422, 'Nightwish'), (0.11113286327053422, 'Lindemann'), (0.11113286327053422, 'Leevi and the Leavings'), (0.11113286327053422, 'Klamydia'), (0.11113286327053422, 'Dmitri Shostakovich'), (0.11113286327053422, 'Deftones'), (0.11113286327053422, 'Dark Tranquillity'), (0.11113286327053422, 'Children of Bodom'), (0.11113286327053422, 'Amorphis'), (0.11113286327053422, 'A Perfect Circle'), (0.11113286327053422, '36 Crazyfists'), (0.11101320212431576, 'deadmau5'), (0.11101320212431576, 'White Zombie'), (0.11101320212431576, 'Ween'), (0.11101320212431576, 'Theory of a Deadman'), (0.11101320212431576, 'Shinedown'), (0.11101320212431576, 'Seether'), (0.11101320212431576, 'Rob Zombie'), (0.11101320212431576, 'Pantera'), (0.11101320212431576, 'Panic! at the Disco'), (0.11101320212431576, 'P.D.P.'), (0.11101320212431576, 'Nobuo Uematsu'), (0.11101320212431576, 'Mustasch'), (0.11101320212431576, 'Marina and the Diamonds'), (0.11101320212431576, 'Magnus Uggla'), (0.11101320212431576, 'Machine Head'), (0.11101320212431576, 'Lacuna Coil'), (0.11101320212431576, 'Krewella'), (0.11101320212431576, 'Killswitch Engage'), (0.11101320212431576, 'Ke$ha'), (0.11101320212431576, 'Katy Perry'), (0.11101320212431576, 'Iron Maiden'), (0.11101320212431576, 'Halestorm'), (0.11101320212431576, 'Gyllene Tider'), (0.11101320212431576, 'Godsmack'), (0.11101320212431576, 'Freestyle'), (0.11101320212431576, 'Flo Rida'), (0.11101320212431576, 'Evanescence'), (0.11101320212431576, 'Epic Rap Battles Of History'), (0.11101320212431576, 'Electric Light Orchestra'), (0.11101320212431576, 'Dope'), (0.11101320212431576, 'Disturbed'), (0.11101320212431576, 'Dimmu Borgir'), (0.11101320212431576, 'Demon Hunter'), (0.11101320212431576, 'Cradle of Filth'), (0.11101320212431576, 'Calvin Harris'), (0.11101320212431576, 'Boston'), (0.11101320212431576, 'Black Veil Brides'), (0.11101320212431576, 'Black Label Society'), (0.11101320212431576, 'Becoming the Archetype'), (0.11089706816956874, 'blink-182'), (0.11089706816956874, 'Wu-Tang Clan'), (0.11089706816956874, 'Warpaint'), (0.11089706816956874, 'The Wonder Years'), (0.11089706816956874, 'The White Stripes'), (0.11089706816956874, 'The Dear Hunter'), (0.11089706816956874, 'The Band'), (0.11089706816956874, 'Saosin'), (0.11089706816956874, 'Parkway Drive'), (0.11089706816956874, 'Nirvana'), (0.11089706816956874, 'New Found Glory'), (0.11089706816956874, 'N.W.A'), (0.11089706816956874, 'My Chemical Romance'), (0.11089706816956874, 'Motion City Soundtrack'), (0.11089706816956874, 'Mogwai'), (0.11089706816956874, 'Misfits'), (0.11089706816956874, 'James Blake'), (0.11089706816956874, 'Hozier'), (0.11089706816956874, 'Gallows'), (0.11089706816956874, 'Four Year Strong'), (0.11089706816956874, 'Fall Out Boy'), (0.11089706816956874, 'Evergreen Terrace'), (0.11089706816956874, 'Energy'), (0.11089706816956874, 'Dr. Dre'), (0.11089706816956874, 'Die Antwoord'), (0.11089706816956874, 'Daughter'), (0.11089706816956874, 'Damien Rice'), (0.11089706816956874, 'DIR EN GREY'), (0.11089706816956874, 'Cruel Hand'), (0.11089706816956874, 'Circa Survive'), (0.11089706816956874, 'Cat Power'), (0.11089706816956874, 'Beach House'), (0.11089706816956874, 'Bayside'), (0.11089706816956874, 'Atoms for Peace'), (0.11089706816956874, 'AFI')] \n",
      "\n",
      "Recommended songs with RusselRao for NemoNightfall are: \n",
      "[(0.5999999999999998, 'Korn'), (0.4399999999999999, 'Rage Against the Machine'), (0.4399999999999998, 'Rammstein'), (0.39999999999999986, 'Red Hot Chili Peppers'), (0.39999999999999986, 'Metallica'), (0.3199999999999999, 'Sabaton'), (0.31999999999999984, 'Muse'), (0.31999999999999984, 'Foo Fighters'), (0.2799999999999999, 'Lamb of God'), (0.2799999999999999, 'Arctic Monkeys'), (0.2399999999999999, 'The Killers'), (0.2399999999999999, 'Sum 41'), (0.2399999999999999, 'Radiohead'), (0.2399999999999999, 'Queens of the Stone Age'), (0.2399999999999999, 'Pitty'), (0.2399999999999999, 'Madonna'), (0.2399999999999999, 'M.I.A.'), (0.2399999999999999, 'Lady Gaga'), (0.2399999999999999, 'In Flames'), (0.2399999999999999, 'Green Day'), (0.2399999999999999, 'Coldplay'), (0.19999999999999993, 'Wintersun'), (0.19999999999999993, 'Tenacious D'), (0.19999999999999993, 'Powerwolf'), (0.19999999999999993, 'Pentakill'), (0.19999999999999993, 'Pendulum'), (0.19999999999999993, 'Limp Bizkit'), (0.19999999999999993, 'Howard Shore'), (0.19999999999999993, 'Hans Zimmer'), (0.19999999999999993, 'DragonForce'), (0.19999999999999993, 'Avenged Sevenfold'), (0.19999999999999993, 'Arch Enemy'), (0.19999999999999993, 'Amon Amarth'), (0.15999999999999992, 'Pink Floyd'), (0.11999999999999995, 'Volbeat'), (0.11999999999999995, 'Turmion Kätilöt'), (0.11999999999999995, 'Tool'), (0.11999999999999995, 'Team Sleep'), (0.11999999999999995, 'Stam1na'), (0.11999999999999995, 'Soulfly'), (0.11999999999999995, 'Sonata Arctica'), (0.11999999999999995, 'Soilwork'), (0.11999999999999995, 'Scar Symmetry'), (0.11999999999999995, 'Queen'), (0.11999999999999995, 'Nine Inch Nails'), (0.11999999999999995, 'Nightwish'), (0.11999999999999995, 'Lindemann'), (0.11999999999999995, 'Leevi and the Leavings'), (0.11999999999999995, 'Klamydia'), (0.11999999999999995, 'Dmitri Shostakovich'), (0.11999999999999995, 'Deftones'), (0.11999999999999995, 'Dark Tranquillity'), (0.11999999999999995, 'Coheed and Cambria'), (0.11999999999999995, 'Children of Bodom'), (0.11999999999999995, 'Amorphis'), (0.11999999999999995, 'A Perfect Circle'), (0.11999999999999995, '36 Crazyfists'), (0.07999999999999996, 'deadmau5'), (0.07999999999999996, 'White Zombie'), (0.07999999999999996, 'Ween'), (0.07999999999999996, 'Theory of a Deadman'), (0.07999999999999996, 'Shinedown'), (0.07999999999999996, 'Seether'), (0.07999999999999996, 'Rob Zombie'), (0.07999999999999996, 'Pantera'), (0.07999999999999996, 'Panic! at the Disco'), (0.07999999999999996, 'P.D.P.'), (0.07999999999999996, 'Nobuo Uematsu'), (0.07999999999999996, 'Mustasch'), (0.07999999999999996, 'Marina and the Diamonds'), (0.07999999999999996, 'Magnus Uggla'), (0.07999999999999996, 'Machine Head'), (0.07999999999999996, 'Lacuna Coil'), (0.07999999999999996, 'Krewella'), (0.07999999999999996, 'Killswitch Engage'), (0.07999999999999996, 'Ke$ha'), (0.07999999999999996, 'Katy Perry'), (0.07999999999999996, 'Iron Maiden'), (0.07999999999999996, 'Halestorm'), (0.07999999999999996, 'Gyllene Tider'), (0.07999999999999996, 'Godsmack'), (0.07999999999999996, 'Freestyle'), (0.07999999999999996, 'Flo Rida'), (0.07999999999999996, 'Evanescence'), (0.07999999999999996, 'Epic Rap Battles Of History'), (0.07999999999999996, 'Electric Light Orchestra'), (0.07999999999999996, 'Dope'), (0.07999999999999996, 'Disturbed'), (0.07999999999999996, 'Dimmu Borgir'), (0.07999999999999996, 'Demon Hunter'), (0.07999999999999996, 'Cradle of Filth'), (0.07999999999999996, 'Calvin Harris'), (0.07999999999999996, 'Boston'), (0.07999999999999996, 'Black Veil Brides'), (0.07999999999999996, 'Black Label Society'), (0.07999999999999996, 'Becoming the Archetype'), (0.03999999999999998, 'blink-182'), (0.03999999999999998, 'Wu-Tang Clan'), (0.03999999999999998, 'Warpaint'), (0.03999999999999998, 'The Wonder Years'), (0.03999999999999998, 'The White Stripes'), (0.03999999999999998, 'The Dear Hunter'), (0.03999999999999998, 'The Band'), (0.03999999999999998, 'Saosin'), (0.03999999999999998, 'Parkway Drive'), (0.03999999999999998, 'Nirvana'), (0.03999999999999998, 'New Found Glory'), (0.03999999999999998, 'N.W.A'), (0.03999999999999998, 'My Chemical Romance'), (0.03999999999999998, 'Motion City Soundtrack'), (0.03999999999999998, 'Mogwai'), (0.03999999999999998, 'Misfits'), (0.03999999999999998, 'James Blake'), (0.03999999999999998, 'Hozier'), (0.03999999999999998, 'Gallows'), (0.03999999999999998, 'Four Year Strong'), (0.03999999999999998, 'Fall Out Boy'), (0.03999999999999998, 'Evergreen Terrace'), (0.03999999999999998, 'Energy'), (0.03999999999999998, 'Dr. Dre'), (0.03999999999999998, 'Die Antwoord'), (0.03999999999999998, 'Daughter'), (0.03999999999999998, 'Damien Rice'), (0.03999999999999998, 'DIR EN GREY'), (0.03999999999999998, 'Cruel Hand'), (0.03999999999999998, 'Circa Survive'), (0.03999999999999998, 'Cat Power'), (0.03999999999999998, 'Beach House'), (0.03999999999999998, 'Bayside'), (0.03999999999999998, 'Atoms for Peace'), (0.03999999999999998, 'AFI')]\n"
     ]
    }
   ],
   "source": [
    "# Song recommendations for the user\n",
    "songList1 = getRecommendations(userDict, user, sim_euclid)\n",
    "songList2 = getRecommendations(userDict, user, sim_RusselRao)\n",
    "\n",
    "print('Recommended songs with euclid for {} are: \\n{}'.format(user, songList1),'\\n')\n",
    "print('Recommended songs with RusselRao for {} are: \\n{}'.format(user, songList2))"
   ]
  },
  {
   "cell_type": "markdown",
   "metadata": {},
   "source": [
    "7. Diskutieren Sie das Ergebnis"
   ]
  },
  {
   "cell_type": "code",
   "execution_count": 36,
   "metadata": {
    "colab": {},
    "colab_type": "code",
    "id": "TLR26NWz1a4D"
   },
   "outputs": [],
   "source": [
    "import matplotlib.pyplot as plt\n",
    "import pandas as pd"
   ]
  },
  {
   "cell_type": "code",
   "execution_count": 37,
   "metadata": {},
   "outputs": [
    {
     "data": {
      "text/plain": [
       "Text(0.5, 0.98, 'Band Recommendations for user NemoNightfall')"
      ]
     },
     "execution_count": 37,
     "metadata": {},
     "output_type": "execute_result"
    },
    {
     "data": {
      "image/png": "[encoded data removed]",
      "text/plain": [
       "<Figure size 1440x576 with 2 Axes>"
      ]
     },
     "metadata": {
      "needs_background": "light"
     },
     "output_type": "display_data"
    }
   ],
   "source": [
    "songList_1 = sorted(songList1[:10])\n",
    "songList_2 = sorted(songList2[:10])\n",
    "\n",
    "x_val = [format(song[0]*100, '.2f') for song in songList_1]\n",
    "y_val = [song[1] for song in songList_1]\n",
    "x_val1 = [format(song[0]*100, '.2f') for song in songList_2]\n",
    "y_val1 = [song[1] for song in songList_2]\n",
    "\n",
    "fig, axs = plt.subplots(2, 1, figsize=(20, 8), sharey=True)\n",
    "axs[0].bar(y_val, x_val)\n",
    "axs[1].bar(y_val1, x_val1)\n",
    "\n",
    "axs[0].title.set_text('euclidean similarity')\n",
    "axs[1].title.set_text('Russel Rao similarity')\n",
    "\n",
    "fig.suptitle('Band Recommendations for user {}'.format(user))"
   ]
  },
  {
   "cell_type": "markdown",
   "metadata": {
    "colab_type": "text",
    "id": "Ul1h1eQqrrwy"
   },
   "source": [
    "Bei der Untersuchung der ersten zehn Band-Empfehlungen mit dem höchsten Wahrscheinlichkeitswert für deren Ähnlichkeit zu von anderen Personen favorisierten Bands, konnte unter der Hinzunahme der _euklidischen Distanz_ , als auch der _Russel Rao_ Metrik ein sehr ähnliches Ergebnis erzielt werden. In beiden Ergebnisslisten finden sich die Bands _Korn_ (euclid/56%, russel_rao/59.9%), _Rage Against the Machine_  (euclid/44%, russel_rao/43.9%), als auch _Rammstein_  (euclid/34%, russel_rao/43.9%) unter den ersten drei Empfehlungen. Abnehmend von hier unterschiedet sich das Ergebnis leicht im berechneten Wert, inhaltlich sind die ersten zehn Bands jedoch namentlich in beiden Listen vertreten. \n",
    "\n",
    "Wahrscheinlich ist aufgrund der Empfehlungswerte, dass der beispielhaft gewählte Nutzer \"NemoNightfall\" eine stärkere Tendenz zu alternativen Musikrichtungen, wie Metal, als auch Rock hat. "
   ]
  },
  {
   "cell_type": "code",
   "execution_count": 38,
   "metadata": {},
   "outputs": [
    {
     "data": {
      "image/png": "[encoded data removed]",
      "text/plain": [
       "<Figure size 1120x2400 with 1 Axes>"
      ]
     },
     "metadata": {
      "needs_background": "light"
     },
     "output_type": "display_data"
    }
   ],
   "source": [
    "difList = []\n",
    "for band1 in songList1:\n",
    "    for band2 in songList2:\n",
    "        if band1[1] == band2[1]:\n",
    "            scoreDif = band1[0] - band2[0]\n",
    "            difList.append((scoreDif, band1[1]))\n",
    "difList.sort(reverse = True)\n",
    "\n",
    "difDf = pd.DataFrame(difList)\n",
    "difDf['colors'] = ['red' if x < 0 else 'green' for x in difDf[0]]\n",
    "difDf\n",
    "\n",
    "plt.figure(figsize = (14, 30), dpi = 80)\n",
    "plt.hlines(y=difDf[1], xmin=0, xmax=difDf[0], color=difDf.colors, linewidth=5)\n",
    "plt.yticks(fontsize=10)\n",
    "plt.gca().set(ylabel=\"$Bands$\", xlabel=\"$Difference$\")\n",
    "plt.title(\"Difference between between Euclid and Russel Rao\", fontdict={'size':20})\n",
    "plt.grid(linestyle=\"-\",alpha=0.5)\n",
    "plt.show()"
   ]
  },
  {
   "cell_type": "markdown",
   "metadata": {},
   "source": [
    "In diesem Plot wird für jede Band die Abweichung der euklidischen und Russel Rao Ähnlichkeit dargestellt. Man erkennt, dass die maximale Abweichung bei 0.15 liegt. Die Differenz ändert sich stufenweise, da beide Ähnlichkeitsmaße auf Brüchen basieren.\n",
    "Die ersten fünf Empfehlungen von der euklidischen Ähnlichkeit sowie der RusselRao sind sehr ähnlich. Der Grund für den leichten Unterschied ist, dass der Wert bei der euklidischen Ähnlichkeit auch bei übereinstimmenden Nullen steigt. Bei der Russel Rao Ähnlichkeit ist dies nur bei übereinstimmenden Einsen der Fall."
   ]
  },
  {
   "cell_type": "code",
   "execution_count": null,
   "metadata": {},
   "outputs": [],
   "source": []
  },
  {
   "cell_type": "code",
   "execution_count": null,
   "metadata": {},
   "outputs": [],
   "source": []
  },
  {
   "cell_type": "markdown",
   "metadata": {},
   "source": [
    "#### Zusatzaufgabe Untersuchung der Lst.fm 360k Datensätze\n",
    "\n",
    "Die Datensätze _Last.fm dataset 360k_ umfassen etwa 360.000 individuelle Last.fm-Künstler-Hörinformationen der einzelnen Benutzer. Diese wurden von der _Last.fm API_ mittels der _user_get_top_artist()_ Methode des API Endpunktes für 360.000 Nutzer abgerufen und können online unter http://ocelma.net/MusicRecommendationDataset/index.html abgerufen werden. \n",
    "\n",
    "Die in diesem Versuch verwendeten Datensätze sind in Tupel _<user, artist-mbid, artist-name, total-plays>_ strukturiert. Diese geben an, wie oft ein Last.fm-Benutzer Lieder von verschiedenen Künstlern gespielt hat. Die Profildaten enthalten zudem das Wohnsitzland jedes Benutzers. \n",
    "\n",
    "**Files**\n",
    " - usersha1-artmbid-artname-plays.tsv (MD5: be672526eb7c69495c27ad27803148f1)\n",
    " - usersha1-profile.tsv               (MD5: 51159d4edf6a92cb96f87768aa2be678)\n",
    " - mbox_sha1sum.py                    (MD5: feb3485eace85f3ba62e324839e6ab39)\n",
    "\n",
    "**Daten Statistik:**\n",
    "- Total Lines:           17,559,530\n",
    "- Unique Users:             359,347\n",
    "- Artists with MBID:        186,642\n",
    "- Artists without MBID:     107,373\n",
    "\n",
    "**Referenz**\n",
    "- Last.fm https://www.last.fm/home\n",
    "\n",
    "Hinweis: Die Datensätze für dieses Experiment wurden von Òscar Celma @ MTG/UPF, im Herbst 2008 gesammelt und im Laufe des Jahres 2009 bereinigt.\n"
   ]
  },
  {
   "cell_type": "code",
   "execution_count": null,
   "metadata": {},
   "outputs": [],
   "source": [
    "from scipy.sparse import csr_matrix"
   ]
  },
  {
   "cell_type": "code",
   "execution_count": 4,
   "metadata": {},
   "outputs": [],
   "source": [
    "# display results to 3 decimal points, not in scientific notation\n",
    "pd.set_option('display.float_format', lambda x: '%.3f' % x)"
   ]
  },
  {
   "cell_type": "markdown",
   "metadata": {},
   "source": [
    "Wenn die Datensätze in den Arbeitsspeicher geladen sind, kann mit der Datenverarbeitung begonnen werden.\n",
    "Für das Einlesen der Datensätze aus den zuvor herunter geladenen '.tsv' Dateien wird die pandas library verwendet. Die beiden Datenfiles werden in einen _user_data Pandas Datenframe_ und einen _user_profiles Pandas Datenframe_ geladen. \n",
    "- usersha1-artmbid-artname-plays.tsv\n",
    "- usersha1-profile.tsv"
   ]
  },
  {
   "cell_type": "code",
   "execution_count": 8,
   "metadata": {},
   "outputs": [],
   "source": [
    "df_user = pd.read_table('../data/lastfm-dataset-360K/usersha1-artmbid-artname-plays.tsv',\n",
    "                          header = None, nrows = 2e7,\n",
    "                          names = ['users', 'musicbrainz-artist-id', 'artist-name', 'plays'],\n",
    "                          usecols = ['users', 'artist-name', 'plays'])\n",
    "df_profiles = pd.read_table('../data/lastfm-dataset-360K/usersha1-profile.tsv',\n",
    "                          header = None,\n",
    "                          names = ['users', 'gender', 'age', 'country', 'signup'],\n",
    "                          usecols = ['users', 'country'])"
   ]
  },
  {
   "cell_type": "code",
   "execution_count": 9,
   "metadata": {},
   "outputs": [
    {
     "data": {
      "text/html": [
       "<div>\n",
       "<style scoped>\n",
       "    .dataframe tbody tr th:only-of-type {\n",
       "        vertical-align: middle;\n",
       "    }\n",
       "\n",
       "    .dataframe tbody tr th {\n",
       "        vertical-align: top;\n",
       "    }\n",
       "\n",
       "    .dataframe thead th {\n",
       "        text-align: right;\n",
       "    }\n",
       "</style>\n",
       "<table border=\"1\" class=\"dataframe\">\n",
       "  <thead>\n",
       "    <tr style=\"text-align: right;\">\n",
       "      <th></th>\n",
       "      <th>users</th>\n",
       "      <th>artist-name</th>\n",
       "      <th>plays</th>\n",
       "    </tr>\n",
       "  </thead>\n",
       "  <tbody>\n",
       "    <tr>\n",
       "      <th>0</th>\n",
       "      <td>00000c289a1829a808ac09c00daf10bc3c4e223b</td>\n",
       "      <td>betty blowtorch</td>\n",
       "      <td>2137.000</td>\n",
       "    </tr>\n",
       "    <tr>\n",
       "      <th>1</th>\n",
       "      <td>00000c289a1829a808ac09c00daf10bc3c4e223b</td>\n",
       "      <td>die Ärzte</td>\n",
       "      <td>1099.000</td>\n",
       "    </tr>\n",
       "    <tr>\n",
       "      <th>2</th>\n",
       "      <td>00000c289a1829a808ac09c00daf10bc3c4e223b</td>\n",
       "      <td>melissa etheridge</td>\n",
       "      <td>897.000</td>\n",
       "    </tr>\n",
       "    <tr>\n",
       "      <th>3</th>\n",
       "      <td>00000c289a1829a808ac09c00daf10bc3c4e223b</td>\n",
       "      <td>elvenking</td>\n",
       "      <td>717.000</td>\n",
       "    </tr>\n",
       "    <tr>\n",
       "      <th>4</th>\n",
       "      <td>00000c289a1829a808ac09c00daf10bc3c4e223b</td>\n",
       "      <td>juliette &amp; the licks</td>\n",
       "      <td>706.000</td>\n",
       "    </tr>\n",
       "  </tbody>\n",
       "</table>\n",
       "</div>"
      ],
      "text/plain": [
       "                                      users           artist-name    plays\n",
       "0  00000c289a1829a808ac09c00daf10bc3c4e223b       betty blowtorch 2137.000\n",
       "1  00000c289a1829a808ac09c00daf10bc3c4e223b             die Ärzte 1099.000\n",
       "2  00000c289a1829a808ac09c00daf10bc3c4e223b     melissa etheridge  897.000\n",
       "3  00000c289a1829a808ac09c00daf10bc3c4e223b             elvenking  717.000\n",
       "4  00000c289a1829a808ac09c00daf10bc3c4e223b  juliette & the licks  706.000"
      ]
     },
     "execution_count": 9,
     "metadata": {},
     "output_type": "execute_result"
    }
   ],
   "source": [
    "# Check the datasets\n",
    "df_user.head()"
   ]
  },
  {
   "cell_type": "code",
   "execution_count": 10,
   "metadata": {},
   "outputs": [
    {
     "data": {
      "text/html": [
       "<div>\n",
       "<style scoped>\n",
       "    .dataframe tbody tr th:only-of-type {\n",
       "        vertical-align: middle;\n",
       "    }\n",
       "\n",
       "    .dataframe tbody tr th {\n",
       "        vertical-align: top;\n",
       "    }\n",
       "\n",
       "    .dataframe thead th {\n",
       "        text-align: right;\n",
       "    }\n",
       "</style>\n",
       "<table border=\"1\" class=\"dataframe\">\n",
       "  <thead>\n",
       "    <tr style=\"text-align: right;\">\n",
       "      <th></th>\n",
       "      <th>users</th>\n",
       "      <th>country</th>\n",
       "    </tr>\n",
       "  </thead>\n",
       "  <tbody>\n",
       "    <tr>\n",
       "      <th>0</th>\n",
       "      <td>00000c289a1829a808ac09c00daf10bc3c4e223b</td>\n",
       "      <td>Germany</td>\n",
       "    </tr>\n",
       "    <tr>\n",
       "      <th>1</th>\n",
       "      <td>00001411dc427966b17297bf4d69e7e193135d89</td>\n",
       "      <td>Canada</td>\n",
       "    </tr>\n",
       "    <tr>\n",
       "      <th>2</th>\n",
       "      <td>00004d2ac9316e22dc007ab2243d6fcb239e707d</td>\n",
       "      <td>Germany</td>\n",
       "    </tr>\n",
       "    <tr>\n",
       "      <th>3</th>\n",
       "      <td>000063d3fe1cf2ba248b9e3c3f0334845a27a6bf</td>\n",
       "      <td>Mexico</td>\n",
       "    </tr>\n",
       "    <tr>\n",
       "      <th>4</th>\n",
       "      <td>00007a47085b9aab8af55f52ec8846ac479ac4fe</td>\n",
       "      <td>United States</td>\n",
       "    </tr>\n",
       "  </tbody>\n",
       "</table>\n",
       "</div>"
      ],
      "text/plain": [
       "                                      users        country\n",
       "0  00000c289a1829a808ac09c00daf10bc3c4e223b        Germany\n",
       "1  00001411dc427966b17297bf4d69e7e193135d89         Canada\n",
       "2  00004d2ac9316e22dc007ab2243d6fcb239e707d        Germany\n",
       "3  000063d3fe1cf2ba248b9e3c3f0334845a27a6bf         Mexico\n",
       "4  00007a47085b9aab8af55f52ec8846ac479ac4fe  United States"
      ]
     },
     "execution_count": 10,
     "metadata": {},
     "output_type": "execute_result"
    }
   ],
   "source": [
    "df_profiles.head()"
   ]
  },
  {
   "cell_type": "markdown",
   "metadata": {},
   "source": [
    "#### Filtern von populären Künstlern:\n",
    "Die Idee ist ein Item-Based Collaborative Filtering als Recommender System auf die Last.fm 360k Datensätze anzuwenden. Das heißt die Empfehlungen basieren auf dem Nutzerverhalten und hier vorzufindenden Muster. Hierbei ist zu beachten, dass weniger bekannte Künstler die Ergebnisse negativ beeinflussen können, da diese weniger 'views' haben und damit auch als _Noise_ identifiziert werden können. Aus diesem Grund sollen im Folgenden nur populäre Künstler aus den Dataframes heraus gefiltert werden. Das heißt nur Künstler die den höchsten _total play count_ im Datensatz vorzuweisen haben.  "
   ]
  },
  {
   "cell_type": "code",
   "execution_count": 11,
   "metadata": {},
   "outputs": [],
   "source": [
    "if df_user['artist-name'].isnull().sum() > 0:\n",
    "    df_user= df_user.dropna(axis = 0, subset = ['artist-name'])"
   ]
  },
  {
   "cell_type": "code",
   "execution_count": 12,
   "metadata": {},
   "outputs": [
    {
     "data": {
      "text/html": [
       "<div>\n",
       "<style scoped>\n",
       "    .dataframe tbody tr th:only-of-type {\n",
       "        vertical-align: middle;\n",
       "    }\n",
       "\n",
       "    .dataframe tbody tr th {\n",
       "        vertical-align: top;\n",
       "    }\n",
       "\n",
       "    .dataframe thead th {\n",
       "        text-align: right;\n",
       "    }\n",
       "</style>\n",
       "<table border=\"1\" class=\"dataframe\">\n",
       "  <thead>\n",
       "    <tr style=\"text-align: right;\">\n",
       "      <th></th>\n",
       "      <th>artist-name</th>\n",
       "      <th>total_artist_plays</th>\n",
       "    </tr>\n",
       "  </thead>\n",
       "  <tbody>\n",
       "    <tr>\n",
       "      <th>0</th>\n",
       "      <td>2</td>\n",
       "      <td>56.000</td>\n",
       "    </tr>\n",
       "    <tr>\n",
       "      <th>1</th>\n",
       "      <td>58725ab=&gt;</td>\n",
       "      <td>23.000</td>\n",
       "    </tr>\n",
       "    <tr>\n",
       "      <th>2</th>\n",
       "      <td>cours de la somme</td>\n",
       "      <td>9.000</td>\n",
       "    </tr>\n",
       "    <tr>\n",
       "      <th>3</th>\n",
       "      <td>fatboy slim</td>\n",
       "      <td>16.000</td>\n",
       "    </tr>\n",
       "    <tr>\n",
       "      <th>4</th>\n",
       "      <td>oliver shanti &amp; friends</td>\n",
       "      <td>3.000</td>\n",
       "    </tr>\n",
       "  </tbody>\n",
       "</table>\n",
       "</div>"
      ],
      "text/plain": [
       "                artist-name  total_artist_plays\n",
       "0                        2               56.000\n",
       "1                 58725ab=>              23.000\n",
       "2         cours de la somme               9.000\n",
       "3               fatboy slim              16.000\n",
       "4   oliver shanti & friends               3.000"
      ]
     },
     "execution_count": 12,
     "metadata": {},
     "output_type": "execute_result"
    }
   ],
   "source": [
    "artist_plays = (df_user.groupby(by = ['artist-name'])['plays'].sum().reset_index().rename(columns = {'plays': 'total_artist_plays'})[['artist-name', 'total_artist_plays']])\n",
    "artist_plays.head()"
   ]
  },
  {
   "cell_type": "markdown",
   "metadata": {},
   "source": [
    "In den Datensätzen sind Fehleinträge und nicht bereinigte Daten vorhanden. Diese können heraus gefiltert werden. Im nächsten Schritt können die Dataframes anhand der Spalte _total play_ in die _user activity_ Datenframes zusammengeführt (_df.merge()_) werden. "
   ]
  },
  {
   "cell_type": "code",
   "execution_count": 13,
   "metadata": {},
   "outputs": [
    {
     "data": {
      "text/html": [
       "<div>\n",
       "<style scoped>\n",
       "    .dataframe tbody tr th:only-of-type {\n",
       "        vertical-align: middle;\n",
       "    }\n",
       "\n",
       "    .dataframe tbody tr th {\n",
       "        vertical-align: top;\n",
       "    }\n",
       "\n",
       "    .dataframe thead th {\n",
       "        text-align: right;\n",
       "    }\n",
       "</style>\n",
       "<table border=\"1\" class=\"dataframe\">\n",
       "  <thead>\n",
       "    <tr style=\"text-align: right;\">\n",
       "      <th></th>\n",
       "      <th>users</th>\n",
       "      <th>artist-name</th>\n",
       "      <th>plays</th>\n",
       "      <th>total_artist_plays</th>\n",
       "    </tr>\n",
       "  </thead>\n",
       "  <tbody>\n",
       "    <tr>\n",
       "      <th>0</th>\n",
       "      <td>00000c289a1829a808ac09c00daf10bc3c4e223b</td>\n",
       "      <td>betty blowtorch</td>\n",
       "      <td>2137.000</td>\n",
       "      <td>19436.000</td>\n",
       "    </tr>\n",
       "    <tr>\n",
       "      <th>1</th>\n",
       "      <td>00000c289a1829a808ac09c00daf10bc3c4e223b</td>\n",
       "      <td>die Ärzte</td>\n",
       "      <td>1099.000</td>\n",
       "      <td>1863748.000</td>\n",
       "    </tr>\n",
       "    <tr>\n",
       "      <th>2</th>\n",
       "      <td>00000c289a1829a808ac09c00daf10bc3c4e223b</td>\n",
       "      <td>melissa etheridge</td>\n",
       "      <td>897.000</td>\n",
       "      <td>84333.000</td>\n",
       "    </tr>\n",
       "    <tr>\n",
       "      <th>3</th>\n",
       "      <td>00000c289a1829a808ac09c00daf10bc3c4e223b</td>\n",
       "      <td>elvenking</td>\n",
       "      <td>717.000</td>\n",
       "      <td>219244.000</td>\n",
       "    </tr>\n",
       "    <tr>\n",
       "      <th>4</th>\n",
       "      <td>00000c289a1829a808ac09c00daf10bc3c4e223b</td>\n",
       "      <td>juliette &amp; the licks</td>\n",
       "      <td>706.000</td>\n",
       "      <td>45807.000</td>\n",
       "    </tr>\n",
       "  </tbody>\n",
       "</table>\n",
       "</div>"
      ],
      "text/plain": [
       "                                      users           artist-name    plays  \\\n",
       "0  00000c289a1829a808ac09c00daf10bc3c4e223b       betty blowtorch 2137.000   \n",
       "1  00000c289a1829a808ac09c00daf10bc3c4e223b             die Ärzte 1099.000   \n",
       "2  00000c289a1829a808ac09c00daf10bc3c4e223b     melissa etheridge  897.000   \n",
       "3  00000c289a1829a808ac09c00daf10bc3c4e223b             elvenking  717.000   \n",
       "4  00000c289a1829a808ac09c00daf10bc3c4e223b  juliette & the licks  706.000   \n",
       "\n",
       "   total_artist_plays  \n",
       "0           19436.000  \n",
       "1         1863748.000  \n",
       "2           84333.000  \n",
       "3          219244.000  \n",
       "4           45807.000  "
      ]
     },
     "execution_count": 13,
     "metadata": {},
     "output_type": "execute_result"
    }
   ],
   "source": [
    "user_artist = df_user.merge(artist_plays, left_on = 'artist-name', right_on = 'artist-name', how = 'left')\n",
    "user_artist.head()"
   ]
  },
  {
   "cell_type": "markdown",
   "metadata": {},
   "source": [
    "Um herauszufinden, wo die Anzahl für die total Grenze im Datensatz der _total artist plays_ der Künstler liegt können statistische Funktionen auf dem Dataframe ausgeführt werden.  Im Durchschnitt werden Künstler jedoch ca. ~ 8823 Mal abgespielt. Diese Information ist jedoch durch die große Anzahl an Künstlern mit nur wenigen _total artist plays_ stark beeinflusst. Es kann daher abgelesen werden, dass der _Median (hier: 50%)_ der Künstler bei nur 211 _total artist plays_ liegt."
   ]
  },
  {
   "cell_type": "code",
   "execution_count": 14,
   "metadata": {},
   "outputs": [
    {
     "name": "stdout",
     "output_type": "stream",
     "text": [
      "count     214531.000\n",
      "mean        8823.943\n",
      "std       108720.134\n",
      "min            1.000\n",
      "25%           54.000\n",
      "50%          211.000\n",
      "75%          995.000\n",
      "max     15295695.000\n",
      "Name: total_artist_plays, dtype: float64\n"
     ]
    }
   ],
   "source": [
    "print(artist_plays['total_artist_plays'].describe())"
   ]
  },
  {
   "cell_type": "code",
   "execution_count": 48,
   "metadata": {},
   "outputs": [
    {
     "name": "stdout",
     "output_type": "stream",
     "text": [
      "0.900     6137.800\n",
      "0.910     7409.420\n",
      "0.920     9102.040\n",
      "0.930    11474.660\n",
      "0.940    14898.000\n",
      "0.950    19964.500\n",
      "0.960    28420.120\n",
      "0.970    43541.420\n",
      "0.980    79403.560\n",
      "0.990   198483.660\n",
      "Name: total_artist_plays, dtype: float64\n"
     ]
    }
   ],
   "source": [
    "print(artist_plays['total_artist_plays'].quantile(np.arange(.9, 1, .01))) "
   ]
  },
  {
   "cell_type": "markdown",
   "metadata": {},
   "source": [
    "An den statistischen Daten kann abgelesen werden, dass nur 1% der Künstler eine total artist plays Anzahl von über 190.000 erreicht, während 2% der Künstler bereits nur noch eine Anzahl von um 79.403 erreichen. Um nur die populärsten Künstler herauszufiltern findet im Folgenden eine Beschränkung mittels einem popularity threshold von 40.000 auf die obersten 3% aller Künstler statt."
   ]
  },
  {
   "cell_type": "code",
   "execution_count": 15,
   "metadata": {},
   "outputs": [
    {
     "data": {
      "text/html": [
       "<div>\n",
       "<style scoped>\n",
       "    .dataframe tbody tr th:only-of-type {\n",
       "        vertical-align: middle;\n",
       "    }\n",
       "\n",
       "    .dataframe tbody tr th {\n",
       "        vertical-align: top;\n",
       "    }\n",
       "\n",
       "    .dataframe thead th {\n",
       "        text-align: right;\n",
       "    }\n",
       "</style>\n",
       "<table border=\"1\" class=\"dataframe\">\n",
       "  <thead>\n",
       "    <tr style=\"text-align: right;\">\n",
       "      <th></th>\n",
       "      <th>users</th>\n",
       "      <th>artist-name</th>\n",
       "      <th>plays</th>\n",
       "      <th>total_artist_plays</th>\n",
       "    </tr>\n",
       "  </thead>\n",
       "  <tbody>\n",
       "    <tr>\n",
       "      <th>1</th>\n",
       "      <td>00000c289a1829a808ac09c00daf10bc3c4e223b</td>\n",
       "      <td>die Ärzte</td>\n",
       "      <td>1099.000</td>\n",
       "      <td>1863748.000</td>\n",
       "    </tr>\n",
       "    <tr>\n",
       "      <th>2</th>\n",
       "      <td>00000c289a1829a808ac09c00daf10bc3c4e223b</td>\n",
       "      <td>melissa etheridge</td>\n",
       "      <td>897.000</td>\n",
       "      <td>84333.000</td>\n",
       "    </tr>\n",
       "    <tr>\n",
       "      <th>3</th>\n",
       "      <td>00000c289a1829a808ac09c00daf10bc3c4e223b</td>\n",
       "      <td>elvenking</td>\n",
       "      <td>717.000</td>\n",
       "      <td>219244.000</td>\n",
       "    </tr>\n",
       "    <tr>\n",
       "      <th>4</th>\n",
       "      <td>00000c289a1829a808ac09c00daf10bc3c4e223b</td>\n",
       "      <td>juliette &amp; the licks</td>\n",
       "      <td>706.000</td>\n",
       "      <td>45807.000</td>\n",
       "    </tr>\n",
       "    <tr>\n",
       "      <th>5</th>\n",
       "      <td>00000c289a1829a808ac09c00daf10bc3c4e223b</td>\n",
       "      <td>red hot chili peppers</td>\n",
       "      <td>691.000</td>\n",
       "      <td>6771642.000</td>\n",
       "    </tr>\n",
       "  </tbody>\n",
       "</table>\n",
       "</div>"
      ],
      "text/plain": [
       "                                      users            artist-name    plays  \\\n",
       "1  00000c289a1829a808ac09c00daf10bc3c4e223b              die Ärzte 1099.000   \n",
       "2  00000c289a1829a808ac09c00daf10bc3c4e223b      melissa etheridge  897.000   \n",
       "3  00000c289a1829a808ac09c00daf10bc3c4e223b              elvenking  717.000   \n",
       "4  00000c289a1829a808ac09c00daf10bc3c4e223b   juliette & the licks  706.000   \n",
       "5  00000c289a1829a808ac09c00daf10bc3c4e223b  red hot chili peppers  691.000   \n",
       "\n",
       "   total_artist_plays  \n",
       "1         1863748.000  \n",
       "2           84333.000  \n",
       "3          219244.000  \n",
       "4           45807.000  \n",
       "5         6771642.000  "
      ]
     },
     "execution_count": 15,
     "metadata": {},
     "output_type": "execute_result"
    }
   ],
   "source": [
    "popularity_threshold = 40000\n",
    "# Filter for popularity by threshold\n",
    "popular_artists = user_artist.query('total_artist_plays >= @popularity_threshold')\n",
    "popular_artists.head()"
   ]
  },
  {
   "cell_type": "markdown",
   "metadata": {},
   "source": [
    "Beispielsweise: Filtern auf country == Germany für die populärsten Künster in Deutschland."
   ]
  },
  {
   "cell_type": "code",
   "execution_count": 17,
   "metadata": {},
   "outputs": [
    {
     "data": {
      "text/html": [
       "<div>\n",
       "<style scoped>\n",
       "    .dataframe tbody tr th:only-of-type {\n",
       "        vertical-align: middle;\n",
       "    }\n",
       "\n",
       "    .dataframe tbody tr th {\n",
       "        vertical-align: top;\n",
       "    }\n",
       "\n",
       "    .dataframe thead th {\n",
       "        text-align: right;\n",
       "    }\n",
       "</style>\n",
       "<table border=\"1\" class=\"dataframe\">\n",
       "  <thead>\n",
       "    <tr style=\"text-align: right;\">\n",
       "      <th></th>\n",
       "      <th>users</th>\n",
       "      <th>artist-name</th>\n",
       "      <th>plays</th>\n",
       "      <th>total_artist_plays</th>\n",
       "      <th>country</th>\n",
       "    </tr>\n",
       "  </thead>\n",
       "  <tbody>\n",
       "    <tr>\n",
       "      <th>0</th>\n",
       "      <td>00000c289a1829a808ac09c00daf10bc3c4e223b</td>\n",
       "      <td>die Ärzte</td>\n",
       "      <td>1099.000</td>\n",
       "      <td>1863748.000</td>\n",
       "      <td>Germany</td>\n",
       "    </tr>\n",
       "    <tr>\n",
       "      <th>1</th>\n",
       "      <td>00000c289a1829a808ac09c00daf10bc3c4e223b</td>\n",
       "      <td>melissa etheridge</td>\n",
       "      <td>897.000</td>\n",
       "      <td>84333.000</td>\n",
       "      <td>Germany</td>\n",
       "    </tr>\n",
       "    <tr>\n",
       "      <th>2</th>\n",
       "      <td>00000c289a1829a808ac09c00daf10bc3c4e223b</td>\n",
       "      <td>elvenking</td>\n",
       "      <td>717.000</td>\n",
       "      <td>219244.000</td>\n",
       "      <td>Germany</td>\n",
       "    </tr>\n",
       "    <tr>\n",
       "      <th>3</th>\n",
       "      <td>00000c289a1829a808ac09c00daf10bc3c4e223b</td>\n",
       "      <td>juliette &amp; the licks</td>\n",
       "      <td>706.000</td>\n",
       "      <td>45807.000</td>\n",
       "      <td>Germany</td>\n",
       "    </tr>\n",
       "    <tr>\n",
       "      <th>4</th>\n",
       "      <td>00000c289a1829a808ac09c00daf10bc3c4e223b</td>\n",
       "      <td>red hot chili peppers</td>\n",
       "      <td>691.000</td>\n",
       "      <td>6771642.000</td>\n",
       "      <td>Germany</td>\n",
       "    </tr>\n",
       "  </tbody>\n",
       "</table>\n",
       "</div>"
      ],
      "text/plain": [
       "                                      users            artist-name    plays  \\\n",
       "0  00000c289a1829a808ac09c00daf10bc3c4e223b              die Ärzte 1099.000   \n",
       "1  00000c289a1829a808ac09c00daf10bc3c4e223b      melissa etheridge  897.000   \n",
       "2  00000c289a1829a808ac09c00daf10bc3c4e223b              elvenking  717.000   \n",
       "3  00000c289a1829a808ac09c00daf10bc3c4e223b   juliette & the licks  706.000   \n",
       "4  00000c289a1829a808ac09c00daf10bc3c4e223b  red hot chili peppers  691.000   \n",
       "\n",
       "   total_artist_plays  country  \n",
       "0         1863748.000  Germany  \n",
       "1           84333.000  Germany  \n",
       "2          219244.000  Germany  \n",
       "3           45807.000  Germany  \n",
       "4         6771642.000  Germany  "
      ]
     },
     "execution_count": 17,
     "metadata": {},
     "output_type": "execute_result"
    }
   ],
   "source": [
    "df_combined = popular_artists.merge(df_profiles, left_on = 'users', right_on = 'users', how = 'left')\n",
    "ger_data = df_combined.query('country == \\'Germany\\'')\n",
    "ger_data.head()"
   ]
  },
  {
   "cell_type": "markdown",
   "metadata": {},
   "source": [
    "Filtern auf country == France für die populärsten Künster in Frankreich."
   ]
  },
  {
   "cell_type": "code",
   "execution_count": 18,
   "metadata": {},
   "outputs": [
    {
     "data": {
      "text/html": [
       "<div>\n",
       "<style scoped>\n",
       "    .dataframe tbody tr th:only-of-type {\n",
       "        vertical-align: middle;\n",
       "    }\n",
       "\n",
       "    .dataframe tbody tr th {\n",
       "        vertical-align: top;\n",
       "    }\n",
       "\n",
       "    .dataframe thead th {\n",
       "        text-align: right;\n",
       "    }\n",
       "</style>\n",
       "<table border=\"1\" class=\"dataframe\">\n",
       "  <thead>\n",
       "    <tr style=\"text-align: right;\">\n",
       "      <th></th>\n",
       "      <th>users</th>\n",
       "      <th>artist-name</th>\n",
       "      <th>plays</th>\n",
       "      <th>total_artist_plays</th>\n",
       "      <th>country</th>\n",
       "    </tr>\n",
       "  </thead>\n",
       "  <tbody>\n",
       "    <tr>\n",
       "      <th>4722</th>\n",
       "      <td>0014e7ddfa8d8e75eae3615c28d34a5b66fe9bc4</td>\n",
       "      <td>jason mraz</td>\n",
       "      <td>68.000</td>\n",
       "      <td>1370676.000</td>\n",
       "      <td>France</td>\n",
       "    </tr>\n",
       "    <tr>\n",
       "      <th>4723</th>\n",
       "      <td>0014e7ddfa8d8e75eae3615c28d34a5b66fe9bc4</td>\n",
       "      <td>john mayer</td>\n",
       "      <td>47.000</td>\n",
       "      <td>1739239.000</td>\n",
       "      <td>France</td>\n",
       "    </tr>\n",
       "    <tr>\n",
       "      <th>4724</th>\n",
       "      <td>0014e7ddfa8d8e75eae3615c28d34a5b66fe9bc4</td>\n",
       "      <td>amy macdonald</td>\n",
       "      <td>38.000</td>\n",
       "      <td>436209.000</td>\n",
       "      <td>France</td>\n",
       "    </tr>\n",
       "    <tr>\n",
       "      <th>4725</th>\n",
       "      <td>0014e7ddfa8d8e75eae3615c28d34a5b66fe9bc4</td>\n",
       "      <td>katy perry</td>\n",
       "      <td>38.000</td>\n",
       "      <td>774233.000</td>\n",
       "      <td>France</td>\n",
       "    </tr>\n",
       "    <tr>\n",
       "      <th>4726</th>\n",
       "      <td>0014e7ddfa8d8e75eae3615c28d34a5b66fe9bc4</td>\n",
       "      <td>akon</td>\n",
       "      <td>27.000</td>\n",
       "      <td>621293.000</td>\n",
       "      <td>France</td>\n",
       "    </tr>\n",
       "  </tbody>\n",
       "</table>\n",
       "</div>"
      ],
      "text/plain": [
       "                                         users    artist-name  plays  \\\n",
       "4722  0014e7ddfa8d8e75eae3615c28d34a5b66fe9bc4     jason mraz 68.000   \n",
       "4723  0014e7ddfa8d8e75eae3615c28d34a5b66fe9bc4     john mayer 47.000   \n",
       "4724  0014e7ddfa8d8e75eae3615c28d34a5b66fe9bc4  amy macdonald 38.000   \n",
       "4725  0014e7ddfa8d8e75eae3615c28d34a5b66fe9bc4     katy perry 38.000   \n",
       "4726  0014e7ddfa8d8e75eae3615c28d34a5b66fe9bc4           akon 27.000   \n",
       "\n",
       "      total_artist_plays country  \n",
       "4722         1370676.000  France  \n",
       "4723         1739239.000  France  \n",
       "4724          436209.000  France  \n",
       "4725          774233.000  France  \n",
       "4726          621293.000  France  "
      ]
     },
     "execution_count": 18,
     "metadata": {},
     "output_type": "execute_result"
    }
   ],
   "source": [
    "fr_data = df_combined.query('country == \\'France\\'')\n",
    "fr_data.head()"
   ]
  },
  {
   "cell_type": "markdown",
   "metadata": {},
   "source": [
    "Für eine weitere Datenanalyse müssen alle Datensätze konsistent sein. Duplikate müssen daher heraus gefiltert werden."
   ]
  },
  {
   "cell_type": "code",
   "execution_count": 19,
   "metadata": {},
   "outputs": [
    {
     "name": "stdout",
     "output_type": "stream",
     "text": [
      "Initial dataframe shape (581685, 5)\n",
      "New dataframe shape (581682, 5)\n",
      "Removed 3 rows\n"
     ]
    }
   ],
   "source": [
    "# Filter duplicated data in 'user' and 'artist-name'\n",
    "print('Ursprüngliches Dataframe {0}'.format(ger_data.shape))\n",
    "\n",
    "if not ger_data[ger_data.duplicated(['users', 'artist-name'])].empty:\n",
    "    initial_rows = ger_data.shape[0]\n",
    "    ger_data = ger_data.drop_duplicates(['users', 'artist-name'])\n",
    "    current_rows = ger_data.shape[0]\n",
    "    print('Neues Datafra,e {0}'.format(ger_data.shape))\n",
    "    print('Entfernte Reihen {0} '.format(initial_rows - current_rows))"
   ]
  },
  {
   "cell_type": "markdown",
   "metadata": {},
   "source": [
    "#### Anwendung des K-Nearest Neighbor Models\n",
    "\n",
    "Für die Anwendung des K-Nearest Neighbor Algorithmus sollten alle Datensätze im Format _m x n_ sein. Das heißt _m_ ist die Anzahl der Künstler, während _n_ die Anzahl der Nutzer ist. Um das _Pandas Dataframe_ zu verändern kann hier die _pivot()_ Funktion angewandt werden. Nicht vorhandene Daten können mit dem 0 wert ausgefüllt werden (_sparse matrix_). Dies hat hier keine größere Beeinflussung, da lineare Berechnungen statt finden, um die Distanz der beiden Vektoren zu berechnen. Die Berechnung der Ähnlichkeit zwischen der Künstler Vektoren wird mittels _Cosine_ berechnet."
   ]
  },
  {
   "cell_type": "code",
   "execution_count": 21,
   "metadata": {},
   "outputs": [],
   "source": [
    "from sklearn.neighbors import NearestNeighbors"
   ]
  },
  {
   "cell_type": "code",
   "execution_count": 48,
   "metadata": {},
   "outputs": [],
   "source": [
    "artist_data = ger_data.pivot(index = 'artist-name', columns = 'users', values = 'plays').fillna(0)"
   ]
  },
  {
   "cell_type": "markdown",
   "metadata": {},
   "source": [
    "Konvertierung des Pandas Dataframes zu einer _scipy sparse matrix_."
   ]
  },
  {
   "cell_type": "code",
   "execution_count": 49,
   "metadata": {},
   "outputs": [
    {
     "data": {
      "text/plain": [
       "<6296x15740 sparse matrix of type '<class 'numpy.float64'>'\n",
       "\twith 581682 stored elements in Compressed Sparse Row format>"
      ]
     },
     "execution_count": 49,
     "metadata": {},
     "output_type": "execute_result"
    }
   ],
   "source": [
    "# convert dataframe of movie features to scipy sparse matrix\n",
    "artist_data_sparse_matrix = csr_matrix(artist_data.values)\n",
    "artist_data_sparse_matrix"
   ]
  },
  {
   "cell_type": "markdown",
   "metadata": {},
   "source": [
    "Aufgrund der Problematik des \"curse of dimensionality\" wird anstelle der euklidschen Distanz die Kosinusähnlichkeit als Metrik genommen."
   ]
  },
  {
   "cell_type": "code",
   "execution_count": 50,
   "metadata": {},
   "outputs": [
    {
     "data": {
      "text/plain": [
       "NearestNeighbors(algorithm='brute', leaf_size=30, metric='cosine',\n",
       "                 metric_params=None, n_jobs=None, n_neighbors=5, p=2,\n",
       "                 radius=1.0)"
      ]
     },
     "execution_count": 50,
     "metadata": {},
     "output_type": "execute_result"
    }
   ],
   "source": [
    "model_knn = NearestNeighbors(metric = 'cosine', algorithm = 'brute')\n",
    "model_knn.fit(artist_data_sparse_matrix)"
   ]
  },
  {
   "cell_type": "markdown",
   "metadata": {},
   "source": [
    "#### Empfehlungen auf Basis des k-NN Models\n",
    "_Tutorial von Nick Becker, Nividia_"
   ]
  },
  {
   "cell_type": "code",
   "execution_count": 51,
   "metadata": {},
   "outputs": [
    {
     "name": "stdout",
     "output_type": "stream",
     "text": [
      "Requirement already satisfied: fuzzywuzzy in c:\\users\\janina\\anaconda3\\envs\\conda_env\\lib\\site-packages (0.18.0)\n"
     ]
    }
   ],
   "source": [
    "!pip install fuzzywuzzy\n",
    "# Fuzzy string matching. \n",
    "# It uses Levenshtein Distance to calculate the differences between sequences in a simple-to-use package.\n",
    "import string\n",
    "from fuzzywuzzy import fuzz"
   ]
  },
  {
   "cell_type": "code",
   "execution_count": 52,
   "metadata": {},
   "outputs": [],
   "source": [
    "# @author: Tutorial by Nick Becker, NIVIDIA \n",
    "def print_artist_recommendations(query_artist, artist_plays_matrix, knn_model, k):\n",
    "    query_index = None\n",
    "    ratio_tuples = []\n",
    "    \n",
    "    for i in artist_plays_matrix.index:\n",
    "        ratio = fuzz.ratio(i.lower(), query_artist.lower())\n",
    "        if ratio >= 75:\n",
    "            current_query_index = artist_plays_matrix.index.tolist().index(i)\n",
    "            ratio_tuples.append((i, ratio, current_query_index))\n",
    "    \n",
    "    print('Possible matches: {0}\\n'.format([(x[0], x[1]) for x in ratio_tuples]))\n",
    "    \n",
    "    try:\n",
    "        query_index = max(ratio_tuples, key = lambda x: x[1])[2] # get the index of the best artist match in the data\n",
    "    except:\n",
    "        print('Your artist didn\\'t match any artists in the data. Try again')\n",
    "        return None\n",
    "    \n",
    "    distances, indices = knn_model.kneighbors(artist_plays_matrix.iloc[query_index, :].values.reshape(1, -1), n_neighbors = k + 1)\n",
    "\n",
    "    for i in range(0, len(distances.flatten())):\n",
    "        if i == 0:\n",
    "            print('Recommendations for {0}:\\n'.format(artist_plays_matrix.index[query_index]))\n",
    "        else:\n",
    "            print('{0}: {1}, with distance of {2}:'.format(i, artist_plays_matrix.index[indices.flatten()[i]], distances.flatten()[i])) \n",
    "\n",
    "    return None"
   ]
  },
  {
   "cell_type": "code",
   "execution_count": 53,
   "metadata": {},
   "outputs": [
    {
     "name": "stdout",
     "output_type": "stream",
     "text": [
      "Possible matches: [('red hot chili peppers', 100)]\n",
      "\n",
      "Recommendations for red hot chili peppers:\n",
      "\n",
      "1: queens of the stone age, with distance of 0.6818477090202437:\n",
      "2: john frusciante, with distance of 0.7099858563379238:\n",
      "3: foo fighters, with distance of 0.7364080529030733:\n",
      "4: rage against the machine, with distance of 0.7801260256013212:\n",
      "5: franz ferdinand, with distance of 0.7914699161066545:\n",
      "6: nirvana, with distance of 0.7966072734813947:\n",
      "7: system of a down, with distance of 0.7981886040528324:\n",
      "8: scouting for girls, with distance of 0.798927418670723:\n",
      "9: jack johnson, with distance of 0.8004601517146973:\n",
      "10: billy talent, with distance of 0.817721293163754:\n"
     ]
    }
   ],
   "source": [
    "print_artist_recommendations('red hot chili peppers', artist_data, model_knn, k = 10)"
   ]
  },
  {
   "cell_type": "code",
   "execution_count": 54,
   "metadata": {},
   "outputs": [
    {
     "name": "stdout",
     "output_type": "stream",
     "text": [
      "Possible matches: [('foo fighters', 100)]\n",
      "\n",
      "Recommendations for foo fighters:\n",
      "\n",
      "1: queens of the stone age, with distance of 0.6258212858888631:\n",
      "2: red hot chili peppers, with distance of 0.7364080529030733:\n",
      "3: audioslave, with distance of 0.7470089149111672:\n",
      "4: beatsteaks, with distance of 0.7605475963194824:\n",
      "5: staind, with distance of 0.7688770286008286:\n",
      "6: bush, with distance of 0.7986507504129097:\n",
      "7: the subways, with distance of 0.7993987576972846:\n",
      "8: the killers, with distance of 0.8126079449667216:\n",
      "9: pearl jam, with distance of 0.8155488130321261:\n",
      "10: snow patrol, with distance of 0.8211103299170851:\n"
     ]
    }
   ],
   "source": [
    "print_artist_recommendations('foo fighters', artist_data, model_knn, k = 10)"
   ]
  },
  {
   "cell_type": "code",
   "execution_count": null,
   "metadata": {},
   "outputs": [],
   "source": []
  }
 ],
 "metadata": {
  "colab": {
   "collapsed_sections": [],
   "name": "VersuchRecommenderSystem.ipynb",
   "provenance": []
  },
  "kernelspec": {
   "display_name": "Python 3",
   "language": "python",
   "name": "python3"
  },
  "language_info": {
   "codemirror_mode": {
    "name": "ipython",
    "version": 3
   },
   "file_extension": ".py",
   "mimetype": "text/x-python",
   "name": "python",
   "nbconvert_exporter": "python",
   "pygments_lexer": "ipython3",
   "version": "3.7.7"
  },
  "nav_menu": {},
  "toc": {
   "navigate_menu": true,
   "number_sections": true,
   "sideBar": true,
   "threshold": 6,
   "toc_cell": false,
   "toc_section_display": "block",
   "toc_window_display": true
  },
  "toc_position": {
   "height": "664px",
   "left": "0px",
   "right": "1209.67px",
   "top": "125.333px",
   "width": "212px"
  }
 },
 "nbformat": 4,
 "nbformat_minor": 1
}
