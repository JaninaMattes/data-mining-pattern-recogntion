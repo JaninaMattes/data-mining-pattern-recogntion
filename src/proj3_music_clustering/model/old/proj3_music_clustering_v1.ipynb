{
  "nbformat": 4,
  "nbformat_minor": 0,
  "metadata": {
    "kernelspec": {
      "name": "python3",
      "display_name": "Python 3"
    },
    "nav_menu": {},
    "toc": {
      "navigate_menu": true,
      "number_sections": true,
      "sideBar": true,
      "threshold": 6,
      "toc_cell": false,
      "toc_section_display": "block",
      "toc_window_display": false
    },
    "colab": {
      "name": "VersuchMusicClustering.ipynb",
      "provenance": [],
      "collapsed_sections": [],
      "toc_visible": true
    },
    "accelerator": "TPU"
  },
  "cells": [
    {
      "cell_type": "markdown",
      "metadata": {
        "id": "Evs4YadAlBrC",
        "colab_type": "text"
      },
      "source": [
        "# Data Mining Versuch Music Clustering\n",
        "* Autor: Prof. Dr. Johannes Maucher\n",
        "* Datum: 16.10.2015\n",
        "\n",
        "[Übersicht Ipython Notebooks im Data Mining Praktikum](Data Mining Praktikum.ipynb)\n",
        "\n",
        "# Einführung\n",
        "## Lernziele:\n",
        "In diesem Versuch sollen Kenntnisse in folgenden Themen vermittelt werden:\n",
        "\n",
        "* Zugriff auf Musikdateien\n",
        "* Transcodierung von mp3 zu wav \n",
        "* Extraktion von Merkmalen in Musikdateien (Feature Extraction)\n",
        "* Optimierung mit dem genetischen Algorithmus\n",
        "* Selektion der aussagekräftigsten Merkmale (Feature Selection)\n",
        "* Clustering von Musikfiles (automatische Playlistgenerierung)\n",
        "\n",
        "\n",
        "## Vor dem Versuch zu klärende Fragen\n",
        "\n",
        "### Transcodierung von MP3 nach WAV und Merkmalsextraktion\n",
        "In diesem Versuch wird der MP3 Decoder [mpg123](http://www.mpg123.de/) eingesetzt. Installieren und testen sie diesen Decoder vor dem Versuch auf ihrem Rechner. Machen Sie sich zunächst mit dem in Kapitel [Gegebene Module zur Transcodierung und Feature Extraction](#Gegebene-Module-zur-Transcodierung-und-Feature-Extraction) aufgeführten Code vertraut. Versuchen Sie Funktion und Ablauf dieses Programms zu verstehen und beantworten Sie folgende Fragen.\n",
        "\n",
        "\n"
      ]
    },
    {
      "cell_type": "markdown",
      "metadata": {
        "id": "mWNaqI9I50Oj",
        "colab_type": "text"
      },
      "source": [
        "\n",
        "1. Was versteht man unter den statistischen Größen _Mittelwert, Standardabweichung, Skewness und Kurtosis_?\n",
        "\n",
        "#### Mittelwert\n",
        "Mit dem Begriff Mittelwert (_auch Durchschnitt genannt_) ist in der Statistik meistens das _artithmetische Mittel_ gemeint. Der Mittelwert ist dabei eine Kennzahl für die zentrale Tendenz einer Verteilung. Das arithmetische Mittel ist rechnerisch die Summe der gegebenen Werte geteilt durch die Anzahl der Werte. Angewandt kann dies beispielsweise zum Berechnen einer Durchschnittsgeschwindigkeit werden. In diesem Fall würden die Werte als Geschwindigkeit interpretiert werden. Der _Erwartungswert_ einer Zufallsvariablen beschreibt hingegen die Zahl, die die Zufallsvariable im Mittel annimmt. \n",
        "\n",
        "#### Standardabweichung \n",
        "Die Standardabweichung ist ein Maß dafür, wie weit einzelne Datensätze verteilt sind. Mathematisch wird die Standardabweichung definiert als die mittlere quadratische Abweichung einer reellen Zufallsvariablen von ihrem Erwartungswert. Wenn alle Werte gleich sind, so ist die Standardabweichung Null, da diese von der Varianz abgeleitet ist. Das heißt je weiter Daten vertreut sind, desto höher ist die Standardabweichung. Je enger/näher Datensätze jedoch beieinander liegen, desto niedriger fällt die Standardabweichung aus. Es gibt zwei verschiedene Formeln der Anwendung, welche sich darin unterscheiden, dass nicht durch _n_, sondern durch _n-1_ geteilt wird.\n",
        "- die Standardabweichung für eine Stichprobe, wenn die Ergebnisse generalisierbar sein sollen. D.h. man möchte Ergebnisse erzielen, die es ermöglichen auf alle Menschen und nicht nur auf die ursprügnliche Versuchsgruppe _x_ Rückschlüsse zu ziehen.\n",
        "- die Standardabweichung für die Grundgesamtheit, wenn die Ergebnisse nicht verallgemeinert werden sollen. D.h. die Ergebnisse gelten nur für die Versuchsgruppe _x_.\n",
        "\n",
        "#### Skewness\n",
        "Die Maßzahl der Schiefe (_eng. skewness_) gibt an, inwieweit eine Verteilungsfunktion sich zu einer Seite \"neigt\". Das heißt diese ist ein Maß für die Asymmetrie einer Verteilung. Der Wert kann dabei _positiv_ (Verteilungsfunktion tendiert nach rechts), _negativ_ (Verteilungsfunktion tendiert nach links), _null_ (Verteilungsfunktion ist symmetrisch) und _undefiniert_ (0/0) sein.\n",
        "\n",
        "###### Eigenschaften einer unimodalen Verteilung**\n",
        "- linksschief (identisch mit dem Begriff rechtssteil) Verteilungen ist der Median größer als das arithmetische Mittel. \n",
        "- rechtsschief  (identisch mit dem Begriff linkssteil) Verteilungen ist der Modus kleiner als der Erwartungswert\n",
        "- Ist die Verteilungsfunktion symmetrisch, so ist das arithmetische Mittel gleich dem Median und die Verteilung wird eine Schiefe von 0 haben. \n",
        "\n",
        "#### Kurtosis\n",
        "Die Kurtosis (_dt. Wölbung_) ist ein Maß für die Steilheit einer Wahrscheinlichkeitsfunktion, oder Häufigkeitsverteilung. Verteilungen mit geringer Wölbung streuen relativ gleichmäßig.Verteilungen mit niederger Kurtosis streuen relativ gleichmäßig(breite Glocke), Verteilungen mit hoher Kurtosis haben eine mehr extreme auf einem Punkt verteilte Streuung(spitze Glocke).\n",
        "\n",
        "2. Was beschreibt die Fourier-Transformierte eines zeitlich ausgedehnten Signals?\n",
        "\n",
        "#### Die Fourier Transformation\n",
        "Die Fourier-Transformation (genauer die kontinuierliche Fourier-Transformation  ist eine mathematische Methode aus dem Bereich der Fourier-Analysis, mit der kontinuierliche, aperiodische Signale in ein kontinuierliches Spektrum zerlegt werden. Die Funktion, die dieses Spektrum beschreibt, nennt man auch Fourier-Transformierte oder Spektralfunktion. Es handelt sich dabei um eine Integraltransformation, die nach dem Mathematiker Jean Baptiste Joseph Fourier benannt ist. Fourier führte im Jahr 1822 die Fourier-Reihe ein, die jedoch nur für periodische Signale definiert ist und zu einem diskreten Frequenzspektrum führt. Die Entwicklung einer Funktion in ihre _Fourier-Reihe_ wird harmonische Analyse genannt. Die Funktion wird dabei als Überlagerung von sinusförmigen, Schwingungen dargestellt. Ist die Funktion ein Eingangssignal eines LTI-Systems, kann das Ausgangssignal relativ einfach berechnet werden, da das Signals als Überlagerung von Eigenfunktionen des Systems vorliegt.\n",
        "\n",
        "Kurz: Die _Fourier Transformation_ zerlegt das Signal in verschiedene Sinuswellen, aus denen es besteht. Sie gibt an mit welcher Intensität die einzelnen Frequenzen im zeitlich ausgedehnten Signal vorkommen.\n",
        "\n",
        "3. Mit welcher Samplingrate werden die WAV Dateien abgetastet?\n",
        "\n",
        "#### Abtastrate von WAV Dateien\n",
        "Die Abtastrate oder Abtastfrequenz, auch Samplingrate, Samplerate oder Samplingfrequenz, ist in der Signalverarbeitung die Häufigkeit, mit der ein Analogsignal (auch zeitkontinuierliches Signal genannt) in einer vorgegebenen Zeit abgetastet (das heißt, gemessen und in ein zeitdiskretes Signal umgewandelt) wird. Da es sich bei einer Abtastung immer um einen periodischen Vorgang handelt, ist ihre grundlegende Einheit das *Hertz* (abgekürzt: Hz), also Perioden pro Sekunde.\n",
        "\n",
        "- Ein Abtastvorgang pro Sekunde: 1 Hz = 1 S/s\n",
        "- Bei CDs werden die Audiodateien als WAV-Dateien mit 44.1Khz Abtastrate abgespeichert.\n",
        "- Die Sample Rate dieses Versuches wird in -r 10.000 angegeben.\n",
        "\n",
        "Die Waveform Audi File Format (_WAV_) ist eine von IBM und Missrn\n",
        "soft entwickeltes Containerformat für die Speicherung von Audiodaten. Die in den Containern enthaltenen  Dateien sind normalerweise unkomprimierte in _Pulscodemodulation (PCM)_ codierte Audiosignale für die Speicherung und Bearbeitung von Audio-Informationen. WAV-Dateien sind unkomprimiert und fehlerfrei, aber relativ groß. Ihre Größe ergibt sich aus der Abtastrate und der Samplingtiefe bei der Digitalisierung des analogen Audiosignals. Daraus ergibt sich bei einer standardmäßigen Abtastrate von **44,1 kHz** und einer Samplingtiefe von **16 Bit** eine Dateigröße von **5,3 Megabyte (MB) pro Minute** für ein Monosignal. Es sind allerdings auch andere Abtastraten und Sampletiefen möglich.\n",
        "\n",
        "\n",
        "\n",
        "4. Insgesamt werden 42 Merkmale pro Musiksequenz extrahiert. Beschreiben Sie kurz diese Merkmale\n",
        "\n",
        "#### Merkmalsextraktion bei WAV Dateien\n",
        "Die extrahierten Merkmale betreffen die Kurtuosis... **(muss noch ergänzt werden)** Diese Merkmale liegen sowohl im Spektralbereich, als auch Merkmale im Zeitbereich.\n",
        "\n",
        "_amp1/amp10/amp100/amp1000: Verschieden starke Glättung von 1, 10, 100 und 1000 samples_\n",
        "\n",
        "- mean: Mittelwert\n",
        "\n",
        "- dstd: Wir haben dazu nichts gefunden\n",
        "\n",
        "- std: Standartabweichung\n",
        "\n",
        "- skew: Skewness\n",
        "\n",
        "- kurt: Kurtosis\n",
        "\n",
        "- power1-power10: Spalten den Frequenzbereich in 10 Bereiche und geben den Pegel in dem jeweiligen Bereich an.\n"
      ]
    },
    {
      "cell_type": "markdown",
      "metadata": {
        "id": "VLmhr9oUlBrD",
        "colab_type": "text"
      },
      "source": [
        "### Matching der Teilsequenzen\n",
        "\n",
        "1. Nachdem für jedes Musikstück die beiden Teilsequenzen in Form der extrahierten Merkmale vorliegen: Wie kann die Ähnlichkeit zwischen Teilsequenzen ermittelt werden?\n",
        "\n",
        "Die Musikstücke, welche als Trainingsdaten vorliegen, werden die einzelnen Teilsequencen in Vektoren umgewandelt und anschließend auf deren Ähnlichkeit miteinander vergliechen. Haben diese eine hohe Ähnlichkeit, so so müsste das erste Teilstück und das zweite Teilstück gleich oder sehr ähnlich sein. \n",
        "\n"
      ]
    },
    {
      "cell_type": "markdown",
      "metadata": {
        "id": "wEJ8DXSxcb8k",
        "colab_type": "text"
      },
      "source": [
        "2. Welche Numpy- bzw. Scipy-Module können Sie für die Bestimmung der Ähnlichkeit zwischen Teilsequenzen einsetzen?"
      ]
    },
    {
      "cell_type": "markdown",
      "metadata": {
        "id": "t_hA9DFI6D7q",
        "colab_type": "text"
      },
      "source": [
        "Aus der Scipy Libary können folgende Funktionen angewandt werden, um die Ähnlichkeit der einzelnen Teilsequenzen zu berechnen.  \n",
        "\n",
        "```\n",
        "scipy.spatial.distance.euclidean (Euklid)\n",
        "\n",
        "scipy.stats.pearsonr (Pearson)\n",
        "\n",
        "scipy.spatial.distance.cosine (Kosinus)\n",
        "```\n"
      ]
    },
    {
      "cell_type": "markdown",
      "metadata": {
        "id": "wVvT3Z_OlBrE",
        "colab_type": "text"
      },
      "source": [
        "## Genetischer Algorithmus für die Merkmalsselektion\n",
        "\n",
        "1. Beschreiben Sie die Prozesschritte im genetischen Algorithmus [Genetischer Algorithmus](https://www.hdm-stuttgart.de/~maucher/Python/FunktionenAlgorithmen/html/genAlgTSP.html)\n",
        "\n"
      ]
    },
    {
      "cell_type": "markdown",
      "metadata": {
        "id": "Sa3U4VDljfEG",
        "colab_type": "text"
      },
      "source": [
        "Ein Genetischer Algorithmus (GA) ist eine Such-Heuristik, welche durch _Charls Darwin's_ Theorie der natürlichen Evolution inspiriert wurde. Dieser reflektiert den Prozess, in welchem eine natürliche Selektion der besten (_fittest_) Individuen einer Population für eine Reproduktion selektiert werden. Genetische Algorithmen (GA) sind sehr gut für Probleme in der Suche, als auch für Optimierungen einzusetzen. Ein Beispiel hierfür ist der Einsatz eines _GA_, um eine Lösung für das \"Travelling Salesman Problem\" (TSP) zu finden. \n",
        "Für die Erkundung der besten Merkmale in diesem Fall werden die einzelnen Elemente des GA auf die Problemstellung wie folgt übertragen: \n",
        "\n",
        "\n",
        "* **Gene**: Satz an Parametern (Variablen).\n",
        "* **Individual/Chromosome**: Ein Chromosom ist eine Zusammensetzung von Genen. In diesem Fall ein einzelnes Merkmal, welches die Bedingungen erfüllt. \n",
        "* **Population**: Eine Sammlung möglicher Merkmale.\n",
        "* **Parents**: Zwei Merkmale, welche kombiniert werden, um ein neues Merkmal zu generieren.\n",
        "* **Mating Pool**: Eine Sammlung an Elternteilen, welche dazu verwendet werden, eine neue Population (nächste Generation) zu generieren.\n",
        "* **Fitness**: Eine Funktion, welche die Güte der Mermale anhand ihres _mittleren Rangs_ bewertet.\n",
        "* **Mutation**: Eine Möglichkeit Variationen in der Population zu erzeugen, durch zufälliges austauschen von Elementen der Merkmale.\n",
        "\n",
        "#### Die Schritte der Ausführung des Genetischen Algorithmus\n",
        "\n",
        "##### Erzeugung zufälliger Population:\n",
        "Erzeugt eine Menge von Individuen mit zufälligen Chromosomen. Jedes Individum ist ein Lösungsvorschlag für ein Problem.\n",
        "\n",
        "##### Bestimme Fitness:\n",
        "Individuen werden anhand einer Fitnessfunktion bewertet.\n",
        "\n",
        "##### Selektion:\n",
        "Wähle ein Paar von Individuen aus. Die Auswahl ist von der Fitness abhängig. Je höher die Fitness, desto höher die Wahrscheinlichkeit, dass sie für die Kreuzung ausgewählt werden.\n",
        "\n",
        "##### Kreuzung:\n",
        "\n",
        "Paare werden gekreuzt und erzeugen Nachkommen, welche die Chromosomen der Eltern erben. Hier wird ein zufälliger Schnittpunkt zur Vereinigung der Elternvektoren genutzt. Die Chromosome werden an dieser Stelle geteilt und miteinander vertauscht.\n",
        "\n",
        "##### Mutation:\n",
        "\n",
        "Ein Teil der Chromosomen wird zufällig verändert. Es gibt eine Mutationswahrscheinlichkeit, folglich kommt es nicht immer zu einer Mutation.\n",
        "\n",
        "##### Austausch:\n",
        "\n",
        "Wenn einer der Nachkommen eine bessere Fitness besitzt als einer aus der Ursprungspopulation, wird dieser ersetzt. Dabei dürfen keine Duplikate entstehen.\n",
        "\n",
        "##### Abbruchbedingung:\n",
        "\n",
        "Gibt an wann die Schleife beendet wird. In der Regel wird der genetische Algorithmus beendet wenn nach vielen Iteration die Fitness sich nicht verbessert, manchmal auch nach einer festgelegten Anzahl an Iterationen.\n"
      ]
    },
    {
      "cell_type": "markdown",
      "metadata": {
        "id": "Gs293mdCji1C",
        "colab_type": "text"
      },
      "source": [
        "2. In diesem Versuch wird davon ausgegangen, dass Merkmale dann gut sind, wenn durch sie die erste Teilsequenz eines Musikstücks durch einen ähnlichen Vektor wie die jeweils zweite Teilsequenz beschrieben wird. Wie kann mit dieser Annahme der genetische Algorithmus für die Merkmalsselektion angewandt werden. Unter Merkmalsselektion versteht man allgemein die Suche nach den $r$ besten Merkmalen aus einer Menge von insgesamt $R$ Merkmalen. In diesem Versuch werden initial $R=42$ Merkmale extrahiert, aus denen dann die besten $r<R$ Merkmale zu bestimmen sind. Überlegen Sie hierfür speziell wie die Fitnessfunktion, die Kreuzung und die Mutation zu realisieren sind."
      ]
    },
    {
      "cell_type": "markdown",
      "metadata": {
        "id": "d_BHfff_6GDr",
        "colab_type": "text"
      },
      "source": [
        "##### Fitnessfunktion:\n",
        "\n",
        "Euklidische Distanz der verwendeten Features zwischen der ersten und der zweiten Teilsequenz. Diese errechneten Werte werden aufsteigend sortiert in einem Array abgespeichert. Danach wird aus dem Array ein Mittlerer Rang(siehe Aufgabebeschreibung Matching der Teilsequenzen 4.) berechnet. Dieser spiegelt die Fitness wieder.\n",
        "\n",
        "##### Kreuzung:\n",
        "\n",
        "Indivduen mit niedriger Distanz bzw. mit gutem Fitnesswert werden miteinander gekreuzt. Dabei wird ein zufälliger Schnittpunkt zur Vereinigung der Elternvektoren genutzt. Die Chromosome werden an dieser Stelle geteilt und miteinander vertauscht.\n",
        "\n",
        "##### Mutation:\n",
        "\n",
        "Mit niedriger Wahrscheinlichkeit wird ein Wert zufällig verändert.\n"
      ]
    },
    {
      "cell_type": "markdown",
      "metadata": {
        "id": "Txss7oTBlBrF",
        "colab_type": "text"
      },
      "source": [
        "### Clustering und Playlistgenerierung\n",
        "\n",
        "1. Wie kann mit einem hierarchischen Clustering der Musikfiles eine Menge von Playlists erzeugt werden, so dass innerhalb einer Playlist möglichst ähnliche Titel zu finden sind?"
      ]
    },
    {
      "cell_type": "markdown",
      "metadata": {
        "id": "rb9vqUwL6K9z",
        "colab_type": "text"
      },
      "source": [
        "Titel, die im Clustering nahe beieinander liegen, werden in eine Playlist genommen. Je größer man die Cluster macht, desto unähnlicher werden die Titel untereinander sein. In dem Prozess werden ähnliche Songs zu einem Cluster zusammengefügt. Danach werden Cluster, die sich ähnlich sind, zu Clustern zusammengefügt usw.\n"
      ]
    },
    {
      "cell_type": "markdown",
      "metadata": {
        "id": "sGq3GmBUlBrH",
        "colab_type": "text"
      },
      "source": [
        "# Durchführung\n",
        "## Gegebene Module zur Transcodierung und Feature Extraction\n",
        "Mit dem in diesem Abschnitt gegebenen Code werden die im Unterverzeichnis _BandCollection_ befindlichen mp3-Files zunächst in wave decodiert. Danach werden aus den wave Dateien Audiomerkmale erhoben.\n",
        "\n",
        "Von jedem Musikstück werden zwei disjunkte Teilsequenzen erhoben und von beiden Teilsequenzen jeweils ein Merkmalsvektor gebildet. Der Grund hierfür ist: Für die später folgende Bestimmung der wichtigsten Merkmale (Merkmalsselektion mit dem genetischen Algorithmus), wird angenommen dass Merkmale dann gut sind, wenn die aus ihnen gebildeten Merkmalsvektoren für Teilsequenzen des gleichen Musikstücks nahe beieinander liegen und die Merkmalsvektoren von Teilsequenzen unterschiedlicher Musikstücke weiter voneinander entfernt sind. In der Merkmalsselektion werden dann die Merkmale als relevant erachtet, für die diese Annahme zutrifft. \n",
        "\n",
        "**Aufgaben:**\n",
        "\n",
        "1. Stellen Sie im unten gegebenen Code die Verzeichnisse für Ihre Musikdateien (aktuell Unterverzeichnis _BandCollection_) und für den Ort Ihres _mpg123_ Decoders richtig ein.\n",
        "2. Die verwendete Musiksammlung sollte mindestens 5 verschiedene Interpreten möglichst unterschiedlicher Genres enthalten. Von jedem Interpret sollten mehrere Titel (evtl. ein ganzes Album) enthalten sein.\n",
        "3. Führen Sie den in diesem Abschnitt gegebenen Programmcode zur Audiofeature-Extraction aus. Damit werden für alle Musiksequenzen jeweils 42 Merkmale extrahiert. Die extrahierten Merkmalsvektoren der jeweils ersten Sequenz werden in das File _FeatureFileTrainingAllList1.csv_ geschrieben, die der zweiten Teilsequen in das File _FeatureFileTestAllList2.csv_. \n"
      ]
    },
    {
      "cell_type": "code",
      "metadata": {
        "id": "zDsDWIHnmAa8",
        "colab_type": "code",
        "outputId": "7d0cb099-0664-4f93-f3fe-66ccc9cf3dd7",
        "colab": {
          "base_uri": "https://localhost:8080/",
          "height": 34
        }
      },
      "source": [
        "from google.colab import drive\n",
        "drive.mount('/content/drive')"
      ],
      "execution_count": 1,
      "outputs": [
        {
          "output_type": "stream",
          "text": [
            "Drive already mounted at /content/drive; to attempt to forcibly remount, call drive.mount(\"/content/drive\", force_remount=True).\n"
          ],
          "name": "stdout"
        }
      ]
    },
    {
      "cell_type": "code",
      "metadata": {
        "id": "biiFla1PT7fd",
        "colab_type": "code",
        "colab": {
          "base_uri": "https://localhost:8080/",
          "height": 34
        },
        "outputId": "39cf8374-c692-4966-fa36-d1c630ef4b31"
      },
      "source": [
        " cd '/content/drive/My Drive/Colab Notebooks'"
      ],
      "execution_count": 2,
      "outputs": [
        {
          "output_type": "stream",
          "text": [
            "/content/drive/.shortcut-targets-by-id/1yHcauYAFR9wD5O_2_jLUbkgxOwcTrIcc/Colab Notebooks\n"
          ],
          "name": "stdout"
        }
      ]
    },
    {
      "cell_type": "code",
      "metadata": {
        "id": "47ev1m4t3tbM",
        "colab_type": "code",
        "colab": {}
      },
      "source": [
        "# Check for TPU Device with Colab\n",
        "\n",
        "import os\n",
        "import pprint\n",
        "import tensorflow as tf\n",
        "\n",
        "if 'COLAB_TPU_ADDR' not in os.environ:\n",
        "  print('ERROR: Not connected to a TPU runtime; please see the first cell in this notebook for instructions!')\n",
        "else:\n",
        "  tpu_address = 'grpc://' + os.environ['COLAB_TPU_ADDR']\n",
        "  print ('TPU address is', tpu_address)\n",
        "\n",
        "  with tf.Session(tpu_address) as session:\n",
        "    devices = session.list_devices()\n",
        "    \n",
        "  print('TPU devices:')\n",
        "  pprint.pprint(devices)"
      ],
      "execution_count": 0,
      "outputs": []
    },
    {
      "cell_type": "code",
      "metadata": {
        "id": "EXo10tHelBrH",
        "colab_type": "code",
        "colab": {}
      },
      "source": [
        "import subprocess\n",
        "import wave\n",
        "import struct\n",
        "import numpy\n",
        "import os\n",
        "import pandas as pd\n",
        "\n",
        "numpy.set_printoptions(precision=2,suppress=True)\n",
        "\n",
        "#Names of features extracted in this module\n",
        "FeatNames=[\"amp1mean\",\"amp1std\",\"amp1skew\",\"amp1kurt\",\"amp1dmean\",\"amp1dstd\",\"amp1dskew\",\"amp1dkurt\",\"amp10mean\",\"amp10std\",\n",
        "           \"amp10skew\",\"amp10kurt\",\"amp10dmean\",\"amp10dstd\",\"amp10dskew\",\"amp10dkurt\",\"amp100mean\",\"amp100std\",\"amp100skew\",\n",
        "           \"amp100kurt\",\"amp100dmean\",\"amp100dstd\",\"amp100dskew\",\"amp100dkurt\",\"amp1000mean\",\"amp1000std\",\"amp1000skew\",\n",
        "           \"amp1000kurt\",\"amp1000dmean\",\"amp1000dstd\",\"amp1000dskew\",\"amp1000dkurt\",\"power1\",\"power2\",\"power3\",\"power4\",\n",
        "           \"power5\",\"power6\",\"power7\",\"power8\",\"power9\",\"power10\"]"
      ],
      "execution_count": 0,
      "outputs": []
    },
    {
      "cell_type": "code",
      "metadata": {
        "id": "fp2qEJBclBrN",
        "colab_type": "code",
        "colab": {}
      },
      "source": [
        "def moments(x):\n",
        "    mean = x.mean()\n",
        "    std = x.var()**0.5\n",
        "    skewness = ((x - mean)**3).mean() / std**3\n",
        "    kurtosis = ((x - mean)**4).mean() / std**4\n",
        "    return [mean, std, skewness, kurtosis]"
      ],
      "execution_count": 0,
      "outputs": []
    },
    {
      "cell_type": "code",
      "metadata": {
        "id": "I4lIGiM9lBrR",
        "colab_type": "code",
        "colab": {}
      },
      "source": [
        "#Feature category 2: Frequency domain parameters\n",
        "def fftfeatures(wavdata):\n",
        "    f = numpy.fft.fft(wavdata)\n",
        "    f = f[2:int(f.size / 2 + 1)]\n",
        "    f = abs(f)\n",
        "    total_power = f.sum()\n",
        "    f = numpy.array_split(f, 10)\n",
        "    return [e.sum() / total_power for e in f]"
      ],
      "execution_count": 0,
      "outputs": []
    },
    {
      "cell_type": "code",
      "metadata": {
        "id": "7W96lvuNlBrV",
        "colab_type": "code",
        "colab": {}
      },
      "source": [
        "#Creating the entire feature vector per music-file\n",
        "def features(x):\n",
        "    x = numpy.array(x)\n",
        "    f = []\n",
        "\n",
        "    xs = x\n",
        "    diff = xs[1:] - xs[:-1]\n",
        "    f.extend(moments(xs))\n",
        "    f.extend(moments(diff))\n",
        "\n",
        "    xs = x.reshape(-1, 10).mean(1)\n",
        "    diff = xs[1:] - xs[:-1]\n",
        "    f.extend(moments(xs))\n",
        "    f.extend(moments(diff))\n",
        "\n",
        "    xs = x.reshape(-1, 100).mean(1)\n",
        "    diff = xs[1:] - xs[:-1]\n",
        "    f.extend(moments(xs))\n",
        "    f.extend(moments(diff))\n",
        "\n",
        "    xs = x.reshape(-1, 1000).mean(1)\n",
        "    diff = xs[1:] - xs[:-1]\n",
        "    f.extend(moments(xs))\n",
        "    f.extend(moments(diff))\n",
        "\n",
        "    f.extend(fftfeatures(x))\n",
        "    return f"
      ],
      "execution_count": 0,
      "outputs": []
    },
    {
      "cell_type": "code",
      "metadata": {
        "id": "x-3WHdG2lBrY",
        "colab_type": "code",
        "colab": {}
      },
      "source": [
        "def read_wav(wav_file):\n",
        "    \"\"\"Returns two chunks of sound data from wave file.\"\"\"\n",
        "    w = wave.open(wav_file)\n",
        "    n = 50 * 10000\n",
        "    if w.getnframes() < n * 3:\n",
        "        raise ValueError('Wave file too short')\n",
        "    #For each music file 2 sequences, each containing n frames are subtracted. The first sequence starts at postion n,\n",
        "    #the second sequence starts at postion 2n. The reason for extracting 2 subsequences is, that later on we like to\n",
        "    #find the best features and in this exercise we assume that good features have the property that they are similar for 2 subsequences\n",
        "    #of the same song, but differ for subsequences of different songs.\n",
        "    w.setpos(n)\n",
        "    frames = w.readframes(n)\n",
        "    wav_data1 = struct.unpack('%dh' % n, frames)\n",
        "    frames = w.readframes(n)\n",
        "    wav_data2 = struct.unpack('%dh' % n, frames)\n",
        "    return wav_data1, wav_data2"
      ],
      "execution_count": 0,
      "outputs": []
    },
    {
      "cell_type": "code",
      "metadata": {
        "id": "usMjeaoSlBrd",
        "colab_type": "code",
        "colab": {}
      },
      "source": [
        "def compute_chunk_features(mp3_file):\n",
        "    \"\"\"Return feature vectors for two chunks of an MP3 file.\"\"\"\n",
        "    # Extract MP3 file to a mono, 10kHz WAV file\n",
        "    #mpg123_command = 'C:\\Program Files (x86)\\mpg123-1.22.0-x86\\mpg123-1.22.0-x86\\\\mpg123.exe -w \"%s\" -r 10000 -m \"%s\"'\n",
        "    #mpg123_command = 'C:\\\\Program Files (x86)\\\\mpg123-1.21.0-x86-64\\\\mpg123.exe -w \"%s\" -r 10000 -m \"%s\"'\n",
        "    mpg123_command = '/content/drive/My Drive/Colab Notebooks/mpg123/mpg123.exe -w \"%s\" -r 10000 -m \"%s\"'\n",
        "    #mpg123_command = '/content/drive/My Drive/Colab Notebooks/BandCollection\n",
        "    out_file = 'temp.wav'\n",
        "    cmd = mpg123_command % (out_file, mp3_file)\n",
        "    temp = subprocess.call(cmd)\n",
        "    # Read in chunks of data from WAV file\n",
        "    wav_data1, wav_data2 = read_wav(out_file)\n",
        "    # We'll cover how the features are computed in the next section!\n",
        "    return numpy.array(features(wav_data1)), numpy.array(features(wav_data2))"
      ],
      "execution_count": 0,
      "outputs": []
    },
    {
      "cell_type": "code",
      "metadata": {
        "id": "kv3L534clBrg",
        "colab_type": "code",
        "outputId": "f2c1eb78-fb19-4b4b-fd2d-28304d8674c0",
        "colab": {
          "base_uri": "https://localhost:8080/",
          "height": 1000
        }
      },
      "source": [
        "fileList=[]\n",
        "featureList1=[]\n",
        "featureList2=[]\n",
        "#Specify the name of the directory, which contains your MP3 files here.\n",
        "# This directory should contain for each band/author one subdirectory, which contains all songs of this author\n",
        "for path, dirs, files in os.walk('./BandCollection'):\n",
        "    for f in files:\n",
        "        if not f.endswith('.mp3'):\n",
        "            # Skip any non-MP3 files\n",
        "            continue\n",
        "        mp3_file = os.path.join(path, f)\n",
        "        print mp3_file\n",
        "        # Extract the track name (i.e. the file name) plus the names\n",
        "        # of the two preceding directories. This will be useful\n",
        "        # later for plotting.\n",
        "        tail, track = os.path.split(mp3_file)\n",
        "        tail, dir1 = os.path.split(tail)\n",
        "        tail, dir2 = os.path.split(tail)\n",
        "        # Compute features. feature_vec1 and feature_vec2 are lists of floating\n",
        "        # point numbers representing the statistical features we have extracted\n",
        "        # from the raw sound data.\n",
        "        try:\n",
        "            feature_vec1, feature_vec2 = compute_chunk_features(mp3_file)\n",
        "        except:\n",
        "            print \"Error: Chunk Features failed\"\n",
        "            continue\n",
        "        #title=str(track)\n",
        "        title=str(dir1)+'\\\\'+str(track)\n",
        "        print '-'*20+ title +'-'*20\n",
        "        #print \"       feature vector 1:\",feature_vec1\n",
        "        #print \"       feature vector 2:\",feature_vec2\n",
        "        fileList.append(title)\n",
        "        featureList1.append(feature_vec1)\n",
        "        featureList2.append(feature_vec2)\n",
        "\n",
        "# Write feature vecotrs of all music files to pandas data-frame\n",
        "MusicFeaturesTrain=pd.DataFrame(index=fileList,data=numpy.array(featureList1),columns=FeatNames)\n",
        "MusicFeaturesTrain.to_csv(\"FeatureFileTrainingAllList1.csv\")\n",
        "\n",
        "MusicFeaturesTest=pd.DataFrame(index=fileList,data=numpy.array(featureList2),columns=FeatNames)\n",
        "MusicFeaturesTest.to_csv(\"FeatureFileTestAllList2.csv\")"
      ],
      "execution_count": 97,
      "outputs": [
        {
          "output_type": "stream",
          "text": [
            "./BandCollection/Garrett/03 Clair de Lune 1.mp3\n",
            "Error: Chunk Features failed\n",
            "./BandCollection/Garrett/02 Who Wants to Live Forever_ 1.mp3\n",
            "Error: Chunk Features failed\n",
            "./BandCollection/Garrett/06 Brahms Hungarian Dance No. 5 1.mp3\n",
            "Error: Chunk Features failed\n",
            "./BandCollection/Garrett/15 Winter Lullaby.mp3\n",
            "Error: Chunk Features failed\n",
            "./BandCollection/Garrett/04 He's a Pirate (Pirates of the Car 1.mp3\n",
            "Error: Chunk Features failed\n",
            "./BandCollection/Garrett/08 Summer 1.mp3\n",
            "Error: Chunk Features failed\n",
            "./BandCollection/Garrett/14 Rock Prelude.mp3\n",
            "Error: Chunk Features failed\n",
            "./BandCollection/Garrett/12 New Day.mp3\n",
            "Error: Chunk Features failed\n",
            "./BandCollection/Garrett/10 Air.mp3\n",
            "Error: Chunk Features failed\n",
            "./BandCollection/Garrett/13 Ain't No Sunshine.mp3\n",
            "Error: Chunk Features failed\n",
            "./BandCollection/Garrett/11 Thunderstruck.mp3\n",
            "Error: Chunk Features failed\n",
            "./BandCollection/Garrett/01 Smooth Criminal 1.mp3\n",
            "Error: Chunk Features failed\n",
            "./BandCollection/Garrett/07 Chelsea Girl 1.mp3\n",
            "Error: Chunk Features failed\n",
            "./BandCollection/Garrett/16 Little Wing.mp3\n",
            "Error: Chunk Features failed\n",
            "./BandCollection/Garrett/09 O Mio Babbino Caro 1.mp3\n",
            "Error: Chunk Features failed\n",
            "./BandCollection/Garrett/05 Summertime 1.mp3\n",
            "Error: Chunk Features failed\n",
            "./BandCollection/LanaDelRey/05 Diet Mountain Dew.mp3\n",
            "Error: Chunk Features failed\n",
            "./BandCollection/LanaDelRey/04 Video Games (Remastered).mp3\n",
            "Error: Chunk Features failed\n",
            "./BandCollection/LanaDelRey/09 Carmen.mp3\n",
            "Error: Chunk Features failed\n",
            "./BandCollection/LanaDelRey/06 National Anthem.mp3\n",
            "Error: Chunk Features failed\n",
            "./BandCollection/LanaDelRey/12 This Is What Makes Us Girls.mp3\n",
            "Error: Chunk Features failed\n",
            "./BandCollection/LanaDelRey/07 Dark Paradise.mp3\n",
            "Error: Chunk Features failed\n",
            "./BandCollection/LanaDelRey/10 Million Dollar Man.mp3\n",
            "Error: Chunk Features failed\n",
            "./BandCollection/LanaDelRey/03 Blue Jeans (Remastered).mp3\n",
            "Error: Chunk Features failed\n",
            "./BandCollection/LanaDelRey/11 Summertime Sadness.mp3\n",
            "Error: Chunk Features failed\n",
            "./BandCollection/LanaDelRey/08 Radio.mp3\n",
            "Error: Chunk Features failed\n",
            "./BandCollection/LanaDelRey/01 Born to Die.mp3\n",
            "Error: Chunk Features failed\n",
            "./BandCollection/LanaDelRey/02 Off to the Races.mp3\n",
            "Error: Chunk Features failed\n",
            "./BandCollection/BeastieBoys/11 Sure Shot.mp3\n",
            "Error: Chunk Features failed\n",
            "./BandCollection/BeastieBoys/01 So What'cha Want.mp3\n",
            "Error: Chunk Features failed\n",
            "./BandCollection/BeastieBoys/04 No Sleep Till Brooklyn.mp3\n",
            "Error: Chunk Features failed\n",
            "./BandCollection/BeastieBoys/05 Hey Ladies.mp3\n",
            "Error: Chunk Features failed\n",
            "./BandCollection/BeastieBoys/13 Triple Trouble.mp3\n",
            "Error: Chunk Features failed\n",
            "./BandCollection/BeastieBoys/09 Shake Your Rump.mp3\n",
            "Error: Chunk Features failed\n",
            "./BandCollection/BeastieBoys/14 Sabotage.mp3\n",
            "Error: Chunk Features failed\n",
            "./BandCollection/BeastieBoys/12 Body Movin' (Fatboy Slim Remix).mp3\n",
            "Error: Chunk Features failed\n",
            "./BandCollection/BeastieBoys/02 Brass Monkey.mp3\n",
            "Error: Chunk Features failed\n",
            "./BandCollection/BeastieBoys/07 An Open Letter to NYC.mp3\n",
            "Error: Chunk Features failed\n",
            "./BandCollection/BeastieBoys/03 Ch-Check It Out.mp3\n",
            "Error: Chunk Features failed\n",
            "./BandCollection/BeastieBoys/10 Intergalactic.mp3\n",
            "Error: Chunk Features failed\n",
            "./BandCollection/BeastieBoys/15 Fight for Your Right.mp3\n",
            "Error: Chunk Features failed\n",
            "./BandCollection/BeastieBoys/06 Pass the Mic.mp3\n",
            "Error: Chunk Features failed\n",
            "./BandCollection/BeastieBoys/08 Root Down.mp3\n",
            "Error: Chunk Features failed\n",
            "./BandCollection/Adele/03 Don't You Remember.mp3\n",
            "Error: Chunk Features failed\n",
            "./BandCollection/Adele/04 Turning Tables.mp3\n",
            "Error: Chunk Features failed\n",
            "./BandCollection/Adele/08 Take It All.mp3\n",
            "Error: Chunk Features failed\n",
            "./BandCollection/Adele/17 Rolling In The Deep.mp3\n",
            "Error: Chunk Features failed\n",
            "./BandCollection/Adele/13 Chasing Pavements.mp3\n",
            "Error: Chunk Features failed\n",
            "./BandCollection/Adele/05 Set Fire To The Rain.mp3\n",
            "Error: Chunk Features failed\n",
            "./BandCollection/Adele/02 I'll Be Waiting.mp3\n",
            "Error: Chunk Features failed\n",
            "./BandCollection/Adele/10 Right As Rain.mp3\n",
            "Error: Chunk Features failed\n",
            "./BandCollection/Adele/09 Rumour Has It.mp3\n",
            "Error: Chunk Features failed\n",
            "./BandCollection/Adele/11 One And Only.mp3\n",
            "Error: Chunk Features failed\n",
            "./BandCollection/Adele/12 Lovesong.mp3\n",
            "Error: Chunk Features failed\n",
            "./BandCollection/Adele/16 Someone Like You.mp3\n",
            "Error: Chunk Features failed\n",
            "./BandCollection/Adele/15 Make You Feel My Love.mp3\n",
            "Error: Chunk Features failed\n",
            "./BandCollection/Adele/14 I Can't Make You Love Me.mp3\n",
            "Error: Chunk Features failed\n",
            "./BandCollection/Adele/01 Hometown Glory.mp3\n",
            "Error: Chunk Features failed\n",
            "./BandCollection/Adele/06 If It Hadn't Been For Love.mp3\n",
            "Error: Chunk Features failed\n",
            "./BandCollection/Adele/07 My Same.mp3\n",
            "Error: Chunk Features failed\n",
            "./BandCollection/RageAgainstTheMachine/02 Killing In the Name.mp3\n",
            "Error: Chunk Features failed\n",
            "./BandCollection/RageAgainstTheMachine/01 Bombtrack.mp3\n",
            "Error: Chunk Features failed\n",
            "./BandCollection/RageAgainstTheMachine/10 Freedom.mp3\n",
            "Error: Chunk Features failed\n",
            "./BandCollection/RageAgainstTheMachine/08 Fistful of Steel.mp3\n",
            "Error: Chunk Features failed\n",
            "./BandCollection/RageAgainstTheMachine/09 Township Rebellion.mp3\n",
            "Error: Chunk Features failed\n",
            "./BandCollection/RageAgainstTheMachine/04 Settle for Nothing.mp3\n",
            "Error: Chunk Features failed\n",
            "./BandCollection/RageAgainstTheMachine/05 Bullet In the Head.mp3\n",
            "Error: Chunk Features failed\n",
            "./BandCollection/RageAgainstTheMachine/07 Wake Up.mp3\n",
            "Error: Chunk Features failed\n",
            "./BandCollection/RageAgainstTheMachine/03 Take the Power Back.mp3\n",
            "Error: Chunk Features failed\n",
            "./BandCollection/RageAgainstTheMachine/06 Know Your Enemy.mp3\n",
            "Error: Chunk Features failed\n"
          ],
          "name": "stdout"
        }
      ]
    },
    {
      "cell_type": "markdown",
      "metadata": {
        "collapsed": true,
        "id": "SOKarap2lBrj",
        "colab_type": "text"
      },
      "source": [
        "## Matching der Teilsequenzen\n",
        "In diesem Abschnitt soll ein Verfahren implementiert werden, mit dem die Übereinstimmung der ersten Teilsequenz eines Musikstücks mit den zweiten Teilsequenzen aller anderen Musikstücke berechnet werden kann.\n",
        "\n"
      ]
    },
    {
      "cell_type": "code",
      "metadata": {
        "id": "iyzE9zF7mq75",
        "colab_type": "code",
        "colab": {}
      },
      "source": [
        "import math\n",
        "import numpy as np\n",
        "from sklearn import preprocessing\n",
        "from scipy.spatial import distance\n",
        "\n",
        "import pprint\n",
        "pp = pprint.PrettyPrinter(indent=4)"
      ],
      "execution_count": 0,
      "outputs": []
    },
    {
      "cell_type": "markdown",
      "metadata": {
        "id": "XyYYnzxp9t5d",
        "colab_type": "text"
      },
      "source": [
        "\n",
        "**Aufagben:**\n",
        "1. Lesen Sie die im vorigen Teilversuch angelegten zwei csv-Dateien in jeweils einen eigenen Pandas Dataframe ein."
      ]
    },
    {
      "cell_type": "code",
      "metadata": {
        "id": "STrp3wczmYHc",
        "colab_type": "code",
        "colab": {}
      },
      "source": [
        "df1 = pd.read_csv(\"FeatureFileTrainingAllList1.csv\", sep=\",\", header=0, names=FeatNames)\n",
        "df2 = pd.read_csv(\"FeatureFileTestAllList2.csv\", sep=\",\", header=0, names=FeatNames)"
      ],
      "execution_count": 0,
      "outputs": []
    },
    {
      "cell_type": "markdown",
      "metadata": {
        "id": "qDNn5Gk4oWAk",
        "colab_type": "text"
      },
      "source": [
        "2. Skalieren Sie beide Teilsequenzmengen, so dass alle Merkmale eine Standardabweichung von 1 aufweisen. Z.B. mit [http://scikit-learn.org/stable/modules/generated/sklearn.preprocessing.scale.html](http://scikit-learn.org/stable/modules/generated/sklearn.preprocessing.scale.html)."
      ]
    },
    {
      "cell_type": "code",
      "metadata": {
        "id": "VujZ64vpZmJ3",
        "colab_type": "code",
        "colab": {}
      },
      "source": [
        "train = preprocessing.scale(df1)\n",
        "test = preprocessing.scale(df2)"
      ],
      "execution_count": 0,
      "outputs": []
    },
    {
      "cell_type": "markdown",
      "metadata": {
        "id": "Bi3qLqLTnU8t",
        "colab_type": "text"
      },
      "source": [
        "Anzeigen der Mittelwerte je Datensatz ( _Training- und Testdaten_ ) und Standardabweichung."
      ]
    },
    {
      "cell_type": "code",
      "metadata": {
        "id": "1uaTNTOhm-ra",
        "colab_type": "code",
        "colab": {
          "base_uri": "https://localhost:8080/",
          "height": 138
        },
        "outputId": "62ac44e3-92ba-4472-b2f8-77d808e04b22"
      },
      "source": [
        "pp.pprint('Train: Mean value \\n {0}'.format(train.mean(axis=0)))\n",
        "pp.pprint('Train: Standard deviation \\n {0}'.format(train.std(axis=0)))"
      ],
      "execution_count": 13,
      "outputs": [
        {
          "output_type": "stream",
          "text": [
            "('Train: Mean value \\n'\n",
            " ' [-0.  0.  0.  0. -0.  0. -0. -0.  0.  0.  0.  0. -0.  0.  0. -0.  0. -0.\\n'\n",
            " ' -0.  0.  0.  0. -0.  0.  0.  0.  0. -0. -0. -0. -0. -0.  0. -0.  0.  0.\\n'\n",
            " '  0. -0. -0.  0.  0. -0.]')\n",
            "('Train: Standard deviation \\n'\n",
            " ' [1. 1. 1. 1. 1. 1. 1. 1. 1. 1. 1. 1. 1. 1. 1. 1. 1. 1. 1. 1. 1. 1. 1. 1.\\n'\n",
            " ' 1. 1. 1. 1. 1. 1. 1. 1. 1. 1. 1. 1. 1. 1. 1. 1. 1. 1.]')\n"
          ],
          "name": "stdout"
        }
      ]
    },
    {
      "cell_type": "code",
      "metadata": {
        "id": "U4y8ze2792Hw",
        "colab_type": "code",
        "colab": {
          "base_uri": "https://localhost:8080/",
          "height": 138
        },
        "outputId": "854fa611-dc66-40a0-bb12-590fe68c2339"
      },
      "source": [
        "pp.pprint('Test: Mean value \\n {0}'.format(test.mean(axis=0)))\n",
        "pp.pprint('Test: Standard deviation \\n {0}'.format(test.std(axis=0)))"
      ],
      "execution_count": 14,
      "outputs": [
        {
          "output_type": "stream",
          "text": [
            "('Test: Mean value \\n'\n",
            " ' [ 0.  0.  0. -0.  0.  0. -0. -0. -0.  0. -0. -0. -0. -0.  0. -0. -0.  0.\\n'\n",
            " '  0. -0. -0. -0. -0.  0. -0. -0. -0. -0.  0.  0.  0. -0.  0.  0. -0. -0.\\n'\n",
            " '  0. -0.  0.  0. -0. -0.]')\n",
            "('Test: Standard deviation \\n'\n",
            " ' [1. 1. 1. 1. 1. 1. 1. 1. 1. 1. 1. 1. 1. 1. 1. 1. 1. 1. 1. 1. 1. 1. 1. 1.\\n'\n",
            " ' 1. 1. 1. 1. 1. 1. 1. 1. 1. 1. 1. 1. 1. 1. 1. 1. 1. 1.]')\n"
          ],
          "name": "stdout"
        }
      ]
    },
    {
      "cell_type": "markdown",
      "metadata": {
        "id": "8zaqEUDTnnyb",
        "colab_type": "text"
      },
      "source": [
        "Transformation der numpy-array in Panda Dataframes."
      ]
    },
    {
      "cell_type": "code",
      "metadata": {
        "id": "TebzOh03nj5S",
        "colab_type": "code",
        "colab": {}
      },
      "source": [
        "train1 = pd.DataFrame(train, index=df1.index, columns=df1.columns)\n",
        "test1 = pd.DataFrame(test, index=df2.index, columns=df2.columns)"
      ],
      "execution_count": 0,
      "outputs": []
    },
    {
      "cell_type": "code",
      "metadata": {
        "id": "3LcSK9Tcn3Fq",
        "colab_type": "code",
        "colab": {
          "base_uri": "https://localhost:8080/",
          "height": 378
        },
        "outputId": "c38c4fb6-e369-4023-eab0-ae7407c1b2a1"
      },
      "source": [
        "train1.head(5)"
      ],
      "execution_count": 16,
      "outputs": [
        {
          "output_type": "execute_result",
          "data": {
            "text/html": [
              "<div>\n",
              "<style scoped>\n",
              "    .dataframe tbody tr th:only-of-type {\n",
              "        vertical-align: middle;\n",
              "    }\n",
              "\n",
              "    .dataframe tbody tr th {\n",
              "        vertical-align: top;\n",
              "    }\n",
              "\n",
              "    .dataframe thead th {\n",
              "        text-align: right;\n",
              "    }\n",
              "</style>\n",
              "<table border=\"1\" class=\"dataframe\">\n",
              "  <thead>\n",
              "    <tr style=\"text-align: right;\">\n",
              "      <th></th>\n",
              "      <th>amp1mean</th>\n",
              "      <th>amp1std</th>\n",
              "      <th>amp1skew</th>\n",
              "      <th>amp1kurt</th>\n",
              "      <th>amp1dmean</th>\n",
              "      <th>amp1dstd</th>\n",
              "      <th>amp1dskew</th>\n",
              "      <th>amp1dkurt</th>\n",
              "      <th>amp10mean</th>\n",
              "      <th>amp10std</th>\n",
              "      <th>amp10skew</th>\n",
              "      <th>amp10kurt</th>\n",
              "      <th>amp10dmean</th>\n",
              "      <th>amp10dstd</th>\n",
              "      <th>amp10dskew</th>\n",
              "      <th>amp10dkurt</th>\n",
              "      <th>amp100mean</th>\n",
              "      <th>amp100std</th>\n",
              "      <th>amp100skew</th>\n",
              "      <th>amp100kurt</th>\n",
              "      <th>amp100dmean</th>\n",
              "      <th>amp100dstd</th>\n",
              "      <th>amp100dskew</th>\n",
              "      <th>amp100dkurt</th>\n",
              "      <th>amp1000mean</th>\n",
              "      <th>amp1000std</th>\n",
              "      <th>amp1000skew</th>\n",
              "      <th>amp1000kurt</th>\n",
              "      <th>amp1000dmean</th>\n",
              "      <th>amp1000dstd</th>\n",
              "      <th>amp1000dskew</th>\n",
              "      <th>amp1000dkurt</th>\n",
              "      <th>power1</th>\n",
              "      <th>power2</th>\n",
              "      <th>power3</th>\n",
              "      <th>power4</th>\n",
              "      <th>power5</th>\n",
              "      <th>power6</th>\n",
              "      <th>power7</th>\n",
              "      <th>power8</th>\n",
              "      <th>power9</th>\n",
              "      <th>power10</th>\n",
              "    </tr>\n",
              "  </thead>\n",
              "  <tbody>\n",
              "    <tr>\n",
              "      <th>Adele\\01 Hometown Glory.mp3</th>\n",
              "      <td>0.232196</td>\n",
              "      <td>-0.797467</td>\n",
              "      <td>2.872944</td>\n",
              "      <td>0.355275</td>\n",
              "      <td>0.068888</td>\n",
              "      <td>-0.627379</td>\n",
              "      <td>2.380994</td>\n",
              "      <td>1.687744</td>\n",
              "      <td>0.232196</td>\n",
              "      <td>-1.095316</td>\n",
              "      <td>1.348842</td>\n",
              "      <td>-0.642950</td>\n",
              "      <td>-0.117528</td>\n",
              "      <td>-0.067851</td>\n",
              "      <td>-0.365558</td>\n",
              "      <td>-0.299714</td>\n",
              "      <td>0.232196</td>\n",
              "      <td>-1.303853</td>\n",
              "      <td>-0.536684</td>\n",
              "      <td>-0.851856</td>\n",
              "      <td>0.170105</td>\n",
              "      <td>-1.293511</td>\n",
              "      <td>-0.817295</td>\n",
              "      <td>-0.818532</td>\n",
              "      <td>0.232196</td>\n",
              "      <td>-1.227485</td>\n",
              "      <td>-0.073559</td>\n",
              "      <td>-0.757031</td>\n",
              "      <td>-0.074148</td>\n",
              "      <td>-1.245765</td>\n",
              "      <td>0.938495</td>\n",
              "      <td>-0.710462</td>\n",
              "      <td>-1.391099</td>\n",
              "      <td>1.460836</td>\n",
              "      <td>2.699304</td>\n",
              "      <td>1.737044</td>\n",
              "      <td>-0.697845</td>\n",
              "      <td>-0.844352</td>\n",
              "      <td>-1.586865</td>\n",
              "      <td>-1.366225</td>\n",
              "      <td>-0.183429</td>\n",
              "      <td>-1.400576</td>\n",
              "    </tr>\n",
              "    <tr>\n",
              "      <th>Adele\\02 I'll Be Waiting.mp3</th>\n",
              "      <td>0.180146</td>\n",
              "      <td>-0.173116</td>\n",
              "      <td>0.582974</td>\n",
              "      <td>-0.857541</td>\n",
              "      <td>0.298947</td>\n",
              "      <td>0.715927</td>\n",
              "      <td>0.757493</td>\n",
              "      <td>-0.347025</td>\n",
              "      <td>0.180146</td>\n",
              "      <td>-0.372469</td>\n",
              "      <td>-0.288489</td>\n",
              "      <td>-0.988856</td>\n",
              "      <td>0.606003</td>\n",
              "      <td>0.234561</td>\n",
              "      <td>-0.941175</td>\n",
              "      <td>-0.984251</td>\n",
              "      <td>0.180146</td>\n",
              "      <td>-0.682423</td>\n",
              "      <td>-0.369626</td>\n",
              "      <td>-1.083539</td>\n",
              "      <td>0.496504</td>\n",
              "      <td>-0.677809</td>\n",
              "      <td>0.895455</td>\n",
              "      <td>-1.079415</td>\n",
              "      <td>0.180146</td>\n",
              "      <td>-0.619815</td>\n",
              "      <td>0.163333</td>\n",
              "      <td>-1.107059</td>\n",
              "      <td>0.460916</td>\n",
              "      <td>-0.589702</td>\n",
              "      <td>0.158771</td>\n",
              "      <td>-1.099625</td>\n",
              "      <td>-0.617343</td>\n",
              "      <td>0.076074</td>\n",
              "      <td>-0.130880</td>\n",
              "      <td>1.228312</td>\n",
              "      <td>1.015313</td>\n",
              "      <td>0.672277</td>\n",
              "      <td>-0.294430</td>\n",
              "      <td>-0.090637</td>\n",
              "      <td>-0.180492</td>\n",
              "      <td>-0.854367</td>\n",
              "    </tr>\n",
              "    <tr>\n",
              "      <th>Adele\\03 Don't You Remember.mp3</th>\n",
              "      <td>0.145859</td>\n",
              "      <td>-0.192307</td>\n",
              "      <td>1.083231</td>\n",
              "      <td>-0.561427</td>\n",
              "      <td>0.331420</td>\n",
              "      <td>0.864755</td>\n",
              "      <td>0.901408</td>\n",
              "      <td>-0.326476</td>\n",
              "      <td>0.145859</td>\n",
              "      <td>-0.474314</td>\n",
              "      <td>-0.165842</td>\n",
              "      <td>-0.612156</td>\n",
              "      <td>0.851685</td>\n",
              "      <td>-0.143493</td>\n",
              "      <td>0.577416</td>\n",
              "      <td>-0.777301</td>\n",
              "      <td>0.145859</td>\n",
              "      <td>-0.525116</td>\n",
              "      <td>0.402976</td>\n",
              "      <td>-1.070150</td>\n",
              "      <td>0.393762</td>\n",
              "      <td>-0.529160</td>\n",
              "      <td>0.502856</td>\n",
              "      <td>-1.048308</td>\n",
              "      <td>0.145859</td>\n",
              "      <td>-0.537677</td>\n",
              "      <td>-0.519992</td>\n",
              "      <td>-0.657485</td>\n",
              "      <td>-0.297111</td>\n",
              "      <td>-0.558423</td>\n",
              "      <td>0.489983</td>\n",
              "      <td>-0.775726</td>\n",
              "      <td>-1.288156</td>\n",
              "      <td>0.436660</td>\n",
              "      <td>0.091422</td>\n",
              "      <td>1.389271</td>\n",
              "      <td>0.054522</td>\n",
              "      <td>0.478907</td>\n",
              "      <td>-0.507237</td>\n",
              "      <td>1.210060</td>\n",
              "      <td>1.508088</td>\n",
              "      <td>-1.493972</td>\n",
              "    </tr>\n",
              "    <tr>\n",
              "      <th>Adele\\04 Turning Tables.mp3</th>\n",
              "      <td>0.246046</td>\n",
              "      <td>-0.738488</td>\n",
              "      <td>1.522675</td>\n",
              "      <td>-0.651983</td>\n",
              "      <td>-0.083274</td>\n",
              "      <td>0.214007</td>\n",
              "      <td>1.305454</td>\n",
              "      <td>0.555792</td>\n",
              "      <td>0.246046</td>\n",
              "      <td>-1.086146</td>\n",
              "      <td>0.532262</td>\n",
              "      <td>-1.033436</td>\n",
              "      <td>0.350573</td>\n",
              "      <td>0.166101</td>\n",
              "      <td>-0.534338</td>\n",
              "      <td>-0.998519</td>\n",
              "      <td>0.246046</td>\n",
              "      <td>-1.328521</td>\n",
              "      <td>-0.096143</td>\n",
              "      <td>-0.918760</td>\n",
              "      <td>0.440994</td>\n",
              "      <td>-1.303441</td>\n",
              "      <td>0.373904</td>\n",
              "      <td>-0.849045</td>\n",
              "      <td>0.246046</td>\n",
              "      <td>-1.279305</td>\n",
              "      <td>0.590420</td>\n",
              "      <td>-0.860584</td>\n",
              "      <td>0.152841</td>\n",
              "      <td>-1.292698</td>\n",
              "      <td>-0.550402</td>\n",
              "      <td>-0.889050</td>\n",
              "      <td>-2.022366</td>\n",
              "      <td>0.742017</td>\n",
              "      <td>0.894887</td>\n",
              "      <td>1.673282</td>\n",
              "      <td>0.153238</td>\n",
              "      <td>0.738699</td>\n",
              "      <td>-0.551682</td>\n",
              "      <td>-0.110789</td>\n",
              "      <td>1.768903</td>\n",
              "      <td>0.295978</td>\n",
              "    </tr>\n",
              "    <tr>\n",
              "      <th>Adele\\05 Set Fire To The Rain.mp3</th>\n",
              "      <td>0.206622</td>\n",
              "      <td>-0.324032</td>\n",
              "      <td>0.949075</td>\n",
              "      <td>-0.777835</td>\n",
              "      <td>0.342506</td>\n",
              "      <td>0.363972</td>\n",
              "      <td>1.195438</td>\n",
              "      <td>-0.453720</td>\n",
              "      <td>0.206622</td>\n",
              "      <td>-0.547224</td>\n",
              "      <td>-0.093025</td>\n",
              "      <td>-0.939758</td>\n",
              "      <td>0.686903</td>\n",
              "      <td>-0.488682</td>\n",
              "      <td>0.156003</td>\n",
              "      <td>-0.927108</td>\n",
              "      <td>0.206622</td>\n",
              "      <td>-0.599605</td>\n",
              "      <td>-0.211468</td>\n",
              "      <td>-1.177913</td>\n",
              "      <td>1.413490</td>\n",
              "      <td>-0.620928</td>\n",
              "      <td>1.346294</td>\n",
              "      <td>-1.162417</td>\n",
              "      <td>0.206622</td>\n",
              "      <td>-0.580386</td>\n",
              "      <td>-0.108703</td>\n",
              "      <td>-1.182265</td>\n",
              "      <td>0.863487</td>\n",
              "      <td>-0.565080</td>\n",
              "      <td>0.809668</td>\n",
              "      <td>-1.137666</td>\n",
              "      <td>-1.075101</td>\n",
              "      <td>0.647754</td>\n",
              "      <td>0.001276</td>\n",
              "      <td>1.905748</td>\n",
              "      <td>0.323099</td>\n",
              "      <td>0.366621</td>\n",
              "      <td>-0.711771</td>\n",
              "      <td>-0.002923</td>\n",
              "      <td>0.410116</td>\n",
              "      <td>-0.973225</td>\n",
              "    </tr>\n",
              "  </tbody>\n",
              "</table>\n",
              "</div>"
            ],
            "text/plain": [
              "                                   amp1mean   amp1std  ...    power9   power10\n",
              "Adele\\01 Hometown Glory.mp3        0.232196 -0.797467  ... -0.183429 -1.400576\n",
              "Adele\\02 I'll Be Waiting.mp3       0.180146 -0.173116  ... -0.180492 -0.854367\n",
              "Adele\\03 Don't You Remember.mp3    0.145859 -0.192307  ...  1.508088 -1.493972\n",
              "Adele\\04 Turning Tables.mp3        0.246046 -0.738488  ...  1.768903  0.295978\n",
              "Adele\\05 Set Fire To The Rain.mp3  0.206622 -0.324032  ...  0.410116 -0.973225\n",
              "\n",
              "[5 rows x 42 columns]"
            ]
          },
          "metadata": {
            "tags": []
          },
          "execution_count": 16
        }
      ]
    },
    {
      "cell_type": "code",
      "metadata": {
        "id": "vp9xS7KKqhPf",
        "colab_type": "code",
        "colab": {
          "base_uri": "https://localhost:8080/",
          "height": 378
        },
        "outputId": "3ed52bae-d61f-426e-b680-f4dd1a8c2ffe"
      },
      "source": [
        "test1.head(5)"
      ],
      "execution_count": 17,
      "outputs": [
        {
          "output_type": "execute_result",
          "data": {
            "text/html": [
              "<div>\n",
              "<style scoped>\n",
              "    .dataframe tbody tr th:only-of-type {\n",
              "        vertical-align: middle;\n",
              "    }\n",
              "\n",
              "    .dataframe tbody tr th {\n",
              "        vertical-align: top;\n",
              "    }\n",
              "\n",
              "    .dataframe thead th {\n",
              "        text-align: right;\n",
              "    }\n",
              "</style>\n",
              "<table border=\"1\" class=\"dataframe\">\n",
              "  <thead>\n",
              "    <tr style=\"text-align: right;\">\n",
              "      <th></th>\n",
              "      <th>amp1mean</th>\n",
              "      <th>amp1std</th>\n",
              "      <th>amp1skew</th>\n",
              "      <th>amp1kurt</th>\n",
              "      <th>amp1dmean</th>\n",
              "      <th>amp1dstd</th>\n",
              "      <th>amp1dskew</th>\n",
              "      <th>amp1dkurt</th>\n",
              "      <th>amp10mean</th>\n",
              "      <th>amp10std</th>\n",
              "      <th>amp10skew</th>\n",
              "      <th>amp10kurt</th>\n",
              "      <th>amp10dmean</th>\n",
              "      <th>amp10dstd</th>\n",
              "      <th>amp10dskew</th>\n",
              "      <th>amp10dkurt</th>\n",
              "      <th>amp100mean</th>\n",
              "      <th>amp100std</th>\n",
              "      <th>amp100skew</th>\n",
              "      <th>amp100kurt</th>\n",
              "      <th>amp100dmean</th>\n",
              "      <th>amp100dstd</th>\n",
              "      <th>amp100dskew</th>\n",
              "      <th>amp100dkurt</th>\n",
              "      <th>amp1000mean</th>\n",
              "      <th>amp1000std</th>\n",
              "      <th>amp1000skew</th>\n",
              "      <th>amp1000kurt</th>\n",
              "      <th>amp1000dmean</th>\n",
              "      <th>amp1000dstd</th>\n",
              "      <th>amp1000dskew</th>\n",
              "      <th>amp1000dkurt</th>\n",
              "      <th>power1</th>\n",
              "      <th>power2</th>\n",
              "      <th>power3</th>\n",
              "      <th>power4</th>\n",
              "      <th>power5</th>\n",
              "      <th>power6</th>\n",
              "      <th>power7</th>\n",
              "      <th>power8</th>\n",
              "      <th>power9</th>\n",
              "      <th>power10</th>\n",
              "    </tr>\n",
              "  </thead>\n",
              "  <tbody>\n",
              "    <tr>\n",
              "      <th>Adele\\01 Hometown Glory.mp3</th>\n",
              "      <td>0.252773</td>\n",
              "      <td>-0.956909</td>\n",
              "      <td>2.844665</td>\n",
              "      <td>0.050890</td>\n",
              "      <td>-0.638257</td>\n",
              "      <td>-0.721442</td>\n",
              "      <td>2.242226</td>\n",
              "      <td>1.106485</td>\n",
              "      <td>0.252773</td>\n",
              "      <td>-1.225453</td>\n",
              "      <td>1.524806</td>\n",
              "      <td>-0.880516</td>\n",
              "      <td>-0.762601</td>\n",
              "      <td>-0.188289</td>\n",
              "      <td>-0.936244</td>\n",
              "      <td>-0.668392</td>\n",
              "      <td>0.252773</td>\n",
              "      <td>-1.287429</td>\n",
              "      <td>-0.344913</td>\n",
              "      <td>-0.966371</td>\n",
              "      <td>-0.008849</td>\n",
              "      <td>-1.268674</td>\n",
              "      <td>-0.880953</td>\n",
              "      <td>-0.877762</td>\n",
              "      <td>0.252773</td>\n",
              "      <td>-1.338082</td>\n",
              "      <td>0.042655</td>\n",
              "      <td>-0.829070</td>\n",
              "      <td>0.187855</td>\n",
              "      <td>-1.363385</td>\n",
              "      <td>-0.230957</td>\n",
              "      <td>-0.899755</td>\n",
              "      <td>-1.240535</td>\n",
              "      <td>1.399966</td>\n",
              "      <td>0.627166</td>\n",
              "      <td>1.650592</td>\n",
              "      <td>-0.011484</td>\n",
              "      <td>0.281539</td>\n",
              "      <td>-1.224969</td>\n",
              "      <td>-0.939426</td>\n",
              "      <td>0.501775</td>\n",
              "      <td>-1.077514</td>\n",
              "    </tr>\n",
              "    <tr>\n",
              "      <th>Adele\\02 I'll Be Waiting.mp3</th>\n",
              "      <td>0.144935</td>\n",
              "      <td>-0.356562</td>\n",
              "      <td>0.579767</td>\n",
              "      <td>-0.626212</td>\n",
              "      <td>-0.062272</td>\n",
              "      <td>0.631284</td>\n",
              "      <td>0.730265</td>\n",
              "      <td>-0.200126</td>\n",
              "      <td>0.144935</td>\n",
              "      <td>-0.656112</td>\n",
              "      <td>-0.320708</td>\n",
              "      <td>-0.759931</td>\n",
              "      <td>0.257311</td>\n",
              "      <td>-0.100985</td>\n",
              "      <td>0.236327</td>\n",
              "      <td>-0.793218</td>\n",
              "      <td>0.144935</td>\n",
              "      <td>-0.784386</td>\n",
              "      <td>-0.012793</td>\n",
              "      <td>-0.961278</td>\n",
              "      <td>0.429061</td>\n",
              "      <td>-0.777373</td>\n",
              "      <td>1.008562</td>\n",
              "      <td>-0.953063</td>\n",
              "      <td>0.144935</td>\n",
              "      <td>-0.836496</td>\n",
              "      <td>0.065670</td>\n",
              "      <td>-0.753825</td>\n",
              "      <td>0.157498</td>\n",
              "      <td>-0.832689</td>\n",
              "      <td>0.237743</td>\n",
              "      <td>-0.983962</td>\n",
              "      <td>-1.027331</td>\n",
              "      <td>0.381304</td>\n",
              "      <td>0.121738</td>\n",
              "      <td>1.489078</td>\n",
              "      <td>0.807425</td>\n",
              "      <td>0.972638</td>\n",
              "      <td>-0.293302</td>\n",
              "      <td>-0.277159</td>\n",
              "      <td>-0.090862</td>\n",
              "      <td>-0.859501</td>\n",
              "    </tr>\n",
              "    <tr>\n",
              "      <th>Adele\\03 Don't You Remember.mp3</th>\n",
              "      <td>0.178305</td>\n",
              "      <td>-0.253338</td>\n",
              "      <td>1.074097</td>\n",
              "      <td>-0.743558</td>\n",
              "      <td>-0.509379</td>\n",
              "      <td>0.757446</td>\n",
              "      <td>0.598614</td>\n",
              "      <td>-0.343407</td>\n",
              "      <td>0.178305</td>\n",
              "      <td>-0.637850</td>\n",
              "      <td>-0.396655</td>\n",
              "      <td>-0.849344</td>\n",
              "      <td>0.066639</td>\n",
              "      <td>0.109312</td>\n",
              "      <td>0.344924</td>\n",
              "      <td>-0.877282</td>\n",
              "      <td>0.178305</td>\n",
              "      <td>-0.756979</td>\n",
              "      <td>-0.036653</td>\n",
              "      <td>-1.057587</td>\n",
              "      <td>0.167368</td>\n",
              "      <td>-0.736036</td>\n",
              "      <td>0.617459</td>\n",
              "      <td>-1.100192</td>\n",
              "      <td>0.178305</td>\n",
              "      <td>-0.890504</td>\n",
              "      <td>-0.339473</td>\n",
              "      <td>-0.624650</td>\n",
              "      <td>0.749995</td>\n",
              "      <td>-0.911965</td>\n",
              "      <td>0.259772</td>\n",
              "      <td>-0.769873</td>\n",
              "      <td>-1.269969</td>\n",
              "      <td>0.812593</td>\n",
              "      <td>0.057637</td>\n",
              "      <td>1.360557</td>\n",
              "      <td>-0.232416</td>\n",
              "      <td>0.722370</td>\n",
              "      <td>-0.931595</td>\n",
              "      <td>0.903615</td>\n",
              "      <td>1.197630</td>\n",
              "      <td>-1.512187</td>\n",
              "    </tr>\n",
              "    <tr>\n",
              "      <th>Adele\\04 Turning Tables.mp3</th>\n",
              "      <td>0.218484</td>\n",
              "      <td>-0.722840</td>\n",
              "      <td>1.888924</td>\n",
              "      <td>-0.326694</td>\n",
              "      <td>-0.023609</td>\n",
              "      <td>0.661904</td>\n",
              "      <td>1.203021</td>\n",
              "      <td>0.353022</td>\n",
              "      <td>0.218484</td>\n",
              "      <td>-1.191393</td>\n",
              "      <td>0.126004</td>\n",
              "      <td>-0.943702</td>\n",
              "      <td>0.165173</td>\n",
              "      <td>0.017808</td>\n",
              "      <td>0.138293</td>\n",
              "      <td>-0.818004</td>\n",
              "      <td>0.218484</td>\n",
              "      <td>-1.294134</td>\n",
              "      <td>-0.055308</td>\n",
              "      <td>-0.875141</td>\n",
              "      <td>-0.026017</td>\n",
              "      <td>-1.263451</td>\n",
              "      <td>0.274595</td>\n",
              "      <td>-0.833514</td>\n",
              "      <td>0.218484</td>\n",
              "      <td>-1.360888</td>\n",
              "      <td>-0.466843</td>\n",
              "      <td>-0.952377</td>\n",
              "      <td>0.705243</td>\n",
              "      <td>-1.380691</td>\n",
              "      <td>0.110917</td>\n",
              "      <td>-1.238891</td>\n",
              "      <td>-2.493966</td>\n",
              "      <td>0.221558</td>\n",
              "      <td>1.027605</td>\n",
              "      <td>2.329052</td>\n",
              "      <td>1.842042</td>\n",
              "      <td>1.241900</td>\n",
              "      <td>-0.226991</td>\n",
              "      <td>0.427749</td>\n",
              "      <td>1.185008</td>\n",
              "      <td>-0.792586</td>\n",
              "    </tr>\n",
              "    <tr>\n",
              "      <th>Adele\\05 Set Fire To The Rain.mp3</th>\n",
              "      <td>0.151960</td>\n",
              "      <td>-0.234917</td>\n",
              "      <td>1.146344</td>\n",
              "      <td>-0.769935</td>\n",
              "      <td>0.161033</td>\n",
              "      <td>0.756020</td>\n",
              "      <td>1.249553</td>\n",
              "      <td>-0.511098</td>\n",
              "      <td>0.151960</td>\n",
              "      <td>-0.689515</td>\n",
              "      <td>0.314624</td>\n",
              "      <td>-0.921769</td>\n",
              "      <td>1.967078</td>\n",
              "      <td>-0.613356</td>\n",
              "      <td>0.893590</td>\n",
              "      <td>-0.718279</td>\n",
              "      <td>0.151960</td>\n",
              "      <td>-0.623019</td>\n",
              "      <td>-0.903352</td>\n",
              "      <td>-1.154107</td>\n",
              "      <td>0.757960</td>\n",
              "      <td>-0.619439</td>\n",
              "      <td>1.517676</td>\n",
              "      <td>-1.156640</td>\n",
              "      <td>0.151960</td>\n",
              "      <td>-0.658615</td>\n",
              "      <td>-0.080107</td>\n",
              "      <td>-1.169095</td>\n",
              "      <td>1.737087</td>\n",
              "      <td>-0.633971</td>\n",
              "      <td>0.496638</td>\n",
              "      <td>-1.441263</td>\n",
              "      <td>-1.735484</td>\n",
              "      <td>1.031806</td>\n",
              "      <td>1.241539</td>\n",
              "      <td>2.088732</td>\n",
              "      <td>-0.228379</td>\n",
              "      <td>0.196423</td>\n",
              "      <td>-0.630587</td>\n",
              "      <td>-0.138597</td>\n",
              "      <td>-0.045501</td>\n",
              "      <td>-0.780898</td>\n",
              "    </tr>\n",
              "  </tbody>\n",
              "</table>\n",
              "</div>"
            ],
            "text/plain": [
              "                                   amp1mean   amp1std  ...    power9   power10\n",
              "Adele\\01 Hometown Glory.mp3        0.252773 -0.956909  ...  0.501775 -1.077514\n",
              "Adele\\02 I'll Be Waiting.mp3       0.144935 -0.356562  ... -0.090862 -0.859501\n",
              "Adele\\03 Don't You Remember.mp3    0.178305 -0.253338  ...  1.197630 -1.512187\n",
              "Adele\\04 Turning Tables.mp3        0.218484 -0.722840  ...  1.185008 -0.792586\n",
              "Adele\\05 Set Fire To The Rain.mp3  0.151960 -0.234917  ... -0.045501 -0.780898\n",
              "\n",
              "[5 rows x 42 columns]"
            ]
          },
          "metadata": {
            "tags": []
          },
          "execution_count": 17
        }
      ]
    },
    {
      "cell_type": "markdown",
      "metadata": {
        "id": "0Bwweq9coE-d",
        "colab_type": "text"
      },
      "source": [
        "Die merkmalsausprägung der Objekte unterliegt _Streuungen_. Hierdurch kann eine Distanz _d_ zwischen den Objekten durch die Mermale dominiert werden, die eine entsprechend große Streuung besitzen. Dieser Umstand ist besonders zu berücksichtigen, wenn zwischen den Objektmerkmalen, deutliche Größenunterschiede bestehen. Um die Streuung zu berücksichtigen, werden die Merkmale _skaliert_."
      ]
    },
    {
      "cell_type": "markdown",
      "metadata": {
        "id": "RpnbzPCNYt8e",
        "colab_type": "text"
      },
      "source": [
        "#### Berechnung der skalierten Distanz\n",
        "**3.1 Euklidsche Distanz**: Bestimmen Sie zu jeder Teilsequenz aus der Datei _FeatureFileTrainingAllList1.csv_ die euklidische Distanz zu allen Teilsequenzen aus der Datei _FeatureFileTestAllList2.csv_ und schreiben Sie diese Distanzen in eine aufsteigend geordnete Liste. "
      ]
    },
    {
      "cell_type": "code",
      "metadata": {
        "id": "wUd-ZBvqZghu",
        "colab_type": "code",
        "colab": {}
      },
      "source": [
        "def calcEuklidDist(df1, df2):\n",
        "    toRet= {}\n",
        "    for index1, rows1 in df1.iterrows():\n",
        "        toRet[index1] = []\n",
        "        for index2, rows2 in df2.iterrows():\n",
        "            toRet[index1].append([distance.euclidean(rows1, rows2), index2])\n",
        "            toRet[index1].sort()\n",
        "    return toRet"
      ],
      "execution_count": 0,
      "outputs": []
    },
    {
      "cell_type": "code",
      "metadata": {
        "id": "EG5Y6NmrpJUX",
        "colab_type": "code",
        "colab": {}
      },
      "source": [
        "EuklidDict=calcEuklidDist(train1, test1)\n",
        "#EuklidDict"
      ],
      "execution_count": 0,
      "outputs": []
    },
    {
      "cell_type": "markdown",
      "metadata": {
        "id": "iCkDUfLVpEOY",
        "colab_type": "text"
      },
      "source": [
        "**3.2 Korrelative Distanz**: Schreiben Sie auch die zugehörigen Argumente (Teilsequenzen) in eine geordnete Liste, sodass für jede Teilsequenz aus _FeatureFileTrainingAllList1.csv_ die am nächsten liegende Teilsequenz aus _FeatureFileTestAllList2.csv_ an erster Stelle steht, die zweitnächste Teilsequenz an zweiter usw."
      ]
    },
    {
      "cell_type": "code",
      "metadata": {
        "id": "MgjOZTOro15K",
        "colab_type": "code",
        "colab": {}
      },
      "source": [
        "def calcCorrelationDist(df1, df2):\n",
        "    toRet= {}\n",
        "    for index1, rows1 in df1.iterrows():\n",
        "        toRet[index1] = []\n",
        "        for index2, rows2 in df2.iterrows():\n",
        "            toRet[index1].append([distance.correlation(rows1, rows2), index2])\n",
        "            toRet[index1].sort()\n",
        "    return toRet"
      ],
      "execution_count": 0,
      "outputs": []
    },
    {
      "cell_type": "code",
      "metadata": {
        "id": "MDCsd23Lo5Pk",
        "colab_type": "code",
        "colab": {}
      },
      "source": [
        "CorrelationDict=calcCorrelationDist(train1, test1)\n",
        "#pp.pprint(CorrelationDict)"
      ],
      "execution_count": 0,
      "outputs": []
    },
    {
      "cell_type": "markdown",
      "metadata": {
        "id": "5wIxMPpdYzeV",
        "colab_type": "text"
      },
      "source": [
        "#### Berechnung des Mittleren Rangs\n",
        "4. Bestimmen Sie über alle Teilsequenzen aus _FeatureFileTrainingAllList1.csv_ den **mittleren Rang** an dem die zugehörige zweite Teilsequenz erscheint. Liegt z.B. für die erste Teilsequenz des Musikstücks A die zweite Teilsequenz nur an fünfter Stelle der geordneten nächsten Nachbarliste. Dann würde diese Teilsequenz mit dem Rang 5 in den Mittelwert einfließen.\n"
      ]
    },
    {
      "cell_type": "code",
      "metadata": {
        "id": "eYtuAM9TwC4y",
        "colab_type": "code",
        "colab": {}
      },
      "source": [
        "from numpy import mean\n",
        "\n",
        "def midRank(dist_dict):\n",
        "    # initialize the dict\n",
        "    rank_list = []\n",
        "    for seq_one, seq_one_val in dist_dict.items():\n",
        "        for index, seq_two_val in enumerate(seq_one_val):\n",
        "            if seq_one == seq_two_val[1]:\n",
        "                rank_list.append(index + 1) \n",
        "    # calculate mean\n",
        "    mean_rank = mean(rank_list)\n",
        "    return mean_rank"
      ],
      "execution_count": 0,
      "outputs": []
    },
    {
      "cell_type": "code",
      "metadata": {
        "id": "6CY8nemTwK0l",
        "colab_type": "code",
        "colab": {
          "base_uri": "https://localhost:8080/",
          "height": 34
        },
        "outputId": "8ee7157f-1b42-4800-bf3e-76392a88fd2b"
      },
      "source": [
        "print(\"Correl mittlerer Rang:\", midRank(CorrelationDict))"
      ],
      "execution_count": 23,
      "outputs": [
        {
          "output_type": "stream",
          "text": [
            "Correl mittlerer Rang: 2.65\n"
          ],
          "name": "stdout"
        }
      ]
    },
    {
      "cell_type": "markdown",
      "metadata": {
        "id": "NzmPhsc3wrX6",
        "colab_type": "text"
      },
      "source": [
        "\n",
        "5. Bestimmen Sie jetzt den mittleren Rang, für den Fall, dass _correlation_ anstelle _euclidean_ als Ähnlichkeitsmaß verwendet wird. Welches Ähnlichkeitsmaß ist für diese Anwendung zu bevorzugen?\n"
      ]
    },
    {
      "cell_type": "code",
      "metadata": {
        "id": "DKvdS9KzmPmu",
        "colab_type": "code",
        "colab": {
          "base_uri": "https://localhost:8080/",
          "height": 34
        },
        "outputId": "d6fb619c-dfb3-42e8-e674-6a70452320c3"
      },
      "source": [
        "print(\"Euklid mittlerer Rang:\", midRank(EuklidDict))"
      ],
      "execution_count": 24,
      "outputs": [
        {
          "output_type": "stream",
          "text": [
            "Euklid mittlerer Rang: 2.5166666666666666\n"
          ],
          "name": "stdout"
        }
      ]
    },
    {
      "cell_type": "markdown",
      "metadata": {
        "id": "R66Z9CivmQsQ",
        "colab_type": "text"
      },
      "source": [
        "6. Diskutieren Sie das Ergebnis"
      ]
    },
    {
      "cell_type": "markdown",
      "metadata": {
        "id": "InMQj0NUwxvu",
        "colab_type": "text"
      },
      "source": [
        "Die euklidische Distanz dient zur Berechnung von Distanzen zwischen Vektoren (Punkte) in einem höherdimensionalen Raum. Die Korrelation ist ein Maß für den statistischen Zusammenhang zwischen zwei Datensätzen. \n",
        "\n",
        "Der mittlere Rang bei der Berechnung mit dem Ähnlichkeitsmaß der _correlation_ ergibt in diesem Versuch einen Wert von 2.65, während die Berechnung mit dem Ähnlichkeitsmaß der _euclidean_ einen leicht besseren Wert von 2.516 ergibt. Das Ähnlichkeitsmaß von Euklid ist in diesem Fall für die Anwendung zu bevorzugen, da dies eine bessere Aussage über die tatsächliche Ähnlichkeit der Formen zwischen den Vektoren erlaubt. \n",
        "\n",
        " "
      ]
    },
    {
      "cell_type": "markdown",
      "metadata": {
        "id": "Lt-dcDculBrn",
        "colab_type": "text"
      },
      "source": [
        "## Merkmalsauswahl mit dem genetischen Algorithmus\n",
        "In diesem Abschnitt soll unter Anwendung eines selbst zu implementierenden genetischen Algorithmus eine Untermenge wichtiger Merkmale aus den insgesamt 42 angelegten Merkmalen berechnet werden.\n",
        "Als Vorlage kann hierfür die Implementierung für die [Lösung des TSP Problems](https://www.hdm-stuttgart.de/~maucher/Python/FunktionenAlgorithmen/html/genAlgTSP.html) herangezogen werden. Anzupassen sind dann jedoch mindestens die Fitness-Funktion, die Kreuzungs- und die Mutationsfunktion. Die Fitness soll so wie im vorigen Teilabschnitt mit dem mittleren Rang berechnet werden. Die Populationsgröße, die Anzahl der auszuwählenden Merkmale und die Anzahl der Iterationen sollen als Parameter einstellbar sein.\n",
        "\n",
        "Der Fitnesswert des besten Individuums in der Population soll in jeder Iteration gespeichert werden. Der Verlauf dieses besten Fitness-Wertes über den Fortlauf der Iterationen soll graphisch ausgegeben werden.\n",
        "\n",
        "Ein Pandas Frame, der nur die berechneten wichtigsten Merkmale aus _FeatureFileTrainingAllList1.csv_ enthält soll angelegt und in die csv Datei _subFeaturesTrain1.csv_ geschrieben werden.\n",
        "\n"
      ]
    },
    {
      "cell_type": "code",
      "metadata": {
        "id": "LXFYqn3Dyr7F",
        "colab_type": "code",
        "colab": {}
      },
      "source": [
        "from scipy.spatial import distance\n",
        "from sklearn import preprocessing\n",
        "import numpy as np"
      ],
      "execution_count": 0,
      "outputs": []
    },
    {
      "cell_type": "markdown",
      "metadata": {
        "id": "UH4FhTg4lBro",
        "colab_type": "text"
      },
      "source": [
        "\n",
        "**Aufgaben:**\n",
        "1. Implementieren Sie die die Merkmalsauswahl mit dem genetischen Algorithmus entsprechend der o.g. Beschreibung\n"
      ]
    },
    {
      "cell_type": "code",
      "metadata": {
        "id": "xAdVmiOXy1OR",
        "colab_type": "code",
        "colab": {}
      },
      "source": [
        "def fastEuclidean(x,y):\n",
        "    z=y-x\n",
        "    return math.sqrt(np.dot(z,z))"
      ],
      "execution_count": 0,
      "outputs": []
    },
    {
      "cell_type": "markdown",
      "metadata": {
        "id": "QCRHpsmgy2O8",
        "colab_type": "text"
      },
      "source": [
        "Berechnung des mittleren Rangs für den Genetischen Algorithmus."
      ]
    },
    {
      "cell_type": "code",
      "metadata": {
        "id": "dWXtpPmWDUQ8",
        "colab_type": "code",
        "colab": {
          "base_uri": "https://localhost:8080/",
          "height": 34
        },
        "outputId": "c02076a2-0a9c-49fd-fc85-08f0b879d820"
      },
      "source": [
        "def mid_rank(df_train, df_test, similarity): \n",
        "    FeatureFileTrainingDF_scaled = preprocessing.scale(df_train,0)\n",
        "    FeatureFileTestAllDF_scaled = preprocessing.scale(df_test,0)\n",
        "    size = len(FeatureFileTestAllDF_scaled)\n",
        "    rank = 0\n",
        "    ranklist = np.zeros(size)\n",
        "    dct_dist = np.zeros(size)\n",
        "    for i,k in enumerate(FeatureFileTrainingDF_scaled):  \n",
        "        for j,l in enumerate(FeatureFileTestAllDF_scaled):            \n",
        "            dist = similarity(k, l)\n",
        "            dct_dist[j] = dist            \n",
        "        dct_index = np.argsort(dct_dist)\n",
        "        ranklist[i] = np.where(dct_index == i)[0][0]+1    \n",
        "    rank = sum(ranklist)/len(ranklist)\n",
        "    return(rank)"
      ],
      "execution_count": 27,
      "outputs": [
        {
          "output_type": "execute_result",
          "data": {
            "text/plain": [
              "2.5166666666666666"
            ]
          },
          "metadata": {
            "tags": []
          },
          "execution_count": 27
        }
      ]
    },
    {
      "cell_type": "code",
      "metadata": {
        "id": "8s23BDq42jet",
        "colab_type": "code",
        "colab": {}
      },
      "source": [
        "mid_rank(train1,test1,fastEuclidean)"
      ],
      "execution_count": 0,
      "outputs": []
    },
    {
      "cell_type": "markdown",
      "metadata": {
        "id": "N0Um-dX0zLCC",
        "colab_type": "text"
      },
      "source": [
        "\n",
        "## Genetischer Algorithmus für die Music Feature Selection\n",
        "\n",
        "Die Populationsgröße, die Anzahl der auszuwählenden Merkmale und die Anzahl der Iterationen sollen als Parameter einstellbar sein.\n",
        "Der Fitnesswert des besten Individuums in der Population soll in jeder Iteration gespeichert werden. Der Verlauf dieses besten Fitness-Wertes über den Fortlauf der Iterationen soll graphisch ausgegeben werden.\n",
        "\n",
        "Ein Pandas Frame, der nur die berechneten wichtigsten Merkmale aus _FeatureFileTrainingAllList1.csv_ enthält soll angelegt und in die csv Datei _subFeaturesTrain1.csv_ geschrieben werden.\n",
        "\n",
        "#### Pseudo Code\n",
        "```\n",
        "START\n",
        "Generate the initial population\n",
        "Compute fitness\n",
        "REPEAT\n",
        "    Selection\n",
        "    Crossover\n",
        "    Mutation\n",
        "    Compute fitness\n",
        "UNTIL population has converged\n",
        "STOP\n",
        "```"
      ]
    },
    {
      "cell_type": "markdown",
      "metadata": {
        "id": "QHIyOsOkzm-9",
        "colab_type": "text"
      },
      "source": [
        "##### Generation der Population\n",
        "Eine zufällige Population (_set of features_) wird aus der gesamten Population herausgelöst. Diese dient als initiale Population für den Generativen Algorithmus (GA)."
      ]
    },
    {
      "cell_type": "code",
      "metadata": {
        "id": "RAL6EyCTzk4X",
        "colab_type": "code",
        "colab": {}
      },
      "source": [
        "def generate_population(popSize, featureAmount, featureNames):\n",
        "    # initialize population\n",
        "    population = np.zeros((popSize, featureAmount))\n",
        "    # important use permutation\n",
        "    for i in range(popSize):\n",
        "        population[i, 0:featureAmount]=np.random.permutation(len(featureNames))[:featureAmount]\n",
        "    return population"
      ],
      "execution_count": 0,
      "outputs": []
    },
    {
      "cell_type": "markdown",
      "metadata": {
        "id": "21uGHG2jzqLL",
        "colab_type": "text"
      },
      "source": [
        "##### Implementierung des Genetischen Algorithmus\n"
      ]
    },
    {
      "cell_type": "code",
      "metadata": {
        "id": "yyxAJJXHlBrp",
        "colab_type": "code",
        "colab": {}
      },
      "source": [
        "import numpy as np\n",
        "import matplotlib.pyplot as plt\n",
        "\n",
        "def genAlg(iterations, popSize, anzahlMerkmale, mutationPopulation, label):\n",
        "    kreuzPopulation = 0.99\n",
        "    \n",
        "    bestDist = np.zeros(iterations)\n",
        "    fitness=np.zeros(popSize)\n",
        "    featureNames_fit = np.array(FeatNames)\n",
        "    population = np.zeros((popSize, anzahlMerkmale))\n",
        " \n",
        "    # generate initial population\n",
        "    pop = generate_population(popSize, anzahlMerkmale, FeatNames)\n",
        "    \n",
        "    for j in range(iterations):\n",
        "            #Fitnessberechnung:##############################################\n",
        "            for k in range(popSize):\n",
        "                selection = featureNames_fit[population[k].astype(int)]\n",
        "                df1_temp = train1[selection]\n",
        "                df2_temp = test1[selection]\n",
        "                midRank_temp = mid_rank(df1_temp,df2_temp, fastEuclidean)\n",
        "                fitness[k] = midRank_temp\n",
        "            sortedIndex = fitness.argsort(axis=0)#Indizees der nach ansteigenden Distanzen sortieren\n",
        "            sortedDist = fitness[sortedIndex] # die ansteigend sortiere Distanzen\n",
        "            bestDist[j] = sortedDist[0] #kleinste Distanz der Iteration abspeichern    \n",
        "            sortedPopulation = population[sortedIndex].astype(int) #sortierung der Population nach ansteigender Distanz    \n",
        "            invertedDist = 1/sortedDist #Berechnung der Fitness aus der Distanz\n",
        "            #invertedDist enthält die berechneten Fitness Werte\n",
        "            #################################################################\n",
        "            \n",
        "            #Selection#######################################################\n",
        "            invertedDistSum = invertedDist.sum()\n",
        "            rn1 = invertedDistSum * np.random.rand() # Zufallszahl ziwschen 0 und 1 * invertedDistSum\n",
        "            found1 = False\n",
        "            index = 1\n",
        "            while not found1:\n",
        "                if rn1 < invertedDist[:index].sum(axis=0): #sum(axis=0): entlang der column summieren\n",
        "                    found1=index\n",
        "                else:\n",
        "                    index+=1\n",
        "            found1 = found1-1\n",
        "            equal=True\n",
        "            while equal:\n",
        "                rn2=invertedDistSum * np.random.rand()\n",
        "                found2 = False\n",
        "                index=1\n",
        "                while not found2:\n",
        "                    if rn2 < invertedDist[:index].sum(axis=0):\n",
        "                        found2 = index\n",
        "                    else:\n",
        "                        index+=1\n",
        "                found2=found2-1\n",
        "                if found2 != found1:\n",
        "                    equal = False\n",
        "            parent1 = sortedPopulation[found1]\n",
        "            parent2 = sortedPopulation[found2]\n",
        "            #parent1 und parent2 sind die selektierten Individuen\n",
        "            #################################################################\n",
        "            \n",
        "            #Kreuzung########################################################\n",
        "            crossrn = np.random.rand()\n",
        "            if crossrn < kreuzPopulation:#wenn Wert innerhalb der Kreuzwahrscheinlichkeit gewürfelt -> kreuze\n",
        "                \n",
        "                #berechne random Index bei dem gekreuzt wird\n",
        "                crossIndex = np.random.randint(0, anzahlMerkmale-1)\n",
        "                \n",
        "                head1, tail = np.split(parent1, [crossIndex])\n",
        "                head2, tail = np.split(parent2, [crossIndex])\n",
        "                \n",
        "                # tail\n",
        "                tailind = 0\n",
        "                taillength1 = anzahlMerkmale - len(head1)\n",
        "                tail1 = np.zeros(taillength1, dtype=int)\n",
        "                \n",
        "                for i in range(0, anzahlMerkmale):\n",
        "                    if parent2[i] not in head1 and tailind < taillength1:\n",
        "                        tail1[tailind] = parent2[i]\n",
        "                        tailind = tailind + 1\n",
        "                \n",
        "                tailind = 0\n",
        "                taillength2 = anzahlMerkmale - len(head2)\n",
        "                tail2 = np.zeros(taillength2, dtype=int)\n",
        "                for j in range(0, anzahlMerkmale):\n",
        "                    if parent2[j] not in head2 and tailind < taillength2:\n",
        "                        tail2[tailind] = parent2[j]\n",
        "                        tailind = tailind + 1\n",
        "                \n",
        "                #Kind1 bekommt linken Teil von Parent1 und rechten Teil von Parent2\n",
        "                child1 = np.append(head1, tail1)\n",
        "                #Kind2 bekommt linken Teil von Parent2 und rechten Teil von Parent1\n",
        "                child2 = np.append(head2, tail2)\n",
        "            #################################################################\n",
        "            \n",
        "            #Mutation########################################################\n",
        "            \n",
        "            #Fall child1\n",
        "            mutiere = np.random.rand() < mutationPopulation\n",
        "            if mutiere:\n",
        "                \"\"\"\n",
        "                wenn Wert innerhalb der Mutationswahrscheinlichkeit gewürfelt -> mutiere\n",
        "                Verändere ein Merkmal des Kindes. Dabei wird das aktuelle Merkmal mit einem zufälligen Merkmal aus FeatNames\n",
        "                ausgetauscht. Das neue Merkmal soll noch nicht im Kind bereits vorkommen\n",
        "                \"\"\"\n",
        "                neuesMerkmal = np.ceil(np.random.rand()*(len(FeatNames))).astype(int)-1\n",
        "                while neuesMerkmal in child1:\n",
        "                    #Wenn neues Merkmal bereits im Kind enthalten, würfele neu\n",
        "                    neuesMerkmal = np.ceil(np.random.rand()*(len(FeatNames))).astype(int)-1\n",
        "                #wähle ein zufälliges Merkmal des Kindes aus was ersetzt wird\n",
        "                altesMerkmalPos = np.ceil(np.random.rand()*anzahlMerkmale).astype(int)-1\n",
        "                child1[altesMerkmalPos] = neuesMerkmal #ersetze Merkmal\n",
        "            \n",
        "            #Fall child2\n",
        "            mutiere = np.random.rand() < mutationPopulation\n",
        "            if mutiere:\n",
        "                \"\"\"\n",
        "                wenn Wert innerhalb der Mutationswahrscheinlichkeit gewürfelt -> mutiere\n",
        "                Verändere ein Merkmal des Kindes. Dabei wird das aktuelle Merkmal mit einem zufälligen Merkmal aus FeatNames\n",
        "                ausgetauscht. Das neue Merkmal soll noch nicht im Kind bereits vorkommen\n",
        "                \"\"\"\n",
        "                neuesMerkmal = np.ceil(np.random.rand()*(len(FeatNames))).astype(int)-1\n",
        "                while neuesMerkmal in child2:\n",
        "                    #Wenn neues Merkmal bereits im Kind enthalten, würfele neu\n",
        "                    neuesMerkmal = np.ceil(np.random.rand()*(len(FeatNames))).astype(int)-1\n",
        "                #wähle ein zufälliges Merkmal des Kindes aus was ersetzt wird\n",
        "                altesMerkmalPos = np.ceil(np.random.rand()*anzahlMerkmale).astype(int)-1\n",
        "                child2[altesMerkmalPos] = neuesMerkmal #ersetze Merkmal\n",
        "            \n",
        "            #child1 und child2 sind die Resultate der Mutation #######################\n",
        "            \n",
        "            #Ersetze die schlechtesten zwei Individuen mit den Kindern, falls die Neuen besser sind#########\n",
        "            merkmaleChild1 = featureNames_fit[child1]\n",
        "            df1_child1 = train1[merkmaleChild1]\n",
        "            df2_child1 = test1[merkmaleChild1]\n",
        "            midRank_child1 = mid_rank(df1_child1,df2_child1, fastEuclidean)\n",
        "            \n",
        "            merkmaleChild2 = featureNames_fit[child2]\n",
        "            df1_child2 = test1[merkmaleChild2]\n",
        "            df2_child2 = train1[merkmaleChild2]\n",
        "            midRank_child2 = mid_rank(df1_child2,df2_child2, fastEuclidean)\n",
        "            \n",
        "            replace1=False\n",
        "            replace2=False\n",
        "            index = popSize -1\n",
        "            while index > 0:\n",
        "                if sortedDist[index]>midRank_child1 and not replace1:\n",
        "                    if not np.ndarray.any(np.ndarray.all(child1==sortedPopulation, axis=1)):\n",
        "                        sortedPopulation[index]= child1\n",
        "                    replace1=True\n",
        "                elif sortedDist[index]>midRank_child2 and not replace2:\n",
        "                    if not np.ndarray.any(np.ndarray.all(child2==sortedPopulation, axis=1)):\n",
        "                        sortedPopulation[index]= child2\n",
        "                    replace2=True\n",
        "                if replace1 and replace2:\n",
        "                    break\n",
        "                index=index-1\n",
        "            population=sortedPopulation\n",
        "            \n",
        "    #Graphische Anzeige#########################################\n",
        "    bestIndividuum = featureNames_fit[population[0]]\n",
        "    print(\"bestIndividuum \",bestIndividuum)\n",
        "    subFeaturesTrain1DF = df1[bestIndividuum]\n",
        "    subFeaturesTrain1DF.to_csv('./subFeaturesTrain1.csv', sep=\",\")\n",
        "    print(\"Best mid rank:\", bestDist[-1])\n",
        "    print(\"Population \", population[0])\n",
        "    plt.subplot(122)\n",
        "    plt.grid(True)\n",
        "    plt.plot(range(iterations), bestDist, label=label)\n",
        "    plt.legend()\n",
        "    plt.savefig('genetic_algorithm_{}.png'.format(label))\n",
        "    plt.show()\n",
        "    return bestDist[-1]\n",
        "    ############################################################"
      ],
      "execution_count": 0,
      "outputs": []
    },
    {
      "cell_type": "markdown",
      "metadata": {
        "id": "oUrvhu1g9bt-",
        "colab_type": "text"
      },
      "source": [
        "2. Beschreiben Sie kurz das Konzept ihrer Kreuzungs- und Mutationsfunktion. \n"
      ]
    },
    {
      "cell_type": "markdown",
      "metadata": {
        "id": "M0rB82sH9iXF",
        "colab_type": "text"
      },
      "source": [
        "Kreuzungsfunktion:\n",
        "\n",
        "Zuerst werden zwei Individuen ausgewählt. Je fitter sie sind, desto höher ist die Wahrscheinlichkeit, dass sie ausgewählt werden. Im Anschluss werden die Merkmalslisten beider Individuen an der gleichen Stelle ein zwei Teile zerschnitten. Das erste Kind bekommt dann den linken Teil von Individuum1 und den rechten Teil von Individuum2. Das zweite Kind bekommt die anderen Teile.\n",
        "\n",
        "Mutationsfunktion:\n",
        "\n",
        "Bei einer Mutation wird beim Kind ein zufälliges Merkmal ausgewählt und mit einem neuen Merkmal aus FeatNames, welches das Kind zuvor noch nicht besaß, ausgetauscht.\n"
      ]
    },
    {
      "cell_type": "markdown",
      "metadata": {
        "id": "tBHUTS8a00B4",
        "colab_type": "text"
      },
      "source": [
        "#### Training des Genetischen Algorithmus\n",
        "Hierfür wird eine variierende Anzahl an Merkmalen ausgewählt, um den Algorithmus, sowie die daraus generierten Modelle auf die beste Anzahl an Merkmalen zu untersuchen. \n",
        "\n",
        "Während die Merkmale _iterations_, _popSize_, sowie _mutationPopulation_ für eine Vergleichbarkeit der Ergebnisse immer konstant gehalten werden, wird die Anzahl der Merkmale in immer gleich bleibenden Schritten zwischen dem Wert 10 bis 30 variiert. "
      ]
    },
    {
      "cell_type": "markdown",
      "metadata": {
        "id": "7qLD2Rs_9irN",
        "colab_type": "text"
      },
      "source": [
        "3. Bestimmen Sie eine möglichst kleine Merkmalsuntermenge mit einem möglichst guten mittleren Rang? Geben Sie sowohl die gefundenen wichtigsten Merkmale als auch den zugehörigen mittleren Rang an.\n"
      ]
    },
    {
      "cell_type": "code",
      "metadata": {
        "id": "TJ5R4dUy_MeT",
        "colab_type": "code",
        "colab": {}
      },
      "source": [
        "model_result = []\n",
        "\n",
        "for merkmal in range(10, 22):\n",
        "    m = genAlg(2000, 50, merkmal, 0.05, \"{0}_features_genetic_algorithm: \".format(merkmal))\n",
        "    model_result.append([merkmal, m])\n",
        "    print(\"Distanz bei {0} Merkmalen: \".format(merkmal), m)\n",
        "\n",
        "model_result"
      ],
      "execution_count": 0,
      "outputs": []
    },
    {
      "cell_type": "markdown",
      "metadata": {
        "id": "TfTeUnTA3IKJ",
        "colab_type": "text"
      },
      "source": [
        "### Music Feature Selection\n",
        "\n",
        "2. Implementieren und beschreiben Sie kurz das Konzept Ihrer Kreuzungs- und Mutationsfunktion.\n",
        "\n",
        "( _Für die detailierte Implementation, siehe den Code im oberen Abschnitt._ )\n",
        "\n",
        "##### Kreuzung:\n",
        "\n",
        "Indivduen mit niedriger Distanz bzw. mit gutem Fitnesswert werden miteinander gekreuzt. Dabei wird ein zufälliger Schnittpunkt zur Vereinigung der Elternvektoren genutzt. Die Chromosome werden an dieser Stelle geteilt und miteinander vertauscht.\n",
        "\n",
        "##### Mutation:\n",
        "\n",
        "Mit niedriger Wahrscheinlichkeit wird ein Wert zufällig verändert."
      ]
    },
    {
      "cell_type": "markdown",
      "metadata": {
        "id": "C-qRpZ3G3c9v",
        "colab_type": "text"
      },
      "source": [
        "3. Bestimmen Sie eine möglichst kleine Merkmalsuntermenge mit einem möglichst guten mittleren Rang? Geben Sie sowohl die gefundenen wichtigsten Merkmale als auch den zugehörigen mittleren Rang an."
      ]
    },
    {
      "cell_type": "markdown",
      "metadata": {
        "id": "gFqeHdIf6kFN",
        "colab_type": "text"
      },
      "source": [
        "\n",
        "Eine möglichtst kleine Merkmalsuntermenge mit möglichst gutem mittlerem Rang haben wir bei _21 Merkmalen_ gefunden. Der daraus resultierende mittlere Rang beträgt 1.41. \n",
        "\n",
        "Die besten daraus hervorgehenden Merkmale sind: \n",
        "```\n",
        "bestIndividuum  \n",
        "['amp1mean' 'amp1mean' 'power1' 'power4' 'amp1dskew' 'amp10dskew'\n",
        " 'amp1000std' 'power7' 'power9' 'power8' 'amp10skew' 'amp100dstd'\n",
        " 'amp100dkurt' 'power2' 'power6' 'amp1000skew' 'power10' 'amp1skew'\n",
        " 'amp1mean' 'amp1mean' 'amp1mean']\n",
        "```\n",
        "Mit einem mittleren Rang:\n",
        "```\n",
        "Best mid rank: 1.4166666666666667\n",
        "```\n",
        "Sowie einer Population von:\n",
        "```\n",
        "Population  [ 0  0 32 35  6 14 25 38 40 39 10 21 23 33 37 26 41  2  0  0  0]\n",
        "```\n"
      ]
    },
    {
      "cell_type": "markdown",
      "metadata": {
        "id": "u4kDf4_e9lVM",
        "colab_type": "text"
      },
      "source": [
        "4. Um wieviel verschlechtert sich der Mittlere Rang, wenn nur die 10 wichtigsten Merkmale benutzt werden?"
      ]
    },
    {
      "cell_type": "markdown",
      "metadata": {
        "id": "OeLE6CIX9mhd",
        "colab_type": "text"
      },
      "source": [
        "Ergebnis bei Anwendung von nur 10 Merkmalen:\n",
        "\n",
        "Die besten daraus hervorgehenden Merkmale sind:\n",
        "``` \n",
        "bestIndividuum  \n",
        "['amp1mean' 'power1' 'power4' 'amp10kurt' 'power7' 'amp10dkurt'\n",
        " 'amp100std' 'power10' 'power6' 'amp10skew']\n",
        "``` \n",
        "Mit einem mittleren Rang:\n",
        "\n",
        "```\n",
        "Best mid rank: 1.6\n",
        "``` \n",
        "Sowie einer Population von:\n",
        "``` \n",
        "Population  [ 0 32 35 11 38 15 17 41 37 10]\n",
        "``` \n",
        "\n",
        "Bei der Anwendung von nur 10 Merkmalen verschlechtert sich der _mittlere Rang_ um:\n",
        "\n",
        "1.667 - 1.4333 = 0.234\n",
        "\n",
        "Der Rang verschlechtert sich nur um 0.467. Der Unterschied zwischen 13 und 10 Merkmalen fällt bei einem mittleren Durchschnitt des Ranges von nur 1,50 groß aus. Der Informationsgewinn bei zusätzlichen Features ist somit erheblich.\n"
      ]
    },
    {
      "cell_type": "markdown",
      "metadata": {
        "id": "oqibHGQa2v5Q",
        "colab_type": "text"
      },
      "source": [
        "#### Untersuchung der Mutation\n",
        "Des weiteren wird der Algorithmus untersucht auf die Variation der Mutationswahrscheinlichkeit. Diese findet in Abständen zwischen _[0.01, 0.05, 0.1, 0.2]_ statt."
      ]
    },
    {
      "cell_type": "code",
      "metadata": {
        "id": "4ESn_2iF62Ar",
        "colab_type": "code",
        "colab": {}
      },
      "source": [
        "mutation020 = genAlg(2000, 50, 19, 0.2, \"0,2\")\n",
        "mutation010 = genAlg(2000, 50, 19, 0.1, \"0,1\")\n",
        "mutation005 = genAlg(2000, 50, 19, 0.05, \"0,05\")\n",
        "mutation001 = genAlg(2000, 50, 19, 0.01, \"0,01\")"
      ],
      "execution_count": 0,
      "outputs": []
    },
    {
      "cell_type": "code",
      "metadata": {
        "id": "9s8bunbA2IK7",
        "colab_type": "code",
        "colab": {}
      },
      "source": [
        "pop_mutation = [0.01, 0.05, 0.1, 0.2]\n",
        "\n",
        "for f in pop_mutation:\n",
        "    result = genAlg(2000, 50, 19, f, \"{0}_features_genetic_algorithm: \".format(f))\n",
        "    print(\"Distanz bei {0} Merkmalen: \".format(result), f)"
      ],
      "execution_count": 0,
      "outputs": []
    },
    {
      "cell_type": "markdown",
      "metadata": {
        "id": "2x7Vfvnr2zKm",
        "colab_type": "text"
      },
      "source": [
        "#### Diskussion des Ergebnisses\n",
        "Die Ergebnisse je Training des Genetischen Algorithmus zeigen eine deutliche Verbesserung des _mittleren Ranges_ je mehr Merkmale (engl., _Features_) zum Training verfügbar sind. Dabei ist die Verbesserungskurve besonders hoch zwischen dem Einsatz von 10 und 14 Merkmalen. Ab dem Einsatz von 21 Merkmalen (_mR_ von 1,4166) lässt sich die Verbesserungsrate des _mittleren Ranges_ nur gering verbessern.\n",
        "\n",
        "Man kann hierdurch darauf schließen, dass bei einem größeren \"genetischen Pool\" einer höhere Wahrscheinlichkeit für gute Kombinationen durch Mutation und Kreuzung besteht."
      ]
    },
    {
      "cell_type": "markdown",
      "metadata": {
        "id": "PThvtVa4lBrw",
        "colab_type": "text"
      },
      "source": [
        "## Clustering und automatische Playlistgenerierung\n",
        "Implementieren Sie ein hierarchisches Clustering aller Subsequenzen in _subFeaturesTrain1.csv_. Diese _.csv_-Datei enthält nur die im vorigen Schritt ermittelten wichtigsten Merkmale. Das hierarchische Clustering ist in einem Dendrogram der Art wie in der unten gegebenen Abbildung zu visualisieren.\n",
        "\n",
        "Die gefundenen Cluster sind mit den zugehörigen Musiktiteln in der Konsole auszugeben. \n",
        "\n",
        "### Das Hierarchische Clustering\n",
        "\n",
        "Das Hierarchische Clustering ist ein Typ des unüberwachten Lernens (engl., _Unsupervised Learning_). Dieser wird angewandt, um nicht gelabelte Datenpunkte zu clustern. Ähnlich dem K-means Clustering Algorithmus grupiert der Hierarchische Clustering Algorithmus Datenpunkte zusammen, welche ähnliche Charakteristiken aufweisen. In manchen Fällen kann das Ergebnis des hierarchischen, als auch K-means Clustering Algorithmus daher ähnliche sein. Die Hierarchie dieser Cluster wird als Baum Strukture (_Dendogram_) dargestellt. Die Wurzel dieses Baumes stellt das einzigartige Cluster dar, welches alle Stichproben an Datenpunkte (engl., _samples_) vereint. In den Blättern dagegen finden sich die einzelnen Cluster, die nur einen Datenpunktsatz enthalten.\n",
        "\n"
      ]
    },
    {
      "cell_type": "markdown",
      "metadata": {
        "id": "ED_gVHV43w4K",
        "colab_type": "text"
      },
      "source": [
        "**Aufgaben:**\n",
        "\n",
        "1. Optimieren Sie die Parameter\n",
        "\n",
        "    1. metric (Ähnlichkeitsmaß)\n",
        "    2. linkage method\n",
        "    3. Clusteranzahl\n",
        "\n",
        "Die Ausgabe des Hierarchischen Clustering Algorithmus soll wie im Folgenden angelegt sein:\n",
        "\n",
        "![Abbildung Music Clustering](https://www.hdm-stuttgart.de/~maucher/ipnotebooks/DataMining//Bilder/playlistCluster.png \"Music Clustering\")"
      ]
    },
    {
      "cell_type": "code",
      "metadata": {
        "id": "KX2kh2Hx35ox",
        "colab_type": "code",
        "colab": {}
      },
      "source": [
        "import sklearn\n",
        "import pandas as pd\n",
        "import seaborn as sns\n",
        "import numpy as np\n",
        "from matplotlib import pyplot as plt\n",
        "from sklearn.cluster import AgglomerativeClustering\n",
        "from sklearn import preprocessing"
      ],
      "execution_count": 0,
      "outputs": []
    },
    {
      "cell_type": "code",
      "metadata": {
        "id": "PZCuol4KR2AY",
        "colab_type": "code",
        "colab": {}
      },
      "source": [
        "# Erstellung der CSV Datei mit dem besten Merkmal\n",
        "genAlg(2000, 50, 21, 0.05,'21 Merkmale') "
      ],
      "execution_count": 0,
      "outputs": []
    },
    {
      "cell_type": "code",
      "metadata": {
        "id": "454bi88elBrw",
        "colab_type": "code",
        "colab": {}
      },
      "source": [
        "subFeatureTrain = pd.read_csv(\"subFeaturesTrain1.csv\", index_col=0)\n",
        "subFeatureTrain.head(5)"
      ],
      "execution_count": 0,
      "outputs": []
    },
    {
      "cell_type": "markdown",
      "metadata": {
        "id": "hgW5YsLV48EG",
        "colab_type": "text"
      },
      "source": [
        "#### Skalierung der Input Variablen\n",
        "Um einen _Bias_ des Models zu verhindern werden die Datensätze normalisiert, sodass alle die selbe Skalierung aufweisen."
      ]
    },
    {
      "cell_type": "code",
      "metadata": {
        "id": "xz8RqhS648bR",
        "colab_type": "code",
        "colab": {}
      },
      "source": [
        "subFeatureTrainScaled = preprocessing.scale(subFeatureTrain)\n",
        "subFeatureTrainScaled = pd.DataFrame(subFeatureTrainScaled, index=subFeatureTrain.index, columns=subFeatureTrain.columns)\n",
        "subFeatureTrain = subFeatureTrainScaled"
      ],
      "execution_count": 0,
      "outputs": []
    },
    {
      "cell_type": "markdown",
      "metadata": {
        "id": "_ZZ0YLlP5P3B",
        "colab_type": "text"
      },
      "source": [
        "#### Datenanalyse mittels Heatmap \n",
        "Mittels einer Heatmap können die Datensätze auf deren Verteilung und Ähnlichkeit zueinander untersucht werden. Als Farbgebung für diese Heatmap wurde \"Viridis\" genommen. Je stärker die Felder gelb eingefärbt sind, desto größer ist der Wert dieses Merkmals. Dies verhält sich ebenso umgekehrt mit dunkel-blau eingefärbten Werten. Hierdurch lässt sich visuell analysieren, welche Merkmale einen ähnlichen Wert haben und sich damit ähnlichsten sind."
      ]
    },
    {
      "cell_type": "code",
      "metadata": {
        "id": "xKLdqCvt5QJZ",
        "colab_type": "code",
        "colab": {}
      },
      "source": [
        "fig, ax = plt.subplots(figsize=(30,30))\n",
        "ax.axes.set_title(\"Heatmap of features from music samples\", fontsize=24, y=1.01)\n",
        "ax.set(xlabel='Features', ylabel='Importance');\n",
        "sns.heatmap(subFeatureTrain, annot=True, fmt=\"g\", cmap='viridis', ax=ax)\n",
        "plt.savefig('heatmap_music_feature_dist.png')\n",
        "plt.show()"
      ],
      "execution_count": 0,
      "outputs": []
    },
    {
      "cell_type": "code",
      "metadata": {
        "id": "wJxKeCZL6GsH",
        "colab_type": "code",
        "colab": {}
      },
      "source": [
        "from scipy.cluster.hierarchy import dendrogram, linkage, fcluster"
      ],
      "execution_count": 0,
      "outputs": []
    },
    {
      "cell_type": "code",
      "metadata": {
        "id": "R-knWMve4Kzm",
        "colab_type": "code",
        "colab": {}
      },
      "source": [
        "linked = linkage(subFeatureTrain.to_numpy(), 'complete', 'cityblock')\n",
        "cluster = fcluster(linked, 6, criterion='maxclust')\n",
        "labelList = subFeatureTrain.index\n",
        "plt.figure(figsize=(15,15))\n",
        "dendrogram(linked,\n",
        "          orientation='right',\n",
        "          labels=labelList,\n",
        "          distance_sort='descending',\n",
        "          show_leaf_counts=True,\n",
        "          leaf_font_size=15,\n",
        "          color_threshold=23)\n",
        "\n",
        "for c in range(1, cluster.max()+1):\n",
        "    print(\"Cluster\", c)\n",
        "    for idx,i in enumerate(cluster):\n",
        "        if i == c:\n",
        "            print(subFeatureTrain.index[idx])\n",
        "plt.show()"
      ],
      "execution_count": 0,
      "outputs": []
    },
    {
      "cell_type": "markdown",
      "metadata": {
        "id": "ile4-GZ-4MAK",
        "colab_type": "text"
      },
      "source": [
        "1. Parameterkonstellation:\n",
        "\n",
        "* metric (Ähnlichkeitsmaß): Cityblock\n",
        "\n",
        "* linkage method: complete\n",
        "\n",
        "* Clusteranzahl: 6"
      ]
    },
    {
      "cell_type": "code",
      "metadata": {
        "id": "y0TIYQkk6WZD",
        "colab_type": "code",
        "colab": {}
      },
      "source": [
        "def create_dendogram(df_data, method_linkage, affinity, labels):\n",
        "    #linkage matrix encoding hierarchical clustering\n",
        "    Z = linkage(df_data, method_linkage, affinity) \n",
        "    plt.figure(figsize=(20, 30))\n",
        "    plt.title('Hierarchical Clustering Dendrogram', fontsize=20)\n",
        "    plt.xlabel('Calculated distance, method {}'.format(affinity), fontsize=16)\n",
        "    plt.ylabel('Music features per title', fontsize=16)\n",
        "    # create dendogram\n",
        "    R = dendrogram(Z, orientation=\"right\", labels=labels)\n",
        "    # define graph spec\n",
        "    ax = plt.gca()\n",
        "    ax.tick_params(axis='x', which='major', labelsize=15)\n",
        "    ax.tick_params(axis='y', which='major', labelsize=15)\n",
        "    plt.savefig('dendrogram {}.png'.format(affinity))\n",
        "    plt.show()\n",
        "    \n",
        "    return R"
      ],
      "execution_count": 0,
      "outputs": []
    },
    {
      "cell_type": "markdown",
      "metadata": {
        "id": "u2PWYlcE5ujd",
        "colab_type": "text"
      },
      "source": [
        "#### Unterschiedliche Affinity und Linkage\n",
        "Um die verschiedenen Auswirkungen der jeweiligen Ähnlichkeitsmaße (hier: _affinity_ ), sowie Linkage Matrix (hier _linkage_ ) auf das Ergebnis des hierarchischen Clustering Plots als Dendrogram zu untersuchen werden diese im Folgenden angelegt:"
      ]
    },
    {
      "cell_type": "code",
      "metadata": {
        "id": "l_yBr-565sNb",
        "colab_type": "code",
        "colab": {}
      },
      "source": [
        "affinity = ['euclidean', 'manhattan', 'cosine', 'precomputed']\n",
        "method_linkage = ['ward', 'complete', 'average', 'single']\n",
        "\n",
        "labels = df_music_features.music_title.tolist()\n",
        "leaves_dict = []\n",
        "\n",
        "# Create dendograms with various methods\n",
        "for m in method_linkage:\n",
        "  for a in affinity:\n",
        "    leaves1 = create_dendogram(subFeatureTrain, m, a, labels)\n",
        "    leaves_dict.append([m, a, leaves1])"
      ],
      "execution_count": 0,
      "outputs": []
    },
    {
      "cell_type": "markdown",
      "metadata": {
        "id": "sxvQUpcb7Gx9",
        "colab_type": "text"
      },
      "source": [
        "Das Dictionary _R_, das von der Scipy Funktion _dendrogram()_ zurück gegeben wird, enthält Informationen über  das _Dendrogram_ und damit auch eine Liste an Werten der geclusterten Musikstüclke. "
      ]
    },
    {
      "cell_type": "markdown",
      "metadata": {
        "id": "T8J5uFKV4GWj",
        "colab_type": "text"
      },
      "source": [
        "    \n",
        "2. Für welche Parameterkonstellation erlangen Sie das für Sie subjektiv betrachtet günstigste Ergebnis?\n",
        "\n",
        "Subjektiv betrachtet ergeben die generierten Cluster (Playlists) Sinn. Künstler werden größtenteils in eine Playlist zusammengefasst, mit wenigen anderen Künstlern z.B. eine Playlist mit 15 Adele Songs und mit nur einem einzigen Lana Del Rey Song. Zudem kann man Ausreißer-Cluster anhand von kleinen Playlists erkennen."
      ]
    },
    {
      "cell_type": "markdown",
      "metadata": {
        "id": "V5RIkbqb4P-s",
        "colab_type": "text"
      },
      "source": [
        "3. Überlegen Sie sich Ansätze um diese Art der Musikgruppierung zu verbessern?\n",
        "\n",
        "Am nahe liegendsten wäre die Extraktion von weiteren Features wie z.B. Sprache, BPM, Spieldauer der Songs. Außerdem könnte man die Clustergröße anhand von einer Mindest- oder Maximalanzahl von Songs vordefinieren, um z.B. eine Playlist mit einer gewissen Spieldauer zu erstellen. Grundsätzlich ist es möglich ein anderes Verfahren zur Clusterbildung zu verwenden (z.B. K-Means).\n",
        "\n",
        "Fazit:\n",
        "\n",
        "Ein Durchlauf des genetischen Algorithmus dauert sehr lange. Dies hat das Testen und Entwickeln sehr zeitaufwendig gemacht! Wir hätten diesbezüglich von Anfang an mit Multithreading arbeiten sollen, stattdessen haben wir die Performance durch eine andere Euklidfunktion verbessert.\n"
      ]
    },
    {
      "cell_type": "markdown",
      "metadata": {
        "id": "f656ktcs7TJS",
        "colab_type": "text"
      },
      "source": [
        ""
      ]
    },
    {
      "cell_type": "markdown",
      "metadata": {
        "id": "wZga8GVL7WmB",
        "colab_type": "text"
      },
      "source": [
        "## Zusatzaufgabe: Der Agglomerative Clustering Algorithmus"
      ]
    },
    {
      "cell_type": "markdown",
      "metadata": {
        "id": "stWYITla7Ypc",
        "colab_type": "text"
      },
      "source": [
        "### Visuelle Analyse der Clusteranzahl mittels Dendrogram\n",
        "Man kann ein Dendrogram auch zur Untersuchung der Datensätze, als auch zur Vorauswahl von Clustern heranziehen. Die Datensätze können dafür mittels einem Dendrogram näher untersucht werden und wichtige Rückschlüsse für die weitere verarbeitung gezogen werden. Dies gibt Aufschluss darüber, wie viele Cluster aus dem gesamten Datensatz (enlg., _sample_ ) im Optimum hervorgebracht werden können. Die _x-Achse_ enthält die Datensätze und die _y-Achse_ stellt den Abstand (bzw. Unähnlichkeit) zwischen den Datensätzen dar. Je größer der Abstand, desto unähnlicher sind sich die Datensätze und umgekehrt. "
      ]
    },
    {
      "cell_type": "code",
      "metadata": {
        "id": "D6oNAQop7we6",
        "colab_type": "code",
        "colab": {}
      },
      "source": [
        "import scipy.cluster.hierarchy as shc"
      ],
      "execution_count": 0,
      "outputs": []
    },
    {
      "cell_type": "markdown",
      "metadata": {
        "id": "O6sJCJ8Y7zDx",
        "colab_type": "text"
      },
      "source": [
        "Die senkrechte Linie mit dem maximalen Abstand zwischen den Sequenzen ist die blaue Linie und daher kann in diesem Beispiel ein Schwellenwert (engl., _threshold_ ) von _t=5_ und _t=3_ festgelegt werden, um hier das Dendrogramm visuell zu schneiden. Der Schwellenwert bei _t=5_ wird durch eine gestrichtelte Linie im _Dendogram_ dargestellt. Durch den Schnitt dieser mit drei zusammen laufenden Cluster Linien (engl., _fusions_) lässt sich erkennen, dass sich nun _n=3_ Cluster bilden."
      ]
    },
    {
      "cell_type": "code",
      "metadata": {
        "id": "3oJc19mS7riV",
        "colab_type": "code",
        "colab": {}
      },
      "source": [
        "def plot_hierarchical_cluster(data, method):\n",
        "    plt.figure(figsize=(10, 7))\n",
        "    plt.title(\"Cluster analysis Dendrogram, method={}\".format(method)) \n",
        "    plt.xlabel('Music Titles Cluster')\n",
        "    plt.ylabel('Euclidean distances')\n",
        "    dend = shc.dendrogram(shc.linkage(data, method))\n",
        "    # plot the line to make the threshhold visible\n",
        "    plt.axhline(y=5, color='r', linestyle='--')\n",
        "    plt.axhline(y=3, color='r', linestyle='--')\n",
        "    plt.savefig('dendrogram_data_preprocessing_{}.png'.format(method))\n",
        "    plt.show()"
      ],
      "execution_count": 0,
      "outputs": []
    },
    {
      "cell_type": "markdown",
      "metadata": {
        "id": "qYBsxPvp8iD_",
        "colab_type": "text"
      },
      "source": [
        "Da die Methode=_'ward'_ die besten Ergebnisse erzielt hat, wird diese auch in dem folgenden Versuch angewandt. Das Ähnlichkeitsmaß ist auch hier die _euklidsche Distanz_ ."
      ]
    },
    {
      "cell_type": "code",
      "metadata": {
        "id": "7jIndsbz8d-7",
        "colab_type": "code",
        "colab": {}
      },
      "source": [
        "plot_hierarchical_cluster(subFeatureTrain, 'ward')"
      ],
      "execution_count": 0,
      "outputs": []
    },
    {
      "cell_type": "markdown",
      "metadata": {
        "id": "c5NeILmB9NP7",
        "colab_type": "text"
      },
      "source": [
        "#### Erkenntnis Dendrogram\n",
        "Visuelle Untersuchung des Cluster Baumes in einem _Dendogram_ veranschaulicht dessen Struktur. Im untersten Knoten, dem Blatt (_engl., leave_) werden die ähnlichsten Merkmale in einem Cluster zusammen gefasst. Diese Cluster erhalten die Label zwischen _1-n_ der festgelegten Cluster Anazhl _n_. \n",
        "\n",
        "#### Ausreißer erkennen ( _outlier detection_ )\n",
        "In dem aktuellen Graphen sind keine Ausreißer erkennbar. Diese könnten normalerweise anhand von nicht paarweise vorkommenden Zweigen (engl., _branches_ ) ausgemacht werden. "
      ]
    },
    {
      "cell_type": "code",
      "metadata": {
        "id": "DWn8znrh-EOC",
        "colab_type": "code",
        "colab": {}
      },
      "source": [
        "def agglomerativeCluster(data, n_clusters, affinity, linkage):\n",
        "    agglo_cluster_model = AgglomerativeClustering(n_clusters, affinity, linkage)\n",
        "    return agglo_cluster_model.fit_predict(data)"
      ],
      "execution_count": 0,
      "outputs": []
    },
    {
      "cell_type": "markdown",
      "metadata": {
        "id": "4Eckmmqq9gNl",
        "colab_type": "text"
      },
      "source": [
        "### Trainieren des Agglomerative Clustering Algorithmus\n",
        "Der Algorithmus benötigt keine initiale Angabe der Cluster Anzahl _k_, wie der k-means Clustering Algorithmus. Dies ist ein entscheidender Vorteil.\n",
        "\n",
        "#### Vorgehen\n",
        "Zunächst wird jeder Punkt als ein separates Cluster betrachtet, dann werden die Punkte rekursiv in Abhängigkeit von der Entfernung zwischen ihnen gebündelt. Die Datenpunkte werden so gruppiert, dass der Abstand zwischen den Datenpunkten innerhalb eines Clusters minimal und der Abstand zwischen den Punkten innerhalb verschiedener Clusters maximal ist. Häufig verwendete Entfernungsmaße sind die euklidische Distanz, die Manhattan-Distanz oder die Mahalanobis-Distanz. "
      ]
    },
    {
      "cell_type": "code",
      "metadata": {
        "id": "buqz-EyK-Ie1",
        "colab_type": "code",
        "colab": {}
      },
      "source": [
        "cluster_lables = agglomerativeCluster(subFeatureTrain, n_clusters=3, affinity='euclidean', linkage='ward')\n",
        "cluster_lables"
      ],
      "execution_count": 0,
      "outputs": []
    },
    {
      "cell_type": "code",
      "metadata": {
        "id": "iZrwuJHI-MfS",
        "colab_type": "code",
        "colab": {}
      },
      "source": [
        "subFeatureTrain.insert((subFeatureTrain.shape[1]), 'agglomerative', cluster_lables)\n",
        "subFeatureTrain.head(5)"
      ],
      "execution_count": 0,
      "outputs": []
    },
    {
      "cell_type": "markdown",
      "metadata": {
        "id": "hS0jIL18-OsY",
        "colab_type": "text"
      },
      "source": [
        "Ausgabe der gefundenen Cluster durch den Agglomerativen Clustering Algorithmus:"
      ]
    },
    {
      "cell_type": "code",
      "metadata": {
        "id": "YzB2PqSa-TMt",
        "colab_type": "code",
        "colab": {}
      },
      "source": [
        "def get_cluster(df_data, n_cluster):\n",
        "    music_cluster = []\n",
        "    for n in range(1, n_cluster):\n",
        "        playlist_recom = df_data.loc[df_data['agglomerative'] == n]\n",
        "        music_cluster.append(playlist_recom)\n",
        "        print('Cluster{0}: {1}'.format(n, playlist_recom))\n",
        "    return music_cluster"
      ],
      "execution_count": 0,
      "outputs": []
    },
    {
      "cell_type": "code",
      "metadata": {
        "id": "j3Sq4ULA-Xht",
        "colab_type": "code",
        "colab": {}
      },
      "source": [
        "music_cluster = get_cluster(subFeatureTrain, 3)\n",
        "music_cluster"
      ],
      "execution_count": 0,
      "outputs": []
    }
  ]
}