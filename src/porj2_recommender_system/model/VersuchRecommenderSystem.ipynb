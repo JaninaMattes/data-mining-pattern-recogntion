{
 "cells": [
  {
   "cell_type": "markdown",
   "metadata": {},
   "source": [
    "# Data Mining Versuch Recommender Systeme\n",
    "\n",
    "* Autor: Prof. Dr. Johannes Maucher\n",
    "* Datum: 30.09.2015\n",
    "\n",
    "[Übersicht Ipython Notebooks im Data Mining Praktikum](Data Mining Praktikum.ipynb)\n",
    "\n",
    "\n",
    "# Einführung\n",
    "## Lernziele:\n",
    "In diesem Versuch sollen Kenntnisse in folgenden Themen vermittelt werden:\n",
    "\n",
    "* __Ähnlichkeit:__ Verfahren zur Bestimmung der Ähnlichkeit zwischen Personen (Kunden) und Elementen (Produkten)\n",
    "* __Empfehlungssysteme__ Collaborative Filtering \n",
    "* __Collaborative Filtering:__ Nutzerbezogener Ansatz und elementbasierter Ansatz\n",
    "\n",
    "Sämtliche Verfahren und Algorithmen werden in Python implementiert.\n",
    "\n",
    "## Theorie zur Vorbereitung\n",
    "### Recommender Systeme\n",
    "Recommender Systeme werden im E-Commerce eingesetzt um Werbung in Form von kundenspezifischen Empfehlungen zu verteilen. Weitläufig bekannt sind die Amazon-Empfehlungen, die entweder per e-mail geschickt oder nach dem Log-In in der Web-Page angezeigt werden. Diese Empfehlungen werden in Abhängigkeit von den bisher vom jeweiligen Kunden gekauften bzw. bewerteten Produkten erstellt. In diesem Versuch werden die derzeit wohl am weitest verbreiteteten Verfahren für die Erzeugung kundenspezifischer Empfehlungen vorgestellt, darunter das elementweise Collaborative Filtering, welches z.B. auch von Amazon eingesetzt wird.     \n",
    "\n",
    "Direkt-Marketing Methoden wie die kundenspezifische Erzeugung und Bereitstellung von Werbung erfordern detaillierte Kunden- und Warenkorbanalysen. Kunden mit ähnlichem Kaufverhalten werden in Kundengruppen zusammengefasst. Die Warenkorbanalyse untersucht u.a. welche Waren bevorzugt im Verbund von der gleichen Person gekauft werden. Damit kann ein Händler Werbung in Form von Empfehlungen individuell und gezielt an seine Kunden richten, abhängig davon welcher Kundengruppe er angehört und welche Produkte bevorzugt von dieser Kundengruppe nachgefragt werden. \n",
    "\n",
    "Im ersten Teil der Übung werden fiktive Daten in einer überschaubaren Menge verwendet. Es handelt sich hier um Filmbewertungen. Anhand dieses Beispiels sollen die notwendigen Methoden und Abläufe implementiert und getestet werden. Diese werden im zweiten Teil der Übung auf echte Daten angewandt. Hierzu werden über eine Python-API Daten vom Internet-Meta-Radio _last.fm_ integriert. Auf der Basis dieser Daten sollen dann Musikempfehlungen für last.fm User berechnet werden. \n",
    "\n",
    "Recommender Systeme lassen sich mit\n",
    "\n",
    "* Clustering Verfahren\n",
    "* Suchalgorithmen\n",
    "* Collaborativen Filtering \n",
    " \n",
    "realisieren. Am häufigsten wird hierbei das Collaborative Filtering eingesetzt. Für das Collaborative Filtering wird jeder der $M$ User durch einen $N$-dimensionalen Vektor beschrieben, wobei $N$ die Anzahl der Produkte im Angebot des Händlers ist. Jedes Element im Vektor gehört zu einem speziellen Produkt. Das Element hat den Wert 1, wenn der User dieses Produkt bereits gekauft hat, sonst 0 (andere Wertbelegungen sind möglich, z.B. wenn Produktbewertungen vorliegen). Alle $M$ Zeilenvektoren können zur _User/Item_ Matrix zusammengefasst werden (siehe Abbildung).\n",
    "\n",
    "![Abbildung User Item Matrix](https://www.hdm-stuttgart.de/~maucher/ipnotebooks/DataMining//Bilder/UserItemMatrix.png \"User Item Matrix\")"
   ]
  },
  {
   "cell_type": "markdown",
   "metadata": {},
   "source": [
    "Das traditionelle **userbasierte Collaborative Filtering (UCF)**, benutzt die Ähnlichkeit zwischen Benutzern: Um für User $U_i$ eine Empfehlung zu erzeugen wird zunächst der diesem User ähnlichste Kunde (oder eine Menge vom ähnlichsten Kunden) ermittelt. Dann werden $U_i$ die Produkte (Items) empfohlen, welche der ähnlichste Kunde gekauft hat, $U_i$ selbst jedoch noch nicht. \n",
    "\n",
    "Dieser Ansatz skaliert schlecht im Fall sehr großer _User/Item_-Matrizen. Ausserdem ist er für User, welche erst wenige Produkte gekauft haben unzuverlässig. Besser eignet sich in diesen Fällen das **itembasierte Collaborative Filtering (ICF)**. Es wird u.a. von Amazon.com eingesetzt. Diese Variante benutzt die Ähnlichkeit zwischen Produkten (Items). Dabei sind Produkte umso ähnlicher je mehr Kunden diese Produkte gemeinsam gekauft haben. Für die Produkte welche ein Referenzuser $U_i$ bereits gekauft hat, werden die ähnlichsten Produkte ermittelt. Diese ähnlichsten Produkte werden $U_i$ empfohlen, wenn er sie nicht schon selbst gekauft hat.\n",
    "\n",
    "Im folgenden Abschnitt werden einige gebräuchliche Metriken für die Berechnung der Ähnlichkeit zwischen Benutzern oder Artikeln vorgestellt. Für Collaboratives Filtering wird sehr häufig das Cosinus - Ähnlichkeitsmaß eingesetzt.\n"
   ]
  },
  {
   "cell_type": "markdown",
   "metadata": {},
   "source": [
    "### Gebräuchliche Ähnlichkeitsmaße\n",
    "\n",
    "Die __euklidische Distanz__ $d_E(\\underline{a},\\underline{b})$ zwischen zwei n-dimensionalen Vektoren $\\underline{a}=(a_1,\\ldots,a_n)$ und $\\underline{b}=(b_1,\\ldots,b_n)$ berechnet sich zu\n",
    "\t$$\n",
    "\td_E(\\underline{a},\\underline{b})=\\sqrt{\\sum_{i=1}^n (a_i-b_i)^2}\n",
    "\t$$\n",
    "Zwei Vektoren können als umso ähnlicher erachtet werden, je kleiner deren euklidische Distanz ist. \n",
    "Ein auf der euklidischen Metrik basierendes Ähnlichkeitsmaß zwischen zwei Vektoren $\\underline{a}$ und $\\underline{b}$ kann durch \n",
    "$$\n",
    "s_E(\\underline{a},\\underline{b})=\\frac{1}{1+d_E(\\underline{a},\\underline{b})}\n",
    "$$\n",
    "angegeben werden.\n",
    "\n",
    "\n",
    "__Pearson Korrelation__\n",
    "Die Ähnlichkeit zwischen zwei Vektoren kann auch durch den Pearson-Korrelationskoeffizient $\\rho_{\\underline{a},\\underline{b}}$ ausgedrückt werden. Er berechnet sich zu\n",
    "$$\n",
    "\\rho_{\\underline{a},\\underline{b}}= \\frac{1}{N}\\cdot \\sum\\limits_{i=1}^{N}\\frac{(a_i-\\overline{a})}{\\sigma_a} \\frac{(b_i-\\overline{b})}{\\sigma_b}\n",
    "$$\n",
    "Dabei bezeichnet $N$ die Länge der Vektoren, $\\overline{a}$ den Mittelwert und $\\sigma_a$ die Standardabweichung des Vektors $\\underline{a}$. \n",
    "\n",
    "Der Pearson-Korrelationskoeffizient misst die lineare Abhängigkeit zwischen zwei Vektoren. Der maximale Wert von $+1$ wird erreicht, wenn die durch die beiden Vektoren definierten N Punkte im 2-dimensionalen Raum auf einer ansteigenden Geraden liegen. Der Minimalwert von $-1$ wird erreicht, wenn die Punkte auf einer abfallenden Geraden liegen. Der Betrag des Koeffizienten ist umso kleiner, je stärker die Punkte von einer fiktiven Geraden (kann durch lineare Regression berechnet werden) abweichen. Der Koeffizient ist $0$ wenn keine lineare Abhängigkeit zwischen den Vektoren besteht.\n",
    "\n",
    "\n",
    "__Cosinus Ähnlichkeitsmaß__\n",
    "Die Ähnlichkeit zwischen zwei Vektoren kann auch durch den Cosinus $\\cos(\\underline{a},\\underline{b})$ ausgedrückt werden. Er berechnet sich zu\n",
    "$$\n",
    "\\cos(\\underline{a},\\underline{b})= \\frac{\\underline{a} \\cdot \\underline{b}}{\\left\\|\\underline{a}\\right\\|\\cdot \\left\\|\\underline{b}\\right\\|}\n",
    "$$\n",
    "wobei im Zähler das Skalarprodukt der beiden Vektoren steht und mit $\\left\\|\\underline{x}\\right\\|$ der Betrag des Vektors $\\underline{x}$ bezeichnet wird.\n",
    "\n",
    "Falls die Vektoren $\\underline{a}$ und $\\underline{b}$ mittelwertfrei sind, ist der Cosinus-Ähnlichkeitswert gleich dem Pearson-Korrelationswert. In der Dokument- und Textanalyse wird vornehmlich das Cosinus-Ähnlichkeitsmaß verwendet. \n",
    "\n",
    "\n",
    "__Russel Rao Ähnlichkeitsmaß__\n",
    "Die Russel Rao-Ähnlichkeit zwischen zwei binären Vektoren $\\underline{a}$ und $\\underline{b}$ mißt das Verhältnis zwischen der Anzahl $\\alpha$ der Stellen in denen beide Vektoren den Wert 1 haben und der Länge $n$ der Vektoren. Z.B. ist für die Vektoren $\\underline{a}=(1,0,1,0,0,1)$ und $\\underline{b}=(0,1,1,1,0,1)$ die Russel-Rao-Ähnlichkeit $s_{RR}(\\underline{a},\\underline{b})=2/6=0.333$.\n",
    "\n",
    "__Jaccard Ähnlichkeitsmaß__\n",
    "Die Jaccard-Ähnlichkeit zwischen zwei binären Vektoren $\\underline{a}$ und $\\underline{b}$ mißt das Verhältnis zwischen der Anzahl $\\alpha$ der Stellen in denen beide Vektoren den Wert $1$ haben und der Anzahl der Stellen in denen mindestens einer der beiden Vektoren ungleich $0$ ist. Z.B. ist für die Vektoren $\\underline{a}=(1,0,1,0,0,1)$ und $\\underline{b}=(0,1,1,1,0,1)$ die Jaccard-Ähnlichkeit $s_{J}(\\underline{a},\\underline{b})=2/5=0.4$. Die Jaccard Metrik wird in diesem Versuch für die Bestimmung der Ähnlichkeit von _last.fm_-Usern eingesetzt.\n"
   ]
  },
  {
   "cell_type": "markdown",
   "metadata": {},
   "source": [
    "## Vor dem Versuch zu klärende Fragen\n",
    "Eine Untermenge der im Folgenden aufgeführten Fragen wird zu Beginn des Versuchs im Rahmen eines Gruppenkolloqs abgefragt. Auf jede Frage sollte von mindestens einem Gruppenmitglied eine Antwort geliefert werden und jedes Gruppenmitglied muss mindestens eine der gestellten Fragen beantworten können.\n",
    "\n",
    "**Aufgaben:**\n",
    "\n",
    "* Beschreiben Sie das Prinzip des userbasierten Collaborativen Filtering (UCF)."
   ]
  },
  {
   "cell_type": "code",
   "execution_count": 224,
   "metadata": {},
   "outputs": [],
   "source": [
    "#Your markdown"
   ]
  },
  {
   "cell_type": "markdown",
   "metadata": {},
   "source": [
    "* Welche Nachteile hat das UCF?"
   ]
  },
  {
   "cell_type": "code",
   "execution_count": 225,
   "metadata": {},
   "outputs": [],
   "source": [
    "#Your markdown"
   ]
  },
  {
   "cell_type": "markdown",
   "metadata": {},
   "source": [
    "* Worin besteht der Unterschied zwischen UCF und itembasierten Collaborativen Filtering (ICF)?"
   ]
  },
  {
   "cell_type": "code",
   "execution_count": 226,
   "metadata": {},
   "outputs": [],
   "source": [
    "#Your markdown"
   ]
  },
  {
   "cell_type": "markdown",
   "metadata": {},
   "source": [
    "* Gegeben seien die Vektoren \n",
    "\n",
    "    \\begin{eqnarray*}\n",
    "    \\underline{a} & = & [1,2,3,4,5,6] \\\\\n",
    "    \\underline{b} & = & [3,3,5,6,7,8] \\\\\n",
    "    \\end{eqnarray*}\n",
    "    \n",
    "    Schreiben Sie eine Python Funktion, die den Mittelwert derartiger Vektoren berechnet. Schreiben Sie eine weitere Funktion, die die Varianz berechnet"
   ]
  },
  {
   "cell_type": "code",
   "execution_count": 227,
   "metadata": {},
   "outputs": [],
   "source": [
    "import numpy\n",
    "import pprint as pp"
   ]
  },
  {
   "cell_type": "code",
   "execution_count": 228,
   "metadata": {},
   "outputs": [
    {
     "name": "stdout",
     "output_type": "stream",
     "text": [
      "Mean of vector a: 3.5\n",
      "Mean of vector b: 5.333333333333333\n"
     ]
    }
   ],
   "source": [
    "# Mittelwert bestimmen\n",
    "a=[1,2,3,4,5,6]\n",
    "b=[3,3,5,6,7,8]\n",
    "\n",
    "def mean_value(vector):\n",
    "    sum = 0\n",
    "    for i in vector:\n",
    "        sum += i\n",
    "    return sum/len(vector)\n",
    "\n",
    "print(\"Mean of vector a:\", mean_value(a))\n",
    "print(\"Mean of vector b:\", mean_value(b))"
   ]
  },
  {
   "cell_type": "code",
   "execution_count": 229,
   "metadata": {},
   "outputs": [
    {
     "name": "stdout",
     "output_type": "stream",
     "text": [
      "Varianz von Vektor a: 2.9166666666666665\n",
      "Varianz von Vektor b: 3.5555555555555554\n"
     ]
    }
   ],
   "source": [
    "# Varianz\n",
    "\n",
    "def varianz(vector):\n",
    "    sum = 0\n",
    "    mittel = mean_value(vector)\n",
    "    for i in vector:\n",
    "        sum += (i-mittel)**2\n",
    "        \n",
    "    return sum/len(vector)\n",
    "print(\"Varianz von Vektor a:\", varianz(a))\n",
    "print(\"Varianz von Vektor b:\", varianz(b))"
   ]
  },
  {
   "cell_type": "markdown",
   "metadata": {},
   "source": [
    "* Wie groß ist die\n",
    "\n",
    "    - Euklidische Ähnlichkeit\n",
    "    - Pearson Ähnlichkeit\n",
    "    - Cosinus Ähnlichkeit\n",
    "    \n",
    "    zwischen den Vektoren $\\underline{a}$ und $\\underline{b}$? "
   ]
  },
  {
   "cell_type": "code",
   "execution_count": 230,
   "metadata": {},
   "outputs": [],
   "source": [
    "import math\n",
    "import scipy\n",
    "from scipy import spatial, stats # sonst evtl OS Probleme"
   ]
  },
  {
   "cell_type": "code",
   "execution_count": 231,
   "metadata": {},
   "outputs": [
    {
     "name": "stdout",
     "output_type": "stream",
     "text": [
      "Euklid: 4.58257569495584\n",
      "Pearson: (0.9833434220628547, 0.0004138517691427288)\n",
      "Cosinus: 0.9910600847451639\n"
     ]
    }
   ],
   "source": [
    "#Euklidische, Pearson und Cosinus Ähnlichkeit\n",
    "print(\"Euklid:\", scipy.spatial.distance.euclidean(a,b))\n",
    "print(\"Pearson:\", scipy.stats.pearsonr(a,b))\n",
    "print(\"Cosinus:\", (1-scipy.spatial.distance.cosine(a,b)))"
   ]
  },
  {
   "cell_type": "markdown",
   "metadata": {},
   "source": [
    "* In welchen Fällen sind Cosinus- und Pearsonähnlichkeit der euklidischen Ähnlichkeit vorzuziehen?"
   ]
  },
  {
   "cell_type": "code",
   "execution_count": 232,
   "metadata": {},
   "outputs": [],
   "source": [
    "#Your markdown"
   ]
  },
  {
   "cell_type": "code",
   "execution_count": 233,
   "metadata": {},
   "outputs": [],
   "source": [
    "from IPython.display import Latex\n",
    "from IPython.display import Image\n",
    "import pylast"
   ]
  },
  {
   "cell_type": "markdown",
   "metadata": {},
   "source": [
    "# Versuchsdurchführung\n",
    "## Teil 1: Fiktive Filmbewertung\n",
    "### Daten\n",
    "Folgende Tabelle enthält die Filmbewertungen von 7 Personen.\n",
    "from IPython.display import Latex\n",
    "In diesem Versuch sollen Kenntnisse in folgenden Themen vermittelt werden:\n",
    "\n",
    "![Abbildung Bewertung Fiktive Kunden](https://www.hdm-stuttgart.de/~maucher/ipnotebooks/DataMining/Bilder/recommenderFilmRecommendations.PNG)"
   ]
  },
  {
   "cell_type": "markdown",
   "metadata": {},
   "source": [
    "Die Tabelle ist als Python dictionary _critics_ implementiert. Die Keys des Python-Dictionary definieren die Namen von Personen (Zeilen in der Matrix), die Filme bewertet haben. Die Values sind selbst wieder Dictionarys, welche als Keys die Filmnamen (Spalten in der Matrix) und als Values die jeweilige Filmbewertung (Matrixelment) enthalten."
   ]
  },
  {
   "cell_type": "code",
   "execution_count": 234,
   "metadata": {},
   "outputs": [],
   "source": [
    "critics={'Lisa Rose': {'Lady in the Water': 2.5, 'Snakes on a Plane': 3.5,\n",
    " 'Just My Luck': 3.0, 'Superman Returns': 3.5, 'You, Me and Dupree': 2.5, \n",
    " 'The Night Listener': 3.0},\n",
    "'Gene Seymour': {'Lady in the Water': 3.0, 'Snakes on a Plane': 3.5, \n",
    " 'Just My Luck': 1.5, 'Superman Returns': 5.0, 'The Night Listener': 3.0, \n",
    " 'You, Me and Dupree': 3.5}, \n",
    "'Michael Phillips': {'Lady in the Water': 2.5, 'Snakes on a Plane': 3.0,\n",
    " 'Superman Returns': 3.5, 'The Night Listener': 4.0},\n",
    "'Claudia Puig': {'Snakes on a Plane': 3.5, 'Just My Luck': 3.0,\n",
    " 'The Night Listener': 4.5, 'Superman Returns': 4.0, \n",
    " 'You, Me and Dupree': 2.5},\n",
    "'Mick LaSalle': {'Lady in the Water': 3.0, 'Snakes on a Plane': 4.0, \n",
    " 'Just My Luck': 2.0, 'Superman Returns': 3.0, 'The Night Listener': 3.0,\n",
    " 'You, Me and Dupree': 2.0}, \n",
    "'Jack Matthews': {'Lady in the Water': 3.0, 'Snakes on a Plane': 4.0,\n",
    " 'The Night Listener': 3.0, 'Superman Returns': 5.0, 'You, Me and Dupree': 3.5},\n",
    "'Toby': {'Snakes on a Plane':4.5,'You, Me and Dupree':1.0,'Superman Returns':4.0}\n",
    "}"
   ]
  },
  {
   "cell_type": "markdown",
   "metadata": {},
   "source": [
    "### Ähnlichkeiten berechnen\n",
    "\n",
    "Für die Bestimmung der Ähnlichkeit zwischen Personen und Produkten werden in diesem Versuch ein auf der euklidischen Distanz basierendes Ähnlichkeitsmaß und die Pearson-Korrelation verwendet. Beide Ähnlichkeitsmaße sind in den unten definierten Funktionen implementiert. Alle drei hier implementierten Funktionen zur Berechnung der Ähnlichkeit erhalten als Übergabeparameter das oben definierte Dictionary, das die Filmbewertungen enthält und die Namen der zwei Personen, die verglichen werden sollen. \n",
    "\n",
    "Zu beachten ist, dass in beiden Funktionen für die Berechnung der Ähnlichkeit zwischen zwei Personen nur die Produkte berücksichtigt werden, welche von beiden Personen schon bewertet wurden. Es handelt sich hier also um modifizierte Ähnlichkeitsfunktionen. \n",
    "\n",
    "__Aufgabe:__\n",
    "Fragen Sie von diesem Dictionary _Toby's_ Bewertung des Films _Snakes on a Plane_ ab und geben Sie diesen Wert aus: "
   ]
  },
  {
   "cell_type": "code",
   "execution_count": 235,
   "metadata": {},
   "outputs": [
    {
     "name": "stdout",
     "output_type": "stream",
     "text": [
      "4.5\n"
     ]
    }
   ],
   "source": [
    "# Gebe die Bewertung vom Film \"Snakes on a Plane\" von Toby aus\n",
    "print(critics.get(\"Toby\").get(\"Snakes on a Plane\"))"
   ]
  },
  {
   "cell_type": "code",
   "execution_count": 236,
   "metadata": {},
   "outputs": [],
   "source": [
    "import numpy as np\n",
    "import scipy.spatial.distance as sci\n",
    "\n",
    "\n",
    "def sim_euclid(prefs,person1,person2,normed=True):\n",
    "  ''' Returns a euclidean-distance-based similarity score for \n",
    "  person1 and person2. In the distance calculation the sum is computed \n",
    "  only over those items, which are nonzero for both instances, i.e. only\n",
    "  films which are ranked by both persons are regarded.\n",
    "  If the parameter normed is True, then the euclidean distance is divided by\n",
    "  the number of non-zero elements integrated in the distance calculation. Thus\n",
    "  the effect of larger distances in the case of an increasing number of commonly ranked\n",
    "  items is avoided.\n",
    "  '''\n",
    "  # Get the list of shared_items\n",
    "  si={}\n",
    "  for item in prefs[person1]: \n",
    "    if item in prefs[person2]: si[item]=1\n",
    "  # len(si) counts the number of common ratings\n",
    "  # if they have no ratings in common, return 0\n",
    "  if len(si)==0: return 0\n",
    "\n",
    "  # Add up the squares of all the differences\n",
    "  sum_of_squares=np.sqrt(sum([pow(prefs[person1][item]-prefs[person2][item],2) \n",
    "                     for item in prefs[person1] if item in prefs[person2]]))\n",
    "  if normed:\n",
    "     sum_of_squares= 1.0/len(si)*sum_of_squares\n",
    "  return 1/(1+sum_of_squares)\n",
    "\n",
    "\n",
    "def sim_pearson(prefs,p1,p2):\n",
    "  '''\n",
    "  Returns the Pearson correlation coefficient for p1 and p2\n",
    "  '''\n",
    "    \n",
    "  # Get the list of commonly rated items\n",
    "  si={}\n",
    "  for item in prefs[p1]: \n",
    "    if item in prefs[p2]: si[item]=1\n",
    "\n",
    "  # if they are no ratings in common, return 0\n",
    "  if len(si)==0: return 0\n",
    "\n",
    "  # Sum calculations\n",
    "  n=len(si)\n",
    "  \n",
    "  # Calculate means of person 1 and 2\n",
    "  mp1=np.mean([prefs[p1][it] for it in si])\n",
    "  mp2=np.mean([prefs[p2][it] for it in si])\n",
    "  \n",
    "  # Calculate standard deviation of person 1 and 2\n",
    "  sp1=np.std([prefs[p1][it] for it in si])\n",
    "  sp2=np.std([prefs[p2][it] for it in si])\n",
    "  \n",
    "  # If all elements in one sample are identical, the standard deviation is 0. \n",
    "  # In this case there is no linear correlation between the samples\n",
    "  if sp1==0 or sp2==0:\n",
    "      return 0\n",
    "  r=1/(n*sp1*sp2)*sum([(prefs[p1][it]-mp1)*(prefs[p2][it]-mp2) for it in si])\n",
    "  return r\n",
    "\n",
    "\n",
    "def sim_RusselRao(prefs,person1,person2,normed=True):\n",
    "  ''' Returns RusselRao similaritiy between 2 users. The RusselRao similarity just counts the number\n",
    "  of common non-zero components of the two vectors and divides this number by N, where N is the length\n",
    "  of the vectors. If normed=False, the division by N is omitted.\n",
    "  '''\n",
    "  # Get the list of shared_items\n",
    "  si={}\n",
    "  commons=0\n",
    "  for item in prefs[person1]: \n",
    "    if prefs[person1][item]==1 and prefs[person2][item]==1:   \n",
    "        commons+=1\n",
    "  #print commons\n",
    "  if not normed:\n",
    "      return commons\n",
    "  else:\n",
    "      return commons*1.0/len(prefs[person1]) "
   ]
  },
  {
   "cell_type": "markdown",
   "metadata": {},
   "source": [
    "**Aufgabe:**\n",
    "1. Geben Sie die euklidische Ähnlichkeit und die Pearson Ähnlichkeit zwischen den Personen _Toby_ und _Lisa Rose_ aus.\n",
    "2. Diskutieren Sie die unterschiedlichen Ähnlichkeitswert."
   ]
  },
  {
   "cell_type": "code",
   "execution_count": 237,
   "metadata": {},
   "outputs": [
    {
     "name": "stdout",
     "output_type": "stream",
     "text": [
      "Euklidische Aehnlichkeit:  0.615911621788925\n",
      "Pearson Aehnlichkeit:  0.9912407071619302\n"
     ]
    }
   ],
   "source": [
    "# 1. Aufgabe\n",
    "\n",
    "print('Euklidische Aehnlichkeit: ', sim_euclid(critics,'Lisa Rose','Toby'))\n",
    "print('Pearson Aehnlichkeit: ', sim_pearson(critics,'Lisa Rose','Toby'))"
   ]
  },
  {
   "cell_type": "markdown",
   "metadata": {},
   "source": [
    "__Aufgabe:__\n",
    "0. Schreiben Sie eine Funktion _topMatches(prefs,person,similarity)_, welche für eine beliebige in _critics_ enthaltene Person die Ähnlichkeitswerte zu allen anderen Personen berechnet und in einer geordneten Liste zurück gibt. Der Funktion soll als Übergabeparameter auch die anzuwendende Ähnlichkeitsfunktion (*sim_euclid* oder *sim_pearson*) übergeben werden können. Berechnen Sie mit dieser Funktion für jede Person die *top matches*, zunächst unter Verwendung der euklidischen- dann unter Verwendung der Pearson-Ähnlichkeit.\n",
    "1. Geben Sie mit der implementierten Funktion die *top matches* der Person Toby aus.\n",
    "2. Vergleichen Sie die beiden Ähnlichkeitsmaße. Welches Ähnlichkeitsmaß erscheint Ihnen für diesen Anwendungsfall sinnvoller und warum?"
   ]
  },
  {
   "cell_type": "code",
   "execution_count": 238,
   "metadata": {},
   "outputs": [],
   "source": [
    "# 0. Aufgabe\n",
    "\n",
    "def topMatches(prefs,person,similarity):\n",
    "\n",
    "    top_matches = []\n",
    "    \n",
    "    if similarity == 'sim_euclid':\n",
    "        for p in prefs:\n",
    "            if p != person:\n",
    "                top_matches.append([sim_euclid(prefs,person,p),p])    \n",
    "            top_matches.sort(reverse=True)\n",
    "        return top_matches\n",
    "  \n",
    "    elif similarity == 'sim_pearson':\n",
    "        for p in prefs:\n",
    "            if p != person:\n",
    "                top_matches.append([sim_pearson(prefs,person,p),p])   \n",
    "            top_matches.sort(reverse=True)\n",
    "        return top_matches\n",
    "\n",
    "    else:\n",
    "        return \"The given similarity was not correct use 'sim_euclid' or 'sim_pearson'\""
   ]
  },
  {
   "cell_type": "code",
   "execution_count": 239,
   "metadata": {},
   "outputs": [],
   "source": [
    "# Top matches of all persons\n",
    "\n",
    "top_matches_euclid = []\n",
    "top_matches_pearson = []\n",
    "\n",
    "for name in critics:\n",
    "    top_matches_euclid.append([name,topMatches(critics, name, 'sim_euclid')])\n",
    "    top_matches_pearson.append([name,topMatches(critics, name, 'sim_pearson')])"
   ]
  },
  {
   "cell_type": "code",
   "execution_count": 240,
   "metadata": {},
   "outputs": [
    {
     "name": "stdout",
     "output_type": "stream",
     "text": [
      "[[0.6666666666666666, 'Mick LaSalle'], [0.6246387977050463, 'Claudia Puig'], [0.615911621788925, 'Lisa Rose'], [0.5584815598877471, 'Michael Phillips'], [0.5227744249483389, 'Jack Matthews'], [0.5108747069239427, 'Gene Seymour']]\n",
      "[[0.9912407071619302, 'Lisa Rose'], [0.9244734516419051, 'Mick LaSalle'], [0.8934051474415642, 'Claudia Puig'], [0.6628489803598703, 'Jack Matthews'], [0.3812464258315117, 'Gene Seymour'], [-1.0, 'Michael Phillips']]\n"
     ]
    }
   ],
   "source": [
    "# 1. Aufgabe\n",
    "\n",
    "print(topMatches(critics, 'Toby', 'sim_euclid'))\n",
    "print(topMatches(critics, 'Toby', 'sim_pearson'))"
   ]
  },
  {
   "cell_type": "markdown",
   "metadata": {},
   "source": [
    "### Berechnung von Empfehlungen mit User basiertem Collaborative Filtering\n",
    "Für die Produkte, die von einer Person noch nicht gekauft wurden, sollen Empfehlungen berechnet werden. Die Empfehlungen können ebenfalls Werte zwischen 1 (wird nicht empfohlen) und 5 (wird stark empfohlen) annehmen. Für die Berechnung der Empfehlung werden die Bewertungen des jeweiligen Produkts durch die anderen Personen herangezogen. Dabei werden die Bewertungen der ähnlichen Personen (d.h. hoher Pearson-Korrelationswert) stärker mit einbezogen als die Bewertungen durch Personen mit einem niedrigen Korrelationswert.\n",
    "\n",
    "__Beispiel:__\n",
    "Toby hat die Filme _The Night Listener_, _Lady in the Water_ und _Just My Luck_ noch nicht gekauft. Für diese Filme soll für Toby eine Empfehlung berechnet werden.\n",
    "In der unten aufgeführten Tabelle enthält die zweite Spalte die _Pearson-Ähnlichkeitswerte_ zwischen Toby und den anderen Personen. Die Spalten 3, 5 und 7 enthalten die Bewertungen der Filme _The Night Listener_, _Lady in the Water_ und _Just My Luck_ durch die anderen Personen. Die Spalten 4, 6 und 8 enthalten die jeweilige Filmbewertung gewichtet (mulipliziert) mit den Ähnlichkeitswerten der jeweiligen Person. Es fällt auf, dass in der Tabelle _Michael_ nicht enthalten ist. Das liegt daran, dass _Michael_ und _Toby_ einen negativen Ähnlichkeitswert aufweisen, d.h. deren Interessen sind gegenläufig. Personen mit negativem Ähnlichkeitswert sollten für Empfehlungen nicht berücksichtigt werden.\n",
    "Die Zeile _Sum_ enthält die Summe aller gewichteten Bewertungen. Aus diesem Wert allein kann die Empfehlung noch nicht abgeleitet werden, da Filme die nur von wenigen Personen bewertet wurden, eine relativ kleine Summe ergeben. Deshalb sollte _Sum_ noch durch die Anzahl der Bewertungen für diesen Film geteilt werden. Oder besser: Nicht durch die Summe der Bewertungen, sondern durch die Summe der relevanten Ähnlichkeitswerte (_KSum_). Der resultierende Empfehlungswert ist in der letzten Zeile eingetragen.\n",
    "\n",
    "\n",
    "![Abbildung Calculate Recommendation](https://www.hdm-stuttgart.de/~maucher/ipnotebooks/DataMining/Bilder/recommenderFilmCalculation.PNG)\n"
   ]
  },
  {
   "cell_type": "markdown",
   "metadata": {},
   "source": [
    "__Aufgabe:__\n",
    "Schreiben Sie eine Funktion _getRecommendations(prefs,person,similarity)_, mit der die Empfehlungswerte berechnet werden können und bestimmen Sie die Empfehlungswerte für Toby. Der Funktion wird  \n",
    "\n",
    "* das Dictionary _critics_ mit den Filmbewertungen, \n",
    "* der Name der Person, für welche Empfehlungen berechnet werden sollen\n",
    "* die Methode für die Berechnung der Ähnlichkeit *sim_euclid* oder *sim_pearson*\n",
    "\n",
    "übergeben. Die Methode soll eine geordnete Liste zurück geben. Jedes Listenelement enthält an erster Stelle den berechneten Empfehlungswert und an zweiter Stelle den Namen des Films. Die Liste soll nach Empfehlungswerten absteigend geordnet sein.\n",
    "\n",
    "Testen Sie diese Funktion indem Sie die Empfehlungen für _Toby_ berechnen und mit den Werten in der oben aufgeführten Tabelle vergleichen."
   ]
  },
  {
   "cell_type": "code",
   "execution_count": 241,
   "metadata": {},
   "outputs": [],
   "source": [
    "import numpy as np\n",
    "import scipy.spatial.distance as sci"
   ]
  },
  {
   "cell_type": "code",
   "execution_count": 242,
   "metadata": {},
   "outputs": [],
   "source": [
    "def topMatches(prefs, person, similarity):\n",
    "    matches = []\n",
    "    for p in prefs:\n",
    "        if p != person:\n",
    "            matches.append((p, similarity(prefs, person, p)))\n",
    "            \n",
    "    matches.sort(key=lambda tup: tup[1], reverse=True)\n",
    "    return matches"
   ]
  },
  {
   "cell_type": "code",
   "execution_count": 243,
   "metadata": {},
   "outputs": [],
   "source": [
    "import numpy as np\n",
    "import scipy.spatial.distance as sci"
   ]
  },
  {
   "cell_type": "code",
   "execution_count": 244,
   "metadata": {},
   "outputs": [
    {
     "data": {
      "text/plain": [
       "[('Lisa Rose', 0.9912407071619302),\n",
       " ('Mick LaSalle', 0.9244734516419051),\n",
       " ('Claudia Puig', 0.8934051474415642),\n",
       " ('Jack Matthews', 0.6628489803598703),\n",
       " ('Gene Seymour', 0.3812464258315117),\n",
       " ('Michael Phillips', -1.0)]"
      ]
     },
     "execution_count": 244,
     "metadata": {},
     "output_type": "execute_result"
    }
   ],
   "source": [
    "topMatches(critics, \"Toby\", sim_pearson)"
   ]
  },
  {
   "cell_type": "code",
   "execution_count": 245,
   "metadata": {},
   "outputs": [
    {
     "data": {
      "text/plain": [
       "[(3.3477895267131013, 'The Night Listener'),\n",
       " (2.8325499182641622, 'Lady in the Water'),\n",
       " (2.5309807037655645, 'Just My Luck')]"
      ]
     },
     "execution_count": 245,
     "metadata": {},
     "output_type": "execute_result"
    }
   ],
   "source": [
    "def getRecommendations(prefs, person, similarity):\n",
    "    recommendations = []\n",
    "    korrelation = topMatches(prefs,person,similarity)\n",
    "    #Alle Filme in eine Liste schreiben\n",
    "    filmList = []\n",
    "    for i in prefs:\n",
    "        for f in prefs[i]:\n",
    "            if f not in filmList:\n",
    "                filmList.append(f)\n",
    "    #schon bewertete Filme entfernen\n",
    "    for k,v in prefs[person].items():\n",
    "        if v>0:\n",
    "            filmList.remove(k)\n",
    "    \n",
    "    for film in filmList:\n",
    "        sumRating = 0\n",
    "        sumKorr = 0\n",
    "        \n",
    "        for person in korrelation:\n",
    "            if person[1] >=0:\n",
    "                #print(person)\n",
    "                if film in list(prefs[person[0]]):\n",
    "                    sumRating += person[1]*prefs[person[0]][film]\n",
    "                    sumKorr += person[1]\n",
    "        \n",
    "        recommendations.append((sumRating/sumKorr,film))\n",
    "    recommendations.sort(reverse=True)\n",
    "    return recommendations\n",
    "getRecommendations(critics,\"Toby\",sim_pearson)"
   ]
  },
  {
   "cell_type": "markdown",
   "metadata": {},
   "source": [
    "### Berechnung von Empfehlungen mit Item basiertem Collaborative Filtering\n",
    "In den vorigen Aufgaben wurden Ähnlichkeiten zwischen Personen bestimmt und für Produktempfehlungen benutzt (User basiertes Collaborative Filtering). Jetzt soll die Ähnlichkeit zwischen Produkten berechnet werden und auf der Basis dieser Produktähnlichkeit Empfehlungen berechnet werden (Item basiertes Collaborative Filtering).\n",
    "\n",
    "Dabei sollen die bereits implementierten Ähnlichkeitsfunktion *sim_euclid* und *sim_pearson* sowie die Ähnlichkeeits-Sortierfunktion *topMatches* unverändert eingesetzt werden.\n",
    "\n",
    "__Aufgabe:__\n",
    "\n",
    "1. Implementieren Sie eine Funktion, welche das Bewertungsdictionary *critics* derart transformiert, dass die Funktionen *sim_euclid*, *sim_pearson* und *topMatches* für das Item-basierte CF unverändert eingesetzt werden können. Die transformierte Matrix soll unter dem Namen *transCritics* abgespeichert werden.\n",
    "2. Schreiben Sie eine Funktion *calculateSimilarItems*, die aus der transformierten Matrix *transCritics* ein Dictionary berechnet, welches die Ähnlichkeit zwischen allen Filmen beschreibt. Die Keys des Dictionary sind die Filmnamen. Die Values sind geordnete Listen, welche die Funktion *topMatches* zurückgibt, wenn sie für die Filme (nicht für die User) aufgerufen wird. Dieses Dictionary wird an das aufrufende Programm zurück geben. \n",
    "3. Schreiben Sie eine Funktion *getRecommendedItems*, welche basierend auf dem im unten aufgeführten Beispiel dargestellten Verfahren unter Vorgabe der Bewertungsmatrix und der zu verwendenden Ähnlichkeitsfunktion Produktempfehlungen berechnet.\n",
    "4. Testen Sie die Funktion indem Sie die Empfehlungen für Toby berechnen und mit den Werten in der unten aufgeführten Tabelle vergleichen\n",
    "\n",
    "__Erläuterndes Beispiel:__\n",
    "\n",
    "_Toby_ hat die Filme *The Night Listener*, *Lady in the Water* und *Just My Luck* noch nicht gekauft. Für diese Filme soll für *Toby* eine Empfehlung berechnet werden. Gekauft und bewertet hat *Toby* die Filme *Snakes on a plane*, *Superman Returns* und *You and me and Dupree*. Diese bereits vorhandenen Filme bilden die erste Spalte der unten dargestellten Matrix. In der zweiten Spalte befinden sich _Toby's_ Bewertungen dieser Filme. Die Spalten 3,5 und 7 enthalten die Ähnlichkeitswerte (mit *calculateSimilarItems* unter Verwendung des normierten euklidischen Ähnlichkeitsmaßes berechnet) zwischen den drei von *Toby* noch nicht gekauften Filmen und den drei von _Toby_ bewerteten Filmen. Diese Ähnlichkeitswerte werden jeweils mit _Toby's_ Bewertungen multipliziert. Das Resultat dieser Multiplikation befindet sich in den Spalten 4,6 und 8. Der finale Empfehlungswert für die von _Toby_ noch nicht gekauften Filme wird berechnet in dem in den Spalten 4,6 und 8 zunächst die Summe über die Werte dieser Spalte in den drei oberen Zeilen berechnet wird und durch die Summe über die Werte der Spalten 3,5 und 7 geteilt wird. Im Fall, dass die *Pearson-Korrelation* zwischen den Filmen als Ähnlichkeitswert herangezogen wird, können negative Ähnlichkeitswerte auftreten. Dann soll in die Berechnung eines Empfehlungswert für Film A nur dann die Bewertung von Film B einfließen, wenn der Korrelationswert zwischen beiden $>0$ ist.  \n",
    "\n",
    "![Abbildung Calculate Itembased Recommendation](https://www.hdm-stuttgart.de/~maucher/ipnotebooks/DataMining/Bilder/recommenderFilmItemBased.PNG)"
   ]
  },
  {
   "cell_type": "code",
   "execution_count": 246,
   "metadata": {},
   "outputs": [],
   "source": [
    "#Your Code"
   ]
  },
  {
   "cell_type": "markdown",
   "metadata": {},
   "source": [
    "## last.fm Musikempfehlungen\n",
    "Kopieren Sie die Datei _pylast.py_ vom _Resources_-Ordner im _DataMining_-Ordner des Skripteservers in das Verzeichnis dieses _IPython Notebooks_. In dieser Datei sind alle Zugriffsfunktionen auf _last.fm_ Dienste implementiert. Die notwendigen Anmelde- und Authentifizierungsdaten für den User _pythonlab_ sind ebenfalls schon in diesem Modul eingetragen.\n",
    "\n",
    "__Aufgabe:__\n",
    "\n",
    "1. Stellen Sie durch Aufruf der Funktion *network=pylast.get_lastfm_network()* eine Verbindung zu *last.fm* her. Beim Aufruf der Funktion wird die Anmeldung und Authentifizierung durchgeführt. Die Funktion gibt ein Objekt der Klasse *Network* zurück. Über dieses Objekt können Methoden, wie\n",
    "\n",
    "    * *get_artist(\"kuenstlerName\")* (liefert Objekt der Klasse _Artist_)\n",
    "    * *get_album(\"albumName\")* (liefert Objekt der Klasse _Album_)\n",
    "    * *get_track(\"songName\")* (liefert Objekt der Klasse _Track_)\n",
    "    * *get_user(\"userName\"):* (liefert Objekt der Klass_Tag_)\n",
    "    * usw.\n",
    "    \n",
    "      aufgerufen werden. Die Menge aller verfügbaren Klassen und deren Attribute und Methoden können dem Modul _pylast.py_ entnommen werden.\n",
    "\n",
    "1. Rufen Sie über das oben instanziierte _Network_-Objekt die Methode *get_artist(\"BandIhrerWahl\")* auf.\n",
    "2. Rufen Sie über das oben instanziierte _Artist_-Objekt die Methode *topfans=get_top_fans(10)* auf. Die Methode gibt eine Liste von _User_-Objekt/Gewichtung-Paaren zurück. Die Gewichtungen von Objekten werden in diesem Versuch nicht benötigt. Legen Sie deshalb mit _group=[a.item for a in topfan]_ eine Liste an, die nur noch die User Objekte enthält. **Wichtige Anmerkung:** Seit August 2015 gibt es Probleme mit der lastFM API Methode *get_top_fans()* (siehe auch: [pylast issues](https://github.com/pylast/pylast/issues/155s)). Falls am Versuchstermin der Fehler noch nicht behoben ist, können Sie den unten stehenden Code benutzen. Darin wird versucht auf die API-Methode zuzugreifen. Falls das nicht möglich ist, wird eine vordefinierte Liste von Usern angewandt. Diese Liste repräsentiert die *Top Fans* der Band *Slipknot* im Frühjahr 2015. \n",
    "3. Implementieren Sie eine Funktion *createLastfmUserDict()*. Dieser Funktion soll, die oben angelegte Liste von _User_-Objekten _group_ übergeben werden. Für jeden User in *group* sollen die 20 beliebtesten Bands mit der Methode *topartists=get_top_artists()[0:20]* bestimmt werden. Die Methode gibt eine Liste von *Artist*-Objekt/Gewichtung-Paaren zurück. Die Gewichtungen von Objekten werden in diesem Versuch nicht benötigt. Auf das *i.te* *Artist*-Objekt selbst kann mit *topartists[i].item* zugegriffen werden. Die Menge aller Bands, die auf diese Weise gesammelt werden, wird im folgenden mit _AllBands_ bezeichnet. D.h. in *AllBands* befinden sich alle Bands, die für mindestens einen User in *group* zu den Top-20 gehören. Nun soll ein verschachteltes Dictionary mit Namen *userDict* wie folgt angelegt werden:\n",
    "\n",
    "    * Die Keys sind die Namen der _User_-Objekte in _group_. Auf den Namen eines Objekts kann mit *get_name()* zugegriffen werden.\n",
    "    * Die Values sind selbst wieder Dictionaries, deren Keys die Namen der Bands in *AllBands* sind. Achten Sie auch hier darauf, dass Sie nicht das *Artist*-Objekt selbst, sondern dessen Namen als Key verwenden. \n",
    "    * Für den User *a* und die Band *b* ist der Value *userDict[a][b]= 1*, falls *b* zu den Top-20 des Users *a* gehört. Andernfalls ist *userDict[a][b]= 0*. \n",
    "    \n",
    "    Das derart angelegte Dictionary soll von der Funktion zurückgegeben werden. \n",
    "4. Wählen Sie jetzt einen beliebigen User aus *group*. Bestimmen Sie zu diesem User die ähnlichsten User in *group* durch Anwendung der im ersten Teilversuch implementierten Funktion *topMatches()*. Der Funktion wird das angelegte *userDict* und der Name des gewählten Users übergeben. Als Ähnlichkeitsmaß soll die euklidische Metrik angewandt werden.\n",
    "5. Bestimmen Sie dann für den gewählten User Band-Empfehlungen durch Anwendung der im ersten Teilversuch implementierten Funktion *getRecommendations()*. Der Funktion wird das angelegte *userDict* und der Name des gewählten Users übergeben. Als Ähnlichkeitsmaß soll die euklidische Metrik, danach die Russel_Rao Metrik, angewandt werden.     \n",
    "6. Diskutieren Sie das Ergebnis"
   ]
  },
  {
   "cell_type": "code",
   "execution_count": 247,
   "metadata": {},
   "outputs": [],
   "source": [
    "import pylast\n",
    "import logging"
   ]
  },
  {
   "cell_type": "code",
   "execution_count": 248,
   "metadata": {},
   "outputs": [],
   "source": [
    "# API key and secret key\n",
    "API_KEY = \"a20050eb12e8982389a48771106c098b\"\n",
    "API_SECRET = \"bef41ac107fae73ad2ee71b7e6fff10a\"\n",
    "# Authentication order to perform a write operation \n",
    "username = \"pythonlabhdm\"\n",
    "password_hash = pylast.md5(\"pythonlabhdm123#\")"
   ]
  },
  {
   "cell_type": "code",
   "execution_count": 249,
   "metadata": {},
   "outputs": [],
   "source": [
    "# # For testing purpose\n",
    "# # API key and secret key\n",
    "# API_KEY = \"c49f26f7f9f2d9a659f49c53209eda54\"\n",
    "# API_SECRET = \"5b2b34241c58a5622a86f4c3e9bc3d0a\"\n",
    "# # Authentication order to perform a write operation \n",
    "# username = \"pythonlabhdm\"\n",
    "# password_hash = pylast.md5(\"pythonlabhdm123#\")"
   ]
  },
  {
   "cell_type": "code",
   "execution_count": 250,
   "metadata": {},
   "outputs": [],
   "source": [
    "# 1. Aufgabe\n",
    "\n",
    "# Connect to last.fm API\n",
    "network = pylast.LastFMNetwork(api_key=API_KEY, api_secret=API_SECRET,\n",
    "                               username=username, password_hash=password_hash)"
   ]
  },
  {
   "cell_type": "code",
   "execution_count": 251,
   "metadata": {},
   "outputs": [
    {
     "name": "stdout",
     "output_type": "stream",
     "text": [
      "Most similar (as calculated by lastFM) for artist: Slipknot\n"
     ]
    }
   ],
   "source": [
    "# 2. Aufgabe\n",
    "# Keyword to search for\n",
    "band = \"Slipknot\"\n",
    "\n",
    "# Retrieve artist object from network\n",
    "artist = network.get_artist(band)\n",
    "print(\"Most similar (as calculated by lastFM) for artist: {}\".format(artist))   \n"
   ]
  },
  {
   "cell_type": "code",
   "execution_count": 252,
   "metadata": {},
   "outputs": [],
   "source": [
    "# 3. Aufgabe\n",
    "# Retrieve data of top fans - hint the top_fans endpoint got removed at the last.fm API\n",
    "# In this case a dummy list with users from Slipknot in 2015 are used\n",
    "\n",
    "usernames=['BrunoJoS','DPREBOYE','MPistol40','NemoNightfall','SkyRif','Wags1382','Znapsen','cortapsyco','emill_67','sattuviitana']\n",
    "group=[]\n",
    "\n",
    "# Gemerate group of users\n",
    "for user in usernames:\n",
    "        u = network.get_user(user)\n",
    "        group.append(u)"
   ]
  },
  {
   "cell_type": "code",
   "execution_count": 253,
   "metadata": {},
   "outputs": [],
   "source": [
    "# 4. Aufgabe\n",
    "\n",
    "\"\"\" \n",
    "def createLastfmUserDict creates a UserDict dictionary with all users\n",
    "and their top twenty artists with additional value 0 or 1.\n",
    "\"\"\"\n",
    "def createLastfmUserDict(usergroup):\n",
    "    userDict = {}\n",
    "    allbands = []\n",
    "    # iterate through all users\n",
    "    for user in usergroup:\n",
    "        bands = []\n",
    "        # api call to fetch twenty most pop artists\n",
    "        topartists = user.get_top_artists()[:20]                \n",
    "        # filter all unique bands\n",
    "        for i in range(len(topartists)):\n",
    "            if topartists[i] in allbands:\n",
    "                pass\n",
    "            else:\n",
    "                allbands.append(topartists[i].item)\n",
    "                bands.append(topartists[i].item.get_name())\n",
    "        # store user values in nested dict\n",
    "        userDict[user.get_name()] = bands\n",
    "    \n",
    "    # fill user dictionary\n",
    "    for user, bands in userDict.items():\n",
    "        banddict = {}\n",
    "        # iterate through all bands\n",
    "        for i in range(len(allbands)):\n",
    "            # check if bandname fits\n",
    "            if allbands[i].get_name() in bands:\n",
    "                banddict[allbands[i].get_name()] = 1\n",
    "            else:\n",
    "                banddict[allbands[i].get_name()] = 0                \n",
    "        userDict[user] = banddict\n",
    "    return userDict    "
   ]
  },
  {
   "cell_type": "code",
   "execution_count": 254,
   "metadata": {
    "scrolled": false
   },
   "outputs": [],
   "source": [
    "userDict = createLastfmUserDict(group) "
   ]
  },
  {
   "cell_type": "code",
   "execution_count": 259,
   "metadata": {},
   "outputs": [
    {
     "name": "stdout",
     "output_type": "stream",
     "text": [
      "Most similar users to NemoNightfall are: \n",
      "[('BrunoJoS', 0.9661433761058489), ('SkyRif', 0.9649966597060822), ('MPistol40', 0.9628201459954477), ('sattuviitana', 0.9628201459954477), ('Znapsen', 0.9617834394904459), ('cortapsyco', 0.9617834394904459), ('emill_67', 0.9617834394904459), ('DPREBOYE', 0.9607772914620958), ('Wags1382', 0.9607772914620958)]\n"
     ]
    }
   ],
   "source": [
    "# 5. Aufgabe\n",
    "\n",
    "# picked the user 'NemoNightfall'\n",
    "user = 'NemoNightfall'\n",
    "# Calculate the most similar users to 'user'\n",
    "similarityList = topMatches(userDict, user, sim_euclid)\n",
    "print('Most similar users to {} are: \\n{}'.format(user, similarityList))"
   ]
  },
  {
   "cell_type": "code",
   "execution_count": 272,
   "metadata": {},
   "outputs": [
    {
     "name": "stdout",
     "output_type": "stream",
     "text": [
      "('Recommendet songs for NemoNightfall are: \\n'\n",
      " \"[(0.5556762166812153, 'Korn'), (0.444427219455934, 'Rage Against the \"\n",
      " \"Machine'), (0.3336625102501815, 'Rammstein'), (0.33353015128636526, 'Red Hot \"\n",
      " \"Chili Peppers'), (0.33353015128636526, 'Metallica'), (0.2225296469796473, \"\n",
      " \"'Muse'), (0.2225296469796473, 'Foo Fighters'), (0.22251694916204953, \"\n",
      " \"'Sabaton'), (0.22241351302490028, 'Arctic Monkeys'), (0.22239728801583106, \"\n",
      " \"'Lamb of God'), (0.22226572654106844, 'In Flames'), (0.22214606539484996, \"\n",
      " \"'Pendulum'), (0.22214606539484996, 'Limp Bizkit'), (0.22214606539484996, \"\n",
      " \"'Avenged Sevenfold'), (0.22202640424863151, 'Pink Floyd'), \"\n",
      " \"(0.2219102702938845, 'Coheed and Cambria'), (0.11151644485533155, 'The \"\n",
      " \"Killers'), (0.11151644485533155, 'Sum 41'), (0.11151644485533155, \"\n",
      " \"'Radiohead'), (0.11151644485533155, 'Queens of the Stone Age'), \"\n",
      " \"(0.11151644485533155, 'Pitty'), (0.11151644485533155, 'Madonna'), \"\n",
      " \"(0.11151644485533155, 'M.I.A.'), (0.11151644485533155, 'Lady Gaga'), \"\n",
      " \"(0.11151644485533155, 'Green Day'), (0.11151644485533155, 'Coldplay'), \"\n",
      " \"(0.11138408589151531, 'Wintersun'), (0.11138408589151531, 'Tenacious D'), \"\n",
      " \"(0.11138408589151531, 'Powerwolf'), (0.11138408589151531, 'Pentakill'), \"\n",
      " \"(0.11138408589151531, 'Howard Shore'), (0.11138408589151531, 'Hans Zimmer'), \"\n",
      " \"(0.11138408589151531, 'DragonForce'), (0.11138408589151531, 'Arch Enemy'), \"\n",
      " \"(0.11138408589151531, 'Amon Amarth'), (0.11113286327053422, 'Volbeat'), \"\n",
      " \"(0.11113286327053422, 'Turmion Kätilöt'), (0.11113286327053422, 'Tool'), \"\n",
      " \"(0.11113286327053422, 'Team Sleep'), (0.11113286327053422, 'Stam1na'), \"\n",
      " \"(0.11113286327053422, 'Soulfly'), (0.11113286327053422, 'Sonata Arctica'), \"\n",
      " \"(0.11113286327053422, 'Soilwork'), (0.11113286327053422, 'Scar Symmetry'), \"\n",
      " \"(0.11113286327053422, 'Queen'), (0.11113286327053422, 'Nine Inch Nails'), \"\n",
      " \"(0.11113286327053422, 'Nightwish'), (0.11113286327053422, 'Lindemann'), \"\n",
      " \"(0.11113286327053422, 'Leevi and the Leavings'), (0.11113286327053422, \"\n",
      " \"'Klamydia'), (0.11113286327053422, 'Dmitri Shostakovich'), \"\n",
      " \"(0.11113286327053422, 'Deftones'), (0.11113286327053422, 'Dark \"\n",
      " \"Tranquillity'), (0.11113286327053422, 'Children of Bodom'), \"\n",
      " \"(0.11113286327053422, 'Amorphis'), (0.11113286327053422, 'A Perfect \"\n",
      " \"Circle'), (0.11113286327053422, '36 Crazyfists'), (0.11101320212431576, \"\n",
      " \"'deadmau5'), (0.11101320212431576, 'White Zombie'), (0.11101320212431576, \"\n",
      " \"'Ween'), (0.11101320212431576, 'Theory of a Deadman'), (0.11101320212431576, \"\n",
      " \"'Shinedown'), (0.11101320212431576, 'Seether'), (0.11101320212431576, 'Rob \"\n",
      " \"Zombie'), (0.11101320212431576, 'Pantera'), (0.11101320212431576, 'Panic! at \"\n",
      " \"the Disco'), (0.11101320212431576, 'P.D.P.'), (0.11101320212431576, 'Nobuo \"\n",
      " \"Uematsu'), (0.11101320212431576, 'Mustasch'), (0.11101320212431576, 'Marina \"\n",
      " \"and the Diamonds'), (0.11101320212431576, 'Magnus Uggla'), \"\n",
      " \"(0.11101320212431576, 'Machine Head'), (0.11101320212431576, 'Lacuna Coil'), \"\n",
      " \"(0.11101320212431576, 'Krewella'), (0.11101320212431576, 'Killswitch \"\n",
      " \"Engage'), (0.11101320212431576, 'Ke$ha'), (0.11101320212431576, 'Katy \"\n",
      " \"Perry'), (0.11101320212431576, 'Iron Maiden'), (0.11101320212431576, \"\n",
      " \"'Halestorm'), (0.11101320212431576, 'Gyllene Tider'), (0.11101320212431576, \"\n",
      " \"'Godsmack'), (0.11101320212431576, 'Freestyle'), (0.11101320212431576, 'Flo \"\n",
      " \"Rida'), (0.11101320212431576, 'Evanescence'), (0.11101320212431576, 'Epic \"\n",
      " \"Rap Battles Of History'), (0.11101320212431576, 'Electric Light Orchestra'), \"\n",
      " \"(0.11101320212431576, 'Dope'), (0.11101320212431576, 'Disturbed'), \"\n",
      " \"(0.11101320212431576, 'Dimmu Borgir'), (0.11101320212431576, 'Demon \"\n",
      " \"Hunter'), (0.11101320212431576, 'Cradle of Filth'), (0.11101320212431576, \"\n",
      " \"'Calvin Harris'), (0.11101320212431576, 'Boston'), (0.11101320212431576, \"\n",
      " \"'Black Veil Brides'), (0.11101320212431576, 'Black Label Society'), \"\n",
      " \"(0.11101320212431576, 'Becoming the Archetype'), (0.11089706816956874, \"\n",
      " \"'blink-182'), (0.11089706816956874, 'Wu-Tang Clan'), (0.11089706816956874, \"\n",
      " \"'Warpaint'), (0.11089706816956874, 'The Wonder Years'), \"\n",
      " \"(0.11089706816956874, 'The White Stripes'), (0.11089706816956874, 'The Dear \"\n",
      " \"Hunter'), (0.11089706816956874, 'The Band'), (0.11089706816956874, \"\n",
      " \"'Saosin'), (0.11089706816956874, 'Parkway Drive'), (0.11089706816956874, \"\n",
      " \"'Nirvana'), (0.11089706816956874, 'New Found Glory'), (0.11089706816956874, \"\n",
      " \"'N.W.A'), (0.11089706816956874, 'My Chemical Romance'), \"\n",
      " \"(0.11089706816956874, 'Motion City Soundtrack'), (0.11089706816956874, \"\n",
      " \"'Mogwai'), (0.11089706816956874, 'Misfits'), (0.11089706816956874, 'James \"\n",
      " \"Blake'), (0.11089706816956874, 'Hozier'), (0.11089706816956874, 'Gallows'), \"\n",
      " \"(0.11089706816956874, 'Four Year Strong'), (0.11089706816956874, 'Fall Out \"\n",
      " \"Boy'), (0.11089706816956874, 'Evergreen Terrace'), (0.11089706816956874, \"\n",
      " \"'Energy'), (0.11089706816956874, 'Dr. Dre'), (0.11089706816956874, 'Die \"\n",
      " \"Antwoord'), (0.11089706816956874, 'Daughter'), (0.11089706816956874, 'Damien \"\n",
      " \"Rice'), (0.11089706816956874, 'DIR EN GREY'), (0.11089706816956874, 'Cruel \"\n",
      " \"Hand'), (0.11089706816956874, 'Circa Survive'), (0.11089706816956874, 'Cat \"\n",
      " \"Power'), (0.11089706816956874, 'Beach House'), (0.11089706816956874, \"\n",
      " \"'Bayside'), (0.11089706816956874, 'Atoms for Peace'), (0.11089706816956874, \"\n",
      " \"'AFI')]\")\n",
      "('Recommendet songs for NemoNightfall are: \\n'\n",
      " \"[(0.5999999999999998, 'Korn'), (0.4399999999999999, 'Rage Against the \"\n",
      " \"Machine'), (0.4399999999999998, 'Rammstein'), (0.39999999999999986, 'Red Hot \"\n",
      " \"Chili Peppers'), (0.39999999999999986, 'Metallica'), (0.3199999999999999, \"\n",
      " \"'Sabaton'), (0.31999999999999984, 'Muse'), (0.31999999999999984, 'Foo \"\n",
      " \"Fighters'), (0.2799999999999999, 'Lamb of God'), (0.2799999999999999, \"\n",
      " \"'Arctic Monkeys'), (0.2399999999999999, 'The Killers'), (0.2399999999999999, \"\n",
      " \"'Sum 41'), (0.2399999999999999, 'Radiohead'), (0.2399999999999999, 'Queens \"\n",
      " \"of the Stone Age'), (0.2399999999999999, 'Pitty'), (0.2399999999999999, \"\n",
      " \"'Madonna'), (0.2399999999999999, 'M.I.A.'), (0.2399999999999999, 'Lady \"\n",
      " \"Gaga'), (0.2399999999999999, 'In Flames'), (0.2399999999999999, 'Green \"\n",
      " \"Day'), (0.2399999999999999, 'Coldplay'), (0.19999999999999993, 'Wintersun'), \"\n",
      " \"(0.19999999999999993, 'Tenacious D'), (0.19999999999999993, 'Powerwolf'), \"\n",
      " \"(0.19999999999999993, 'Pentakill'), (0.19999999999999993, 'Pendulum'), \"\n",
      " \"(0.19999999999999993, 'Limp Bizkit'), (0.19999999999999993, 'Howard Shore'), \"\n",
      " \"(0.19999999999999993, 'Hans Zimmer'), (0.19999999999999993, 'DragonForce'), \"\n",
      " \"(0.19999999999999993, 'Avenged Sevenfold'), (0.19999999999999993, 'Arch \"\n",
      " \"Enemy'), (0.19999999999999993, 'Amon Amarth'), (0.15999999999999992, 'Pink \"\n",
      " \"Floyd'), (0.11999999999999995, 'Volbeat'), (0.11999999999999995, 'Turmion \"\n",
      " \"Kätilöt'), (0.11999999999999995, 'Tool'), (0.11999999999999995, 'Team \"\n",
      " \"Sleep'), (0.11999999999999995, 'Stam1na'), (0.11999999999999995, 'Soulfly'), \"\n",
      " \"(0.11999999999999995, 'Sonata Arctica'), (0.11999999999999995, 'Soilwork'), \"\n",
      " \"(0.11999999999999995, 'Scar Symmetry'), (0.11999999999999995, 'Queen'), \"\n",
      " \"(0.11999999999999995, 'Nine Inch Nails'), (0.11999999999999995, \"\n",
      " \"'Nightwish'), (0.11999999999999995, 'Lindemann'), (0.11999999999999995, \"\n",
      " \"'Leevi and the Leavings'), (0.11999999999999995, 'Klamydia'), \"\n",
      " \"(0.11999999999999995, 'Dmitri Shostakovich'), (0.11999999999999995, \"\n",
      " \"'Deftones'), (0.11999999999999995, 'Dark Tranquillity'), \"\n",
      " \"(0.11999999999999995, 'Coheed and Cambria'), (0.11999999999999995, 'Children \"\n",
      " \"of Bodom'), (0.11999999999999995, 'Amorphis'), (0.11999999999999995, 'A \"\n",
      " \"Perfect Circle'), (0.11999999999999995, '36 Crazyfists'), \"\n",
      " \"(0.07999999999999996, 'deadmau5'), (0.07999999999999996, 'White Zombie'), \"\n",
      " \"(0.07999999999999996, 'Ween'), (0.07999999999999996, 'Theory of a Deadman'), \"\n",
      " \"(0.07999999999999996, 'Shinedown'), (0.07999999999999996, 'Seether'), \"\n",
      " \"(0.07999999999999996, 'Rob Zombie'), (0.07999999999999996, 'Pantera'), \"\n",
      " \"(0.07999999999999996, 'Panic! at the Disco'), (0.07999999999999996, \"\n",
      " \"'P.D.P.'), (0.07999999999999996, 'Nobuo Uematsu'), (0.07999999999999996, \"\n",
      " \"'Mustasch'), (0.07999999999999996, 'Marina and the Diamonds'), \"\n",
      " \"(0.07999999999999996, 'Magnus Uggla'), (0.07999999999999996, 'Machine \"\n",
      " \"Head'), (0.07999999999999996, 'Lacuna Coil'), (0.07999999999999996, \"\n",
      " \"'Krewella'), (0.07999999999999996, 'Killswitch Engage'), \"\n",
      " \"(0.07999999999999996, 'Ke$ha'), (0.07999999999999996, 'Katy Perry'), \"\n",
      " \"(0.07999999999999996, 'Iron Maiden'), (0.07999999999999996, 'Halestorm'), \"\n",
      " \"(0.07999999999999996, 'Gyllene Tider'), (0.07999999999999996, 'Godsmack'), \"\n",
      " \"(0.07999999999999996, 'Freestyle'), (0.07999999999999996, 'Flo Rida'), \"\n",
      " \"(0.07999999999999996, 'Evanescence'), (0.07999999999999996, 'Epic Rap \"\n",
      " \"Battles Of History'), (0.07999999999999996, 'Electric Light Orchestra'), \"\n",
      " \"(0.07999999999999996, 'Dope'), (0.07999999999999996, 'Disturbed'), \"\n",
      " \"(0.07999999999999996, 'Dimmu Borgir'), (0.07999999999999996, 'Demon \"\n",
      " \"Hunter'), (0.07999999999999996, 'Cradle of Filth'), (0.07999999999999996, \"\n",
      " \"'Calvin Harris'), (0.07999999999999996, 'Boston'), (0.07999999999999996, \"\n",
      " \"'Black Veil Brides'), (0.07999999999999996, 'Black Label Society'), \"\n",
      " \"(0.07999999999999996, 'Becoming the Archetype'), (0.03999999999999998, \"\n",
      " \"'blink-182'), (0.03999999999999998, 'Wu-Tang Clan'), (0.03999999999999998, \"\n",
      " \"'Warpaint'), (0.03999999999999998, 'The Wonder Years'), \"\n",
      " \"(0.03999999999999998, 'The White Stripes'), (0.03999999999999998, 'The Dear \"\n",
      " \"Hunter'), (0.03999999999999998, 'The Band'), (0.03999999999999998, \"\n",
      " \"'Saosin'), (0.03999999999999998, 'Parkway Drive'), (0.03999999999999998, \"\n",
      " \"'Nirvana'), (0.03999999999999998, 'New Found Glory'), (0.03999999999999998, \"\n",
      " \"'N.W.A'), (0.03999999999999998, 'My Chemical Romance'), \"\n",
      " \"(0.03999999999999998, 'Motion City Soundtrack'), (0.03999999999999998, \"\n",
      " \"'Mogwai'), (0.03999999999999998, 'Misfits'), (0.03999999999999998, 'James \"\n",
      " \"Blake'), (0.03999999999999998, 'Hozier'), (0.03999999999999998, 'Gallows'), \"\n",
      " \"(0.03999999999999998, 'Four Year Strong'), (0.03999999999999998, 'Fall Out \"\n",
      " \"Boy'), (0.03999999999999998, 'Evergreen Terrace'), (0.03999999999999998, \"\n",
      " \"'Energy'), (0.03999999999999998, 'Dr. Dre'), (0.03999999999999998, 'Die \"\n",
      " \"Antwoord'), (0.03999999999999998, 'Daughter'), (0.03999999999999998, 'Damien \"\n",
      " \"Rice'), (0.03999999999999998, 'DIR EN GREY'), (0.03999999999999998, 'Cruel \"\n",
      " \"Hand'), (0.03999999999999998, 'Circa Survive'), (0.03999999999999998, 'Cat \"\n",
      " \"Power'), (0.03999999999999998, 'Beach House'), (0.03999999999999998, \"\n",
      " \"'Bayside'), (0.03999999999999998, 'Atoms for Peace'), (0.03999999999999998, \"\n",
      " \"'AFI')]\")\n"
     ]
    }
   ],
   "source": [
    "# 6. Aufgabe\n",
    "\n",
    "# Song recommendations for the user\n",
    "songList1 = getRecommendations(userDict, user, sim_euclid)\n",
    "pp.pprint('Recommendet songs for {} are: \\n{}'.format(user, songDict1))\n",
    "songList2 = getRecommendations(userDict, user, sim_RusselRao)\n",
    "pp.pprint('Recommendet songs for {} are: \\n{}'.format(user, songDict2))"
   ]
  },
  {
   "cell_type": "code",
   "execution_count": 280,
   "metadata": {},
   "outputs": [
    {
     "data": {
      "image/png": "[encoded data removed]",
      "text/plain": [
       "<Figure size 432x288 with 1 Axes>"
      ]
     },
     "metadata": {
      "needs_background": "light"
     },
     "output_type": "display_data"
    }
   ],
   "source": [
    "import matplotlib.pyplot as plt\n",
    "\n",
    "fig, ax = plt.subplots()\n",
    "label = []\n",
    "value = []\n",
    "for song in songList1[0:10]:\n",
    "    label.append(song[0])\n",
    "    value.append(song[1])\n",
    "y_pos = np.arange(len(label))\n",
    "plt.title('Song Recommendation with Euclid')\n",
    "plt.ylabel('Similarity %')\n",
    "plt.xlabel('Label')\n",
    "\n",
    "plt.bar(y_pos, value, align='center', alpha=0.6, color='c')\n",
    "\n",
    "ax.set_xticks(range(len(value)))\n",
    "ax.set_xticklabels(value, rotation='vertical')\n",
    "plt.show()"
   ]
  },
  {
   "cell_type": "code",
   "execution_count": null,
   "metadata": {},
   "outputs": [],
   "source": []
  }
 ],
 "metadata": {
  "kernelspec": {
   "display_name": "Python 3",
   "language": "python",
   "name": "python3"
  },
  "language_info": {
   "codemirror_mode": {
    "name": "ipython",
    "version": 3
   },
   "file_extension": ".py",
   "mimetype": "text/x-python",
   "name": "python",
   "nbconvert_exporter": "python",
   "pygments_lexer": "ipython3",
   "version": "3.7.7"
  },
  "nav_menu": {},
  "toc": {
   "navigate_menu": true,
   "number_sections": true,
   "sideBar": true,
   "threshold": 6,
   "toc_cell": false,
   "toc_section_display": "block",
   "toc_window_display": true
  },
  "toc_position": {
   "height": "664px",
   "left": "0px",
   "right": "1209.67px",
   "top": "125.333px",
   "width": "212px"
  }
 },
 "nbformat": 4,
 "nbformat_minor": 1
}
