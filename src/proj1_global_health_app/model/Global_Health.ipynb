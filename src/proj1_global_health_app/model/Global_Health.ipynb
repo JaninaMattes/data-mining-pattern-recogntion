{
 "cells": [
  {
   "cell_type": "markdown",
   "metadata": {},
   "source": [
    "# Data Mining Analysis of Global Healthdata\n",
    "\n",
    "* Autor: Janina Alica Mattes\n",
    "* Date: 05.05.2020\n"
   ]
  },
  {
   "cell_type": "code",
   "execution_count": null,
   "metadata": {},
   "outputs": [],
   "source": [
    "\"\"\" \n",
    "Designing the Data Pipeline:\n",
    "Data is loaded via Pandas from the prepared csv files under the directory PATH:../data/csv/.\n",
    "Via pgAdmin a Postgres database is constructed and all relevant tables are generated to persistently store\n",
    "the necessary health data.\n",
    "\"\"\"\n",
    "import psycopg2 #provides drivers for PostgreSQL\n",
    "import numpy as np\n",
    "import json #required to access json file\n",
    "import pandas as pd\n",
    "from sqlalchemy import create_engine\n"
   ]
  },
  {
   "cell_type": "markdown",
   "metadata": {},
   "source": [
    "#### Establish a Connection to the Postgres Database"
   ]
  }
 ],
 "metadata": {
  "kernelspec": {
   "display_name": "Python 3",
   "language": "python",
   "name": "python3"
  },
  "language_info": {
   "codemirror_mode": {
    "name": "ipython",
    "version": 3
   },
   "file_extension": ".py",
   "mimetype": "text/x-python",
   "name": "python",
   "nbconvert_exporter": "python",
   "pygments_lexer": "ipython3",
   "version": "3.7.6"
  }
 },
 "nbformat": 4,
 "nbformat_minor": 1
}