{
 "cells": [
  {
   "cell_type": "markdown",
   "metadata": {},
   "source": [
    "# Data Mining Analysis of Global Healthdata\n",
    "\n",
    "* Autor: Janina Alica Mattes\n",
    "* Date: 05.05.2020\n"
   ]
  },
  {
   "cell_type": "code",
   "execution_count": 7,
   "metadata": {},
   "outputs": [
    {
     "output_type": "error",
     "ename": "ModuleNotFoundError",
     "evalue": "No module named 'pandas'",
     "traceback": [
      "\u001b[1;31m---------------------------------------------------------------------------\u001b[0m",
      "\u001b[1;31mModuleNotFoundError\u001b[0m                       Traceback (most recent call last)",
      "\u001b[1;32m<ipython-input-7-36d8484ee182>\u001b[0m in \u001b[0;36m<module>\u001b[1;34m\u001b[0m\n\u001b[0;32m      8\u001b[0m \u001b[1;32mimport\u001b[0m \u001b[0mnumpy\u001b[0m \u001b[1;32mas\u001b[0m \u001b[0mnp\u001b[0m\u001b[1;33m\u001b[0m\u001b[1;33m\u001b[0m\u001b[0m\n\u001b[0;32m      9\u001b[0m \u001b[1;32mimport\u001b[0m \u001b[0mjson\u001b[0m \u001b[1;31m#required to access json file\u001b[0m\u001b[1;33m\u001b[0m\u001b[1;33m\u001b[0m\u001b[0m\n\u001b[1;32m---> 10\u001b[1;33m \u001b[1;32mimport\u001b[0m \u001b[0mpandas\u001b[0m \u001b[1;32mas\u001b[0m \u001b[0mpd\u001b[0m\u001b[1;33m\u001b[0m\u001b[1;33m\u001b[0m\u001b[0m\n\u001b[0m\u001b[0;32m     11\u001b[0m \u001b[1;32mfrom\u001b[0m \u001b[0msqlalchemy\u001b[0m \u001b[1;32mimport\u001b[0m \u001b[0mcreate_engine\u001b[0m\u001b[1;33m\u001b[0m\u001b[1;33m\u001b[0m\u001b[0m\n",
      "\u001b[1;31mModuleNotFoundError\u001b[0m: No module named 'pandas'"
     ]
    }
   ],
   "source": [
    "import psycopg2 #provides drivers for PostgreSQL\n",
    "import numpy as np\n",
    "import json #required to access json file\n",
    "import pandas as pd\n",
    "from sqlalchemy import create_engine\n"
   ]
  },
  {
   "cell_type": "markdown",
   "metadata": {},
   "source": [
    "#### Establish a Connection to the Postgres Database\n",
    "\n",
    "* The database connection parameters are defined in a .json file called ```configLocalP1.json```.\n",
    "* These connection-parameters can be loaded and importet as database configurations.\n",
    "    "
   ]
  },
  {
   "cell_type": "code",
   "execution_count": 5,
   "metadata": {},
   "outputs": [],
   "source": [
    " \"\"\"\n",
    " The code reads the contents of the .json file into a Python dictionary.\n",
    " \"\"\"\n",
    " with open('../db/configLocalP1.json') as f:\n",
    "    conf = json.load(f)"
   ]
  },
  {
   "cell_type": "code",
   "execution_count": 6,
   "metadata": {},
   "outputs": [
    {
     "output_type": "execute_result",
     "data": {
      "text/plain": "{'database': 'postgres_healthapp',\n 'schema': 'schema_name',\n 'user': 'jm105',\n 'host': 'localhost',\n 'port': '5432',\n 'passw': 'Bon123_bon123'}"
     },
     "metadata": {},
     "execution_count": 6
    }
   ],
   "source": [
    "\"\"\"\n",
    "Check that the configurations have been loaded successfully.\n",
    "\"\"\"\n",
    "conf"
   ]
  },
  {
   "cell_type": "code",
   "execution_count": 8,
   "metadata": {},
   "outputs": [
    {
     "output_type": "stream",
     "name": "stdout",
     "text": "<class 'dict'>\nName of database is:  postgres_healthapp\nName of user is:  jm105\n"
    }
   ],
   "source": [
    "print(type(conf))\n",
    "print(\"Name of database is: \", conf['database'])\n",
    "print(\"Name of user is: \", conf['user'])"
   ]
  },
  {
   "cell_type": "markdown",
   "metadata": {},
   "source": [
    "#### Create Connection String\n",
    "* The necessary paramters are retrieved from the beforehand parsed .json config file"
   ]
  },
  {
   "cell_type": "code",
   "execution_count": null,
   "metadata": {},
   "outputs": [],
   "source": [
    "\"\"\"\n",
    "The information from the conf-dictionary is integrated in a string-variable conn_str, which is passed to the connect()-method of psycopg2. This method returns a connection-object to the configured database.\n",
    "\"\"\"\n",
    "conn_str = \"host={} dbname={} user={} password={}\".format(conf[\"host\"], conf[\"database\"], conf[\"user\"], conf[\"passw\"])\n",
    "conn = psycopg2.connect(conn_str)"
   ]
  },
  {
   "cell_type": "markdown",
   "metadata": {},
   "source": [
    "## Designing the Data Pipeline:\n",
    "\n",
    "Data is loaded via Pandas from the prepared csv files under the directory PATH:../data/csv/.\n",
    "Via pgAdmin a Postgres database is constructed and all relevant tables are generated to persistently store\n",
    "the necessary health data."
   ]
  },
  {
   "cell_type": "code",
   "execution_count": null,
   "metadata": {},
   "outputs": [],
   "source": [
    "\"\"\"\n",
    "Generate a cursor-object for the connection. This cursor-object can then be used to execute SQL-queries.\n",
    "\"\"\"\n",
    "cur = conn.cursor()"
   ]
  },
  {
   "cell_type": "code",
   "execution_count": null,
   "metadata": {},
   "outputs": [],
   "source": [
    "\"\"\"\n",
    "Create datatable __country__ \n",
    "\"\"\"\n",
    "cur.excute(\n",
    "  \"CREATE TABLE IF NOT EXISTS country (\\\n",
    "  id int PRIMARY KEY,\\\n",
    "  name text,\\\n",
    "  alpha_2 CHAR(2),\\\n",
    "  alpha_3 CHAR(3),\\\n",
    "  code int,\\\n",
    "  iso_3166_2 VARCHAR(25),\\\n",
    "  region VARCHAR(25),\\\n",
    "  sub_region text,\\\n",
    "  intermediate_region text\\);\"\n",
    "  )"
   ]
  },
  {
   "cell_type": "code",
   "execution_count": null,
   "metadata": {},
   "outputs": [],
   "source": [
    "\"\"\"\n",
    "Create datatable __region__ \n",
    "\"\"\"\n",
    "cur.excute(\n",
    "  \"CREATE TABLE IF NOT EXISTS country (\\\n",
    "  id int PRIMARY KEY,\\\n",
    "  country varchar(80) references country(id),\\\n",
    "  name text,\\\n",
    "  alpha_2 CHAR(2),\\\n",
    "  alpha_3 CHAR(3),\\\n",
    "  code int,\\\n",
    "  iso_3166_2 VARCHAR(25),\\\n",
    "  region VARCHAR(25),\\\n",
    "  sub_region text,\\\n",
    "  intermediate_region text\\);\"\n",
    "  )"
   ]
  }
 ],
 "metadata": {
  "kernelspec": {
   "display_name": "Python 3",
   "language": "python",
   "name": "python3"
  },
  "language_info": {
   "codemirror_mode": {
    "name": "ipython",
    "version": 3
   },
   "file_extension": ".py",
   "mimetype": "text/x-python",
   "name": "python",
   "nbconvert_exporter": "python",
   "pygments_lexer": "ipython3",
   "version": "3.7.6-final"
  }
 },
 "nbformat": 4,
 "nbformat_minor": 1
}